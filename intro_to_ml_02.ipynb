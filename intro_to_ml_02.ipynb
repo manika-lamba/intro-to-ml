{
 "cells": [
  {
   "cell_type": "markdown",
   "id": "elegant-architecture",
   "metadata": {},
   "source": [
    "# Introduction to Machine Learning<br><br>Day 02:<br>Topic Modeling"
   ]
  },
  {
   "cell_type": "markdown",
   "id": "coupled-seminar",
   "metadata": {},
   "source": [
    "<center>Dr. William Mattingly<br>\n",
    "TAP Institute with JSTOR</center>"
   ]
  },
  {
   "cell_type": "markdown",
   "id": "closed-sequence",
   "metadata": {},
   "source": [
    "## Preface"
   ]
  },
  {
   "cell_type": "markdown",
   "id": "august-revolution",
   "metadata": {},
   "source": [
    "In the last notebook, we learned about some of the fundamental concepts and terms for engaging in machine learning. In this notebook, we begin to apply those concepts to an unsuperivsed learning problem: topic modeling. This is an unsupervsed learning problem because we will not know the number of topics found within our corpus. Instead, we want to create a model that will cluster the data and find topics (based on a number we assign) across an entire corpus."
   ]
  },
  {
   "cell_type": "markdown",
   "id": "later-norfolk",
   "metadata": {},
   "source": [
    "## Covered in this Notebook"
   ]
  },
  {
   "cell_type": "markdown",
   "id": "collaborative-wireless",
   "metadata": {},
   "source": [
    "1) What is topic modeling?<br>\n",
    "2) When should I use topic modeling?<br>\n",
    "3) Clusters<br>\n",
    "4) Topics<br>\n",
    "5) The Gensim Library in Python"
   ]
  },
  {
   "cell_type": "markdown",
   "id": "straight-determination",
   "metadata": {},
   "source": [
    "## Part One - What is Topic Modeling?"
   ]
  },
  {
   "cell_type": "markdown",
   "id": "violent-salmon",
   "metadata": {},
   "source": [
    "Topic modeling and text classification (addressed below) is a branch of natural language understanding, better known as NLP. It is closely connected to natural language understanding, better known as NLU. NLP is the process by which a researcher uses a computer system to parse human language and extract important metadata from texts. The purpose of NLP is to perform, among other things, distant reding.\n",
    "\n",
    "Distant reading has a long history extending to the late-twentieth century. It is commonly used when the quantity of texts in a given corpus prevent a researcher (or a team of researchers) from reading the corpus closely in its entirety. In order to make sense of that large corpus, the researcher will often pass certain tasks to a computer with the understanding that there is a margin of error. This margin of error is accepted in exchange for the ability to gain a larger, distant understanding of that corpus.\n",
    "\n",
    "The metadata from these tasks can then be used to get a sense of the texts without reading them closely, hence the term distant reading.\n",
    "\n",
    "To get a better understanding of how these fields relate to one another, please see the image below."
   ]
  },
  {
   "cell_type": "markdown",
   "id": "contemporary-consequence",
   "metadata": {},
   "source": [
    "<img src=\"https://cdn-images-1.medium.com/max/1000/1*Uf_qQ0zF8G8y9zUhndA08w.png\" alt=\"fishy\" class=\"bg-primary\" width=\"700px\">"
   ]
  },
  {
   "cell_type": "markdown",
   "id": "ruled-portuguese",
   "metadata": {},
   "source": [
    "This image is commonly shared across various NLP tutorials and for good reason. It accuarately portrays the diverse field of NLP and its close partner fields of NLU and ASR. The goal of NLU is to give a computer system a text (or collection of texts) and produce some sense of understanding about that text or those texts.\n",
    "\n",
    "There are various types of tasks that fall under NLU, including paraphrase and natural language inference. This is when a computer system takes an input text of, say 5,000 words, reduces that text to its core components, and outputs a summary of the text. This is a task often used by law firms that need to gain a quick understanding of a large corpus of documents to target their investigation and use their time wisely. Another task is sentiment analysis in which a user gives a computer system a text and the system determines whether it is x or y. This is often used by social media companies to determine if a text is abusive so that they can flag and delete inappropriate content automatically.\n",
    "\n",
    "A common form of NLP and the subject of these notebooks is topic modeling and text classification. While closely linked and rather similar, they are distinct methods that perform distinct tasks. For topic modeling, we give a computer system a text and it tells us what topic(s) is (are) discussed in it. For text classification, we give a system a text and it classifies it into certain categories. In essense, while NLP is essential for working with textual data in a computer environment by parsing it and identifying its key components, NLU goes one step further and tries to understand that same data the way a human may.\n",
    "\n",
    "For all NLP and NLU tasks, there are rules-based and machine learning-based approaches. In this notebook, we will be looking at each. Parts Two and Three in this book are focused on clustering and topic modeling. In Part Two, we will explore rules-based methods, such as Term Frequency-Inverse Document Frequency, better known as TF-IDF; and in Part Three we will explore machine learning-based methods, specifically Latent Dirichlet Allocation models, better known as LDA models.\n",
    "\n",
    "Before we move into those subjects, something should be said of rules-based vs. machine learning-based approaches."
   ]
  },
  {
   "cell_type": "markdown",
   "id": "virgin-volleyball",
   "metadata": {},
   "source": [
    "A rules-based approach to topic modeling uses a set of rules to extract topics from a text. It does this by identifying keywords in each text in a corpus. One of the most common ways to perform this task is via TF-IDF, or term frequency-inverse document frequency. We will discuss this method a lot more in Part Two of these notebooks. Simply put, a TF-IDF looks for a word’s frequency in a single text, respective to that word’s use across the corpus as a whole. If that word occurs infrequently in all other documents, but frequently in one document, then we use rules to identify the document that sees one word used with a high frequency as the chief document of a given topic.\n",
    "\n",
    "For certain problems, a rules-based approach is particularly useful. As we will see, documents that are shorter, such as tweets, tend to fare better from rules-based approaches."
   ]
  },
  {
   "cell_type": "markdown",
   "id": "egyptian-emperor",
   "metadata": {},
   "source": [
    "Another option to identify topics in a text is via a machine learning-based approach. In this method, we do not give a computer system a set of rules, rather we let the computer generate its own rules to identify topics in a corpus. This is done in two different ways: supervised and unsupervised learning.\n",
    "\n",
    "In supervised learning, we know the key subjects in a corpus. We give a computer system a set of documents with their corresponding label to teach it to identify the characteristics that make that particular topic or class unique. This is mostly used for text classification.\n",
    "\n",
    "Another approach is via unsupervised learning. In unsupervised learning, we do not know the topics of our documents and, instead, we want let the system identify those topics and cluster the ones of a highd degree of similarity together. We then examine the words that occur the most frequently in each cluster to get a sense of the topics at hand. The classic example for machine learning topic modeling is LDA, or Latent Dirichlet Allocation. We will learn about this method in far more detail in Part Three."
   ]
  },
  {
   "cell_type": "markdown",
   "id": "plain-madness",
   "metadata": {},
   "source": [
    "## Part Two - When to Use Topic Modeling"
   ]
  },
  {
   "cell_type": "markdown",
   "id": "surface-township",
   "metadata": {},
   "source": [
    "All of this leads to a vital question: Why use topic modeling? Topic modeling affords researchers the ability to learn a lot about their corpus very quickly. It is often used whent he corpus is so large that no single human could read it in a single lifetime.\n",
    "\n",
    "In both a rules-based and machine learning-based approach, a researcher can see what major subjects are discussed in a corpus. This information can be used to perform targetted research by weeding out the documents that likely do not contain the information the researcher needs. Additionally, the information drawn from topic modeling can be used to make large deductions about the corpus at hand. We will see that topic modeling can be used to draw imprecise or incorrect conclusions.\n",
    "\n",
    "It is vital, however, to understand the limitations of topic modeling. There is always a potential for the researcher to use topic modeling to validate a wrong presumption about the data. Throughout this series, I will emphasize methodological steps that can (and should) be taken to limit these mistakes. Despite this potential for error, topic modeling can provide valuable insight, relatively quickly about a large corpus."
   ]
  },
  {
   "cell_type": "markdown",
   "id": "urban-somerset",
   "metadata": {},
   "source": [
    "## Part Three - What are Clusters and Topics?"
   ]
  },
  {
   "cell_type": "markdown",
   "id": "personal-elevation",
   "metadata": {},
   "source": [
    "Topics are labels assigned to textual data that detail the subjects contained within a given text. In topic modeling we try to create computer systems that can assign topics the way a human would. In order to understand this process, it’s best if we take a step back and think about how we assign topics.\n",
    "\n",
    "To do this, let’s examine these two texts.\n",
    "\n",
    "Text 1: Thomas enjoys playing basketball. He is an exceptionally good point guard.<br>\n",
    "Text 2: Victoria enjoys playing baseball. She is an exceptionally good at playing first base.\n",
    "\n",
    "If I asked you to provide two topics to these texts, what might they be? Basketball and baseball are likely two top candidates. Text 1 would have the topic of basketball, while text 2 would have the topic of baseball. Now, let’s consider these same texts, but add two more into the mix.\n",
    "\n",
    "Text 3: John is a talented chef. He enjoys making pasta professionally.<br>\n",
    "Text 4: Jeff is a talented cook. He owns a pizzaria.\n",
    "\n",
    "Now, if I asked you to assign two topics to all four texts, what might those topics be? It is likely that your answer changed. No longer are the two topics of baseball and basketball relevant because Text 3 and Text 4 do not align well with those topics. Instead, a better pair of topics might be sports and cooking, or something like that. What changed? The collection of texts in our corpus changed.\n",
    "\n",
    "What does this demonstrate? It tells us that topics are corpus-dependent, meaning the topics we assign to texts depend on their context against surrounding texts. The same holds true for topic modeling via computer systems.\n",
    "\n",
    "In topic modeling, computer systems do not generate topics, rather they generate a list of high concentration words. Texts that share common terms are clustered together by similarity. A cluster is nothing more than a collection of similar texts."
   ]
  },
  {
   "cell_type": "markdown",
   "id": "fuzzy-doubt",
   "metadata": {},
   "source": [
    "## Part Four - Introduction to Gensim"
   ]
  },
  {
   "cell_type": "markdown",
   "id": "prerequisite-injury",
   "metadata": {},
   "source": [
    "Gensim is a powerful Python library that was originally designed to produce good topic models. Topic models are machine learning models that read over an entire corpus and cluster individual documents into clusters of similarity. In order to produce good results, Gensim (and other topic modeling methods) are reliant upon numerical represntations of words. In other words, these methods depend on word vectors. To have accurate results, therefore, Gensim is capable of generating word vectors with relatively minimal code. SpaCy, on the other hand, is an NLP library not capable of generating custom word vectors. While users can inject to words into models, spaCy is not designed to generate word vectors on its own. For this reason, even spaCy’s documentation recomends using other libraries, such as Gensim to generate word vectors.\n",
    "\n",
    "In this notebook, we will be going through the process of generating our own word vectors. In order to reduce the time to perform the task at hand, we will use a toy corpus. This process, however, can easily be scaled for a corpus of millions of documents.\n",
    "\n",
    "In order to generate word vectors, we need one thing: a corpus/ Let’s create one right now."
   ]
  },
  {
   "cell_type": "code",
   "execution_count": 1,
   "id": "aerial-jumping",
   "metadata": {},
   "outputs": [],
   "source": [
    "corpus = \"Tom is cat, while Jerry is a mouse. Tom and Jerry are characters in a cartoon series. Some of the cartoons contain words, but most are silent. Silent cartoons still have music and sound effects.\""
   ]
  },
  {
   "cell_type": "markdown",
   "id": "colored-publication",
   "metadata": {},
   "source": [
    "Before we can give this corpus to Gensim, however, we need to do a few preprocessing techniques to it.\n",
    "\n",
    "1. First, we need to remove the stopwords from the corpus. Stopwords are words that occur frequently in a corpus, so frequently that they do not necessarily offer much meaning for distant reading and, as a result, throw off machine learning models. Other stopwords are words that occur with high frequency in a langauge as a whole. For our purposes, we will use the following stopwords available from the NLTK (natural language toolkit)"
   ]
  },
  {
   "cell_type": "code",
   "execution_count": 2,
   "id": "several-neighborhood",
   "metadata": {},
   "outputs": [
    {
     "name": "stdout",
     "output_type": "stream",
     "text": [
      "tom cat, jerry mouse. tom jerry characters cartoon series. cartoons contain words, silent. silent cartoons still music sound effects.\n"
     ]
    }
   ],
   "source": [
    "stopwords = [\"i\",\"me\",\"my\",\"myself\",\"we\",\"our\",\"ours\",\"ourselves\",\"you\",\"your\",\"yours\",\"yourself\",\"yourselves\",\n",
    "             \"he\",\"him\",\"his\",\"himself\",\"she\",\"her\",\"hers\",\"herself\",\"it\",\"its\",\"itself\",\"they\",\"them\",\"their\",\n",
    "             \"theirs\",\"themselves\",\"what\",\"which\",\"who\",\"whom\",\"this\",\"that\",\"these\",\"those\",\"am\",\"is\",\"are\",\"was\",\n",
    "             \"were\",\"be\",\"been\",\"being\",\"have\",\"has\",\"had\",\"having\",\"do\",\"does\",\"did\",\"doing\",\"a\",\"an\",\"the\",\"and\",\n",
    "             \"but\",\"if\",\"or\",\"because\",\"as\",\"until\",\"while\",\"of\",\"at\",\"by\",\"for\",\"with\",\"about\",\"against\",\"between\",\n",
    "             \"into\",\"through\",\"during\",\"before\",\"after\",\"above\",\"below\",\"to\",\"from\",\"up\",\"down\",\"in\",\"out\",\"on\",\"off\",\n",
    "             \"over\",\"under\",\"again\",\"further\",\"then\",\"once\",\"here\",\"there\",\"when\",\"where\",\"why\",\"how\",\"all\",\"any\",\"both\",\n",
    "             \"each\",\"few\",\"more\",\"most\",\"other\",\"some\",\"such\",\"no\",\"nor\",\"not\",\"only\",\"own\",\"same\",\"so\",\"than\",\"too\",\"very\",\n",
    "             \"s\",\"t\",\"can\",\"will\",\"just\",\"don\",\"should\",\"now\"\n",
    "            ]\n",
    "corpus = corpus.lower()\n",
    "words = corpus.split()\n",
    "\n",
    "new_corpus = []\n",
    "for word in words:\n",
    "    if word not in stopwords:\n",
    "        new_corpus.append(word)\n",
    "\n",
    "corpus = \" \".join(new_corpus)\n",
    "print (corpus)"
   ]
  },
  {
   "cell_type": "markdown",
   "id": "political-platinum",
   "metadata": {},
   "source": [
    "2. Second, this corpus should be divided into sentences. In order to do that, I recommend using spaCy’s sentence tokenizer.<br>\n",
    "3. While we do this, we should also eliminate the punctuation from the sentences. We can do this with the standard string library from Python.<br>\n",
    "4. Also at this stage, we should lowercase our words (OPTIONAL)<br>\n",
    "4. If we wish to produce a smaller amount of word vectors, we could also consider lemmatizing our words as well (OPTIONAL)<br>\n",
    "5. We need to split the sentence into words and append that list of words to a new object"
   ]
  },
  {
   "cell_type": "code",
   "execution_count": 3,
   "id": "acquired-cheat",
   "metadata": {},
   "outputs": [
    {
     "name": "stdout",
     "output_type": "stream",
     "text": [
      "[['tom', 'cat', 'jerry', 'mouse'], ['tom', 'jerry', 'characters', 'cartoon', 'series'], ['cartoons', 'contain', 'words', 'silent'], ['silent', 'cartoons', 'still', 'music', 'sound', 'effects']]\n"
     ]
    }
   ],
   "source": [
    "import spacy\n",
    "import string\n",
    "\n",
    "nlp = spacy.load(\"en_core_web_sm\")\n",
    "doc = nlp(corpus)\n",
    "\n",
    "sentences = []\n",
    "for sent in doc.sents:\n",
    "    sentence = sent.text.translate(str.maketrans('', '', string.punctuation))\n",
    "    words = sentence.split()\n",
    "    sentences.append(words)\n",
    "print (sentences)"
   ]
  },
  {
   "cell_type": "markdown",
   "id": "several-decision",
   "metadata": {},
   "source": [
    "## Part Five - Creating Word Vectors"
   ]
  },
  {
   "cell_type": "markdown",
   "id": "broad-strap",
   "metadata": {},
   "source": [
    "At this stage, we can start preparing our word vectors. To do this, we will use the function below."
   ]
  },
  {
   "cell_type": "code",
   "execution_count": 4,
   "id": "rising-harbor",
   "metadata": {},
   "outputs": [
    {
     "name": "stderr",
     "output_type": "stream",
     "text": [
      "C:\\Users\\wma22\\anaconda3\\envs\\text_class_spacy_3x\\lib\\site-packages\\gensim\\similarities\\__init__.py:15: UserWarning: The gensim.similarities.levenshtein submodule is disabled, because the optional Levenshtein package <https://pypi.org/project/python-Levenshtein/> is unavailable. Install Levenhstein (e.g. `pip install python-Levenshtein`) to suppress this warning.\n",
      "  warnings.warn(msg)\n"
     ]
    }
   ],
   "source": [
    "def create_wordvecs(corpus, model_name):\n",
    "    from gensim.models.word2vec import Word2Vec\n",
    "    w2v_model = Word2Vec(min_count=1)\n",
    "    w2v_model.build_vocab(sentences)\n",
    "    w2v_model.train(sentences, total_examples=w2v_model.corpus_count, epochs=30, report_delay=1)\n",
    "    w2v_model.wv.save_word2vec_format(f\"data/{model_name}.txt\")\n",
    "create_wordvecs(sentences, \"word_vecs\")"
   ]
  },
  {
   "cell_type": "markdown",
   "id": "fourth-uganda",
   "metadata": {},
   "source": [
    "Now, we can open up our word vectors and examine them. The first line in this text file will be the shape of the word vectors. This should be two integers. The first number (17) is the number of unique words in the vocabulary. The second number (10) are the number of dimensions of each word."
   ]
  },
  {
   "cell_type": "code",
   "execution_count": 5,
   "id": "important-astronomy",
   "metadata": {},
   "outputs": [
    {
     "name": "stdout",
     "output_type": "stream",
     "text": [
      "15 100\n",
      "\n"
     ]
    }
   ],
   "source": [
    "with open (\"data/word_vecs.txt\", \"r\") as f:\n",
    "    data = f.readlines()\n",
    "    print (data[0])"
   ]
  },
  {
   "cell_type": "markdown",
   "id": "familiar-monkey",
   "metadata": {},
   "source": [
    "Let’s look at the first word in our word vectors, “silent”:"
   ]
  },
  {
   "cell_type": "code",
   "execution_count": 6,
   "id": "helpful-rochester",
   "metadata": {},
   "outputs": [
    {
     "name": "stdout",
     "output_type": "stream",
     "text": [
      "silent -0.00054096937 0.00023816715 0.0051021995 0.009006135 -0.009300297 -0.0071164677 0.0064598355 0.00897975 -0.0050193104 -0.0037623234 0.0073800264 -0.0015330206 -0.0045433184 0.0065578683 -0.004862911 -0.001817435 0.0028776203 0.0009981464 -0.008280853 -0.009456136 0.0073130513 0.0050611165 0.0067697237 0.0007680518 0.0063493964 -0.003403032 -0.00094805425 0.0057731112 -0.0075262673 -0.0039340584 -0.007505744 -0.0009285571 0.009542602 -0.0073249387 -0.002325071 -0.0019412229 0.008077628 -0.0059301443 4.4383218e-05 -0.0047524283 -0.009602784 0.0050010644 -0.008770156 -0.004384546 -3.431853e-05 -0.00030049618 -0.007657594 0.009613245 0.004982054 0.009229672 -0.008153839 0.0044951704 -0.0041342853 0.00082299445 0.008498835 -0.004468288 0.004511762 -0.0067935865 -0.0035477346 0.009396493 -0.0015808161 0.00031599196 -0.0041384036 -0.007684123 -0.0015134802 0.0024720856 -0.00087977306 0.005536616 -0.0027453955 0.0022682755 0.0054518464 0.008352847 -0.001456623 -0.0092013 0.0043750172 0.00057682244 0.0074403184 -0.00080875977 -0.0026344808 -0.008758771 -0.000863235 0.0028255943 0.005407263 0.0070528826 -0.005711897 0.0018537375 0.0060960655 -0.0048010536 -0.0031143127 0.0067949467 0.001636128 0.00018571544 0.003478543 0.00021305577 0.009619703 0.0050555817 -0.00890786 -0.0070408345 0.00089970743 0.006396157\n",
      "\n"
     ]
    }
   ],
   "source": [
    " print (data[1])"
   ]
  },
  {
   "cell_type": "markdown",
   "id": "civilian-rugby",
   "metadata": {},
   "source": [
    "Here, we see two pieces of information. The first is a string and it is the word itself. In this case, “silent”. The second bit of data is a series of 10 floats. These are our dimensions for the word. This is the numerical way in which “silent” is understood by the Gensim model."
   ]
  },
  {
   "cell_type": "markdown",
   "id": "willing-swing",
   "metadata": {},
   "source": [
    "# Part Six - Topic Modeling with Gensim"
   ]
  },
  {
   "cell_type": "markdown",
   "id": "retired-photography",
   "metadata": {},
   "source": [
    "With these understandings now down, it is time to engage in topic modeling with Gensim. To do this, we will use a sample dataset known as the 20-newsgroups dataset. In what follows, we will largely follow the standard Gensim tutorial: https://www.machinelearningplus.com/nlp/topic-modeling-gensim-python/ with significant modifications. My modifications are designed to reduce the complexity of topic modeling for entry-level students. I have also updated the visualization code.\n",
    "\n",
    "We first need to load in the data. To do that, we will use Pandas and its built in read_json() function. This will allow us to grab the data from the internet and automatically format it for us to work with it in Python."
   ]
  },
  {
   "cell_type": "code",
   "execution_count": 7,
   "id": "danish-weapon",
   "metadata": {},
   "outputs": [],
   "source": [
    "import pandas as pd\n",
    "df = pd.read_json('https://raw.githubusercontent.com/selva86/datasets/master/newsgroups.json')"
   ]
  },
  {
   "cell_type": "markdown",
   "id": "clean-brazil",
   "metadata": {},
   "source": [
    "Now that we have the we have the data loaded, let's convert it to a list and take a look at it. Here's a sample of one entry in the dataset:"
   ]
  },
  {
   "cell_type": "code",
   "execution_count": 8,
   "id": "accepted-greenhouse",
   "metadata": {},
   "outputs": [
    {
     "name": "stdout",
     "output_type": "stream",
     "text": [
      "From: guykuo@carson.u.washington.edu (Guy Kuo)\n",
      "Subject: SI Clock Poll - Final Call\n",
      "Summary: Final call for SI clock reports\n",
      "Keywords: SI,acceleration,clock,upgrade\n",
      "Article-I.D.: shelley.1qvfo9INNc3s\n",
      "Organization: University of Washington\n",
      "Lines: 11\n",
      "NNTP-Posting-Host: carson.u.washington.edu\n",
      "\n",
      "A fair number of brave souls who upgraded their SI clock oscillator have\n",
      "shared their experiences for this poll. Please send a brief message detailing\n",
      "your experiences with the procedure. Top speed attained, CPU rated speed,\n",
      "add on cards and adapters, heat sinks, hour of usage per day, floppy disk\n",
      "functionality with 800 and 1.4 m floppies are especially requested.\n",
      "\n",
      "I will be summarizing in the next two days, so please add to the network\n",
      "knowledge base if you have done the clock upgrade and haven't answered this\n",
      "poll. Thanks.\n",
      "\n",
      "Guy Kuo <guykuo@u.washington.edu>\n",
      "\n"
     ]
    }
   ],
   "source": [
    "news_data = df.content.values.tolist()\n",
    "print (news_data[1])"
   ]
  },
  {
   "cell_type": "markdown",
   "id": "equal-audience",
   "metadata": {},
   "source": [
    "Let's take note of the features of this dataset. Each item in the dataset will have some preliminary header data (which we do not need), separated by a double line break. That which comes after the double line break is the key piece of the message that we are interested in. We are also not interested in email addresses. With this bit of information, we can write a few rules to remove the header and clean up the data. In addition to that, we can leverage the power of Gensim's built in simple_preprocess() function that allows us to easily clean and structure texts for topic modeling. The code that follows is not what I would call \"efficient\" nor is it the most Pythonic way to achieve the tasks at hand. It is, however, easier to parse for new coders. I have, therefore, opted to be more verbose in my code so that the reader will be able to more easily follow along."
   ]
  },
  {
   "cell_type": "code",
   "execution_count": 14,
   "id": "previous-belief",
   "metadata": {},
   "outputs": [
    {
     "name": "stderr",
     "output_type": "stream",
     "text": [
      "C:\\Users\\wma22\\anaconda3\\envs\\text_class_spacy_3x\\lib\\site-packages\\ipykernel\\ipkernel.py:287: DeprecationWarning: `should_run_async` will not call `transform_cell` automatically in the future. Please pass the result to `transformed_cell` argument and any exception that happen during thetransform in `preprocessing_exc_tuple` in IPython 7.17 and above.\n",
      "  and should_run_async(code)\n",
      "<>:9: DeprecationWarning: invalid escape sequence \\S\n",
      "<>:9: DeprecationWarning: invalid escape sequence \\S\n",
      "<ipython-input-14-17f4b10d4607>:9: DeprecationWarning: invalid escape sequence \\S\n",
      "  item = re.sub('\\S*@\\S*\\s?', '', item)\n"
     ]
    },
    {
     "name": "stdout",
     "output_type": "stream",
     "text": [
      "['fair', 'number', 'brave', 'souls', 'upgraded', 'clock', 'oscillator', 'shared', 'experiences', 'poll', 'please', 'send', 'brief', 'message', 'detailing', 'experiences', 'procedure', 'speed', 'attained', 'rated', 'speed', 'cards', 'adapters', 'heat', 'sinks', 'hour', 'usage', 'floppy', 'disk', 'functionality', 'floppies', 'especially', 'requested', 'summarizing', 'next', 'days', 'please', 'network', 'knowledge', 'base', 'done', 'clock', 'upgrade', 'haven', 'answered', 'poll', 'thanks']\n"
     ]
    }
   ],
   "source": [
    "import re\n",
    "from gensim.utils import simple_preprocess\n",
    "final = []\n",
    "for item in news_data:\n",
    "    #separate the header from the main body of the text\n",
    "    item = item.split(\"\\n\\n\", 1)[1]\n",
    "    \n",
    "    #remove all email addresses with Regex\n",
    "    item = re.sub('\\S*@\\S*\\s?', '', item)\n",
    "    \n",
    "    #create a list of words by removing all non-text material, specifically punctuation and numbers\n",
    "    words = simple_preprocess(item)\n",
    "    \n",
    "    #create an empty list to append to\n",
    "    final_words = []\n",
    "    \n",
    "    #make sure all the words are not stopwords (the list we created above)\n",
    "    for word in words:\n",
    "        if word not in stopwords:\n",
    "            \n",
    "            #eliminate short words. This dataset has a lot of \"rx\", \"rz\", etc. data that may throw off the model.\n",
    "            if len(word) > 3:\n",
    "                words = final_words.append(word)\n",
    "    final.append(final_words)\n",
    "print (final[1])"
   ]
  },
  {
   "cell_type": "markdown",
   "id": "alleged-discussion",
   "metadata": {},
   "source": [
    "Our dataset now is properly cleaned and in the format Gensim expects. Now, it's time to create a model. We will not be finetuning this model or exploring all the various hyperparameters available to researchers. Instead, we will create a basic model. I always like to do this as a first pass with my topic modeling."
   ]
  },
  {
   "cell_type": "code",
   "execution_count": 19,
   "id": "removable-brass",
   "metadata": {},
   "outputs": [
    {
     "name": "stderr",
     "output_type": "stream",
     "text": [
      "C:\\Users\\wma22\\anaconda3\\envs\\text_class_spacy_3x\\lib\\site-packages\\ipykernel\\ipkernel.py:287: DeprecationWarning: `should_run_async` will not call `transform_cell` automatically in the future. Please pass the result to `transformed_cell` argument and any exception that happen during thetransform in `preprocessing_exc_tuple` in IPython 7.17 and above.\n",
      "  and should_run_async(code)\n"
     ]
    }
   ],
   "source": [
    "import gensim\n",
    "import gensim.corpora as corpora\n",
    "id2word = corpora.Dictionary(final)\n",
    "corpus = [id2word.doc2bow(text) for text in final]\n",
    "lda_model = gensim.models.ldamodel.LdaModel(corpus=corpus, id2word=id2word, num_topics=20, chunksize=100, passes=10)"
   ]
  },
  {
   "cell_type": "code",
   "execution_count": 20,
   "id": "annoying-cancellation",
   "metadata": {},
   "outputs": [
    {
     "name": "stdout",
     "output_type": "stream",
     "text": [
      "(0, '0.058*\"health\" + 0.045*\"medical\" + 0.042*\"insurance\" + 0.034*\"father\" + 0.034*\"kids\" + 0.033*\"disease\" + 0.032*\"treatment\" + 0.031*\"patients\" + 0.024*\"offers\" + 0.021*\"studies\"')\n",
      "(1, '0.094*\"physical\" + 0.067*\"master\" + 0.064*\"window\" + 0.043*\"friend\" + 0.027*\"becomes\" + 0.023*\"direct\" + 0.020*\"became\" + 0.017*\"georgia\" + 0.016*\"militia\" + 0.016*\"beings\"')\n",
      "(2, '0.024*\"would\" + 0.023*\"writes\" + 0.020*\"article\" + 0.016*\"like\" + 0.013*\"think\" + 0.012*\"know\" + 0.011*\"time\" + 0.009*\"good\" + 0.009*\"could\" + 0.009*\"well\"')\n",
      "(3, '0.016*\"drive\" + 0.014*\"thanks\" + 0.013*\"system\" + 0.013*\"mail\" + 0.011*\"please\" + 0.011*\"also\" + 0.010*\"windows\" + 0.009*\"computer\" + 0.009*\"using\" + 0.009*\"program\"')\n",
      "(4, '0.026*\"video\" + 0.023*\"serial\" + 0.022*\"driver\" + 0.018*\"number\" + 0.017*\"mouse\" + 0.015*\"dave\" + 0.015*\"input\" + 0.014*\"function\" + 0.014*\"line\" + 0.014*\"return\"')\n",
      "(5, '0.049*\"values\" + 0.045*\"floppy\" + 0.045*\"islam\" + 0.032*\"upgrade\" + 0.031*\"islamic\" + 0.030*\"registration\" + 0.024*\"muslims\" + 0.022*\"muslim\" + 0.015*\"pointer\" + 0.011*\"upgraded\"')\n",
      "(6, '0.045*\"price\" + 0.040*\"books\" + 0.036*\"color\" + 0.035*\"sale\" + 0.033*\"player\" + 0.032*\"model\" + 0.027*\"offer\" + 0.023*\"sound\" + 0.018*\"sell\" + 0.018*\"corp\"')\n",
      "(7, '0.064*\"runs\" + 0.053*\"list\" + 0.035*\"copies\" + 0.033*\"weight\" + 0.025*\"waste\" + 0.024*\"feature\" + 0.024*\"mailing\" + 0.019*\"offense\" + 0.019*\"boards\" + 0.018*\"staff\"')\n",
      "(8, '0.070*\"test\" + 0.062*\"family\" + 0.060*\"wings\" + 0.029*\"intel\" + 0.023*\"brother\" + 0.022*\"radar\" + 0.020*\"june\" + 0.017*\"qualified\" + 0.016*\"headaches\" + 0.016*\"experiment\"')\n",
      "(9, '0.071*\"chip\" + 0.038*\"government\" + 0.035*\"clipper\" + 0.032*\"keys\" + 0.030*\"security\" + 0.027*\"public\" + 0.022*\"tape\" + 0.021*\"secure\" + 0.019*\"chips\" + 0.019*\"andrew\"')\n",
      "(10, '0.036*\"team\" + 0.034*\"year\" + 0.030*\"game\" + 0.020*\"play\" + 0.018*\"games\" + 0.015*\"season\" + 0.015*\"last\" + 0.014*\"division\" + 0.014*\"points\" + 0.013*\"cars\"')\n",
      "(11, '0.044*\"drives\" + 0.041*\"safety\" + 0.039*\"president\" + 0.036*\"guns\" + 0.033*\"weapons\" + 0.027*\"crime\" + 0.023*\"weapon\" + 0.022*\"rate\" + 0.020*\"carry\" + 0.019*\"status\"')\n",
      "(12, '0.100*\"space\" + 0.030*\"earth\" + 0.028*\"nasa\" + 0.021*\"moon\" + 0.021*\"orbit\" + 0.020*\"launch\" + 0.019*\"research\" + 0.018*\"shuttle\" + 0.016*\"vehicle\" + 0.016*\"scientific\"')\n",
      "(13, '0.073*\"file\" + 0.072*\"graphics\" + 0.064*\"entry\" + 0.050*\"image\" + 0.049*\"files\" + 0.024*\"selling\" + 0.022*\"flight\" + 0.021*\"imaging\" + 0.021*\"images\" + 0.019*\"author\"')\n",
      "(14, '0.158*\"israel\" + 0.060*\"jews\" + 0.032*\"jewish\" + 0.032*\"arab\" + 0.031*\"occupied\" + 0.025*\"brian\" + 0.025*\"errors\" + 0.022*\"jason\" + 0.020*\"arabs\" + 0.019*\"peace\"')\n",
      "(15, '0.032*\"jesus\" + 0.028*\"faith\" + 0.024*\"bible\" + 0.023*\"christians\" + 0.021*\"believe\" + 0.019*\"christian\" + 0.017*\"reason\" + 0.017*\"religion\" + 0.014*\"christ\" + 0.014*\"life\"')\n",
      "(16, '0.016*\"national\" + 0.015*\"states\" + 0.015*\"april\" + 0.012*\"university\" + 0.011*\"canada\" + 0.010*\"year\" + 0.010*\"california\" + 0.010*\"washington\" + 0.009*\"level\" + 0.009*\"internal\"')\n",
      "(17, '0.039*\"senses\" + 0.027*\"encryption\" + 0.021*\"public\" + 0.017*\"chicago\" + 0.016*\"court\" + 0.016*\"legal\" + 0.016*\"period\" + 0.015*\"federal\" + 0.014*\"explain\" + 0.012*\"drug\"')\n",
      "(18, '0.013*\"said\" + 0.013*\"military\" + 0.013*\"soldiers\" + 0.011*\"turkish\" + 0.011*\"government\" + 0.010*\"villages\" + 0.010*\"killed\" + 0.009*\"people\" + 0.008*\"turks\" + 0.008*\"greek\"')\n",
      "(19, '0.027*\"people\" + 0.019*\"evidence\" + 0.010*\"many\" + 0.009*\"reason\" + 0.009*\"fact\" + 0.009*\"must\" + 0.008*\"part\" + 0.008*\"state\" + 0.007*\"person\" + 0.007*\"issue\"')\n"
     ]
    },
    {
     "name": "stderr",
     "output_type": "stream",
     "text": [
      "C:\\Users\\wma22\\anaconda3\\envs\\text_class_spacy_3x\\lib\\site-packages\\ipykernel\\ipkernel.py:287: DeprecationWarning: `should_run_async` will not call `transform_cell` automatically in the future. Please pass the result to `transformed_cell` argument and any exception that happen during thetransform in `preprocessing_exc_tuple` in IPython 7.17 and above.\n",
      "  and should_run_async(code)\n"
     ]
    }
   ],
   "source": [
    "topics = lda_model.print_topics()\n",
    "for topic in topics:\n",
    "    print(topic)"
   ]
  },
  {
   "cell_type": "raw",
   "id": "connected-controversy",
   "metadata": {},
   "source": [
    "This data is rather difficult to process. I always like to use the handy and useful Python library PyLDAvis to visualize my topic modeling data."
   ]
  },
  {
   "cell_type": "code",
   "execution_count": 21,
   "id": "certain-violation",
   "metadata": {},
   "outputs": [
    {
     "name": "stderr",
     "output_type": "stream",
     "text": [
      "C:\\Users\\wma22\\anaconda3\\envs\\text_class_spacy_3x\\lib\\site-packages\\ipykernel\\ipkernel.py:287: DeprecationWarning: `should_run_async` will not call `transform_cell` automatically in the future. Please pass the result to `transformed_cell` argument and any exception that happen during thetransform in `preprocessing_exc_tuple` in IPython 7.17 and above.\n",
      "  and should_run_async(code)\n"
     ]
    }
   ],
   "source": [
    "import pyLDAvis\n",
    "import pyLDAvis.gensim_models\n",
    "\n",
    "pyLDAvis.enable_notebook()\n",
    "vis = pyLDAvis.gensim_models.prepare(lda_model, corpus, id2word)"
   ]
  },
  {
   "cell_type": "code",
   "execution_count": 22,
   "id": "paperback-bench",
   "metadata": {},
   "outputs": [
    {
     "name": "stderr",
     "output_type": "stream",
     "text": [
      "C:\\Users\\wma22\\anaconda3\\envs\\text_class_spacy_3x\\lib\\site-packages\\ipykernel\\ipkernel.py:287: DeprecationWarning: `should_run_async` will not call `transform_cell` automatically in the future. Please pass the result to `transformed_cell` argument and any exception that happen during thetransform in `preprocessing_exc_tuple` in IPython 7.17 and above.\n",
      "  and should_run_async(code)\n"
     ]
    },
    {
     "data": {
      "text/html": [
       "\n",
       "<link rel=\"stylesheet\" type=\"text/css\" href=\"https://cdn.jsdelivr.net/gh/bmabey/pyLDAvis@3.3.1/pyLDAvis/js/ldavis.v1.0.0.css\">\n",
       "\n",
       "\n",
       "<div id=\"ldavis_el647219180049345766551483667\"></div>\n",
       "<script type=\"text/javascript\">\n",
       "\n",
       "var ldavis_el647219180049345766551483667_data = {\"mdsDat\": {\"x\": [0.37984692975540246, 0.3120983447013333, 0.2955807510536818, 0.14751278053426592, 0.10667310087884226, 0.0742913093891232, 0.15661457106736418, 0.020870486294946484, -0.02919210364526475, -0.04399004275212613, -0.07364840918186583, -0.092087477009908, -0.1203617763416083, -0.14280557888931614, -0.14353437613847997, -0.14976677710070765, -0.15538632072062533, -0.17399645108723905, -0.18084401232163766, -0.1878749484861801], \"y\": [0.05734807127379476, 0.042012381247848785, 0.13955494431117738, -0.1388511083531608, -0.24029031895335726, -0.2314509426367932, 0.21088573741395197, -0.08725491815887368, -0.06970057595585599, -0.004853503002777797, 0.03631917264481075, 0.03400103613843965, 0.014515158828533986, 0.041518631117397356, 0.016422966348672022, 0.04243937706828944, 0.030878206098049296, 0.031135434685743885, 0.03989234581758719, 0.035477904066524485], \"topics\": [1, 2, 3, 4, 5, 6, 7, 8, 9, 10, 11, 12, 13, 14, 15, 16, 17, 18, 19, 20], \"cluster\": [1, 1, 1, 1, 1, 1, 1, 1, 1, 1, 1, 1, 1, 1, 1, 1, 1, 1, 1, 1], \"Freq\": [39.1383476294419, 16.143784106639387, 10.69128852665632, 5.289623621877731, 4.79368336514753, 4.4726569702579715, 3.875741430790346, 2.950850746631762, 2.605738590570202, 1.6450287087628048, 1.5367040586787637, 1.284614159139435, 1.0682967940433767, 1.0608772716355745, 0.8117489763443653, 0.7574445951221925, 0.7097841497056155, 0.46234041749934973, 0.413102611610145, 0.28834326944522715]}, \"tinfo\": {\"Term\": [\"writes\", \"people\", \"article\", \"space\", \"israel\", \"year\", \"system\", \"would\", \"government\", \"believe\", \"file\", \"team\", \"evidence\", \"said\", \"chip\", \"list\", \"drive\", \"reason\", \"think\", \"like\", \"program\", \"public\", \"game\", \"first\", \"jesus\", \"thanks\", \"data\", \"number\", \"last\", \"senses\", \"writes\", \"article\", \"really\", \"going\", \"take\", \"thing\", \"little\", \"didn\", \"enough\", \"maybe\", \"money\", \"thought\", \"remember\", \"always\", \"told\", \"wouldn\", \"hope\", \"pretty\", \"guess\", \"hell\", \"hear\", \"church\", \"anyway\", \"face\", \"sorry\", \"sort\", \"stop\", \"turn\", \"aren\", \"exactly\", \"think\", \"never\", \"actually\", \"something\", \"ever\", \"would\", \"back\", \"anything\", \"though\", \"course\", \"time\", \"heard\", \"like\", \"could\", \"much\", \"sure\", \"still\", \"well\", \"good\", \"know\", \"even\", \"things\", \"make\", \"come\", \"probably\", \"want\", \"might\", \"right\", \"people\", \"said\", \"also\", \"first\", \"drive\", \"windows\", \"computer\", \"card\", \"software\", \"email\", \"info\", \"memory\", \"advance\", \"version\", \"hardware\", \"machine\", \"disk\", \"copy\", \"programs\", \"scsi\", \"controller\", \"drivers\", \"installed\", \"board\", \"cards\", \"screen\", \"machines\", \"monitor\", \"network\", \"package\", \"appreciated\", \"apple\", \"users\", \"appreciate\", \"mail\", \"send\", \"code\", \"thanks\", \"program\", \"available\", \"system\", \"please\", \"using\", \"information\", \"data\", \"systems\", \"need\", \"anyone\", \"also\", \"used\", \"help\", \"work\", \"problem\", \"know\", \"like\", \"number\", \"self\", \"laws\", \"atheism\", \"playing\", \"action\", \"possibility\", \"statement\", \"atheists\", \"possibly\", \"terrorist\", \"concerned\", \"false\", \"individual\", \"rational\", \"died\", \"trial\", \"actions\", \"context\", \"disagree\", \"knew\", \"quote\", \"shows\", \"fred\", \"baker\", \"debate\", \"constitution\", \"step\", \"ethnic\", \"thread\", \"checked\", \"exist\", \"argument\", \"rights\", \"evidence\", \"groups\", \"human\", \"society\", \"field\", \"people\", \"issue\", \"person\", \"fact\", \"death\", \"part\", \"group\", \"must\", \"example\", \"reason\", \"state\", \"force\", \"many\", \"however\", \"cases\", \"case\", \"right\", \"posting\", \"cannot\", \"point\", \"government\", \"system\", \"based\", \"believe\", \"military\", \"soldiers\", \"turkish\", \"villages\", \"turks\", \"armenians\", \"terrorism\", \"armenian\", \"iran\", \"turkey\", \"pens\", \"withdraw\", \"civil\", \"soviet\", \"aged\", \"criminal\", \"armenia\", \"percent\", \"leafs\", \"troops\", \"firearms\", \"penguins\", \"village\", \"russian\", \"houses\", \"army\", \"inhabitants\", \"factory\", \"canadian\", \"hitler\", \"killed\", \"greek\", \"germany\", \"million\", \"northern\", \"population\", \"countries\", \"police\", \"government\", \"women\", \"said\", \"city\", \"failed\", \"report\", \"children\", \"closed\", \"people\", \"years\", \"world\", \"first\", \"canada\", \"california\", \"washington\", \"internal\", \"license\", \"room\", \"paper\", \"texas\", \"significant\", \"services\", \"aware\", \"cable\", \"meeting\", \"draft\", \"south\", \"conference\", \"impact\", \"college\", \"raised\", \"baby\", \"remove\", \"douglas\", \"australia\", \"noted\", \"einstein\", \"suggested\", \"illinois\", \"proposal\", \"ignored\", \"informed\", \"details\", \"particularly\", \"april\", \"national\", \"states\", \"ground\", \"clinton\", \"technical\", \"office\", \"level\", \"service\", \"press\", \"bill\", \"section\", \"university\", \"house\", \"week\", \"needs\", \"year\", \"everything\", \"state\", \"team\", \"game\", \"play\", \"games\", \"season\", \"division\", \"cars\", \"teams\", \"lots\", \"engine\", \"thank\", \"toronto\", \"uunet\", \"manual\", \"boston\", \"larger\", \"doug\", \"blue\", \"break\", \"fans\", \"detroit\", \"notice\", \"craig\", \"bell\", \"hour\", \"played\", \"helmet\", \"throw\", \"coverage\", \"jose\", \"talking\", \"serious\", \"series\", \"year\", \"points\", \"goal\", \"normal\", \"last\", \"lost\", \"first\", \"next\", \"john\", \"power\", \"jesus\", \"faith\", \"bible\", \"christians\", \"christian\", \"religion\", \"christ\", \"belief\", \"christianity\", \"logic\", \"explaining\", \"holy\", \"moral\", \"beliefs\", \"heaven\", \"revelation\", \"objective\", \"koresh\", \"morality\", \"regards\", \"biblical\", \"animals\", \"besides\", \"activity\", \"believed\", \"satan\", \"interpretation\", \"primary\", \"absolute\", \"scripture\", \"shall\", \"deny\", \"child\", \"truth\", \"religious\", \"science\", \"believe\", \"life\", \"claim\", \"reason\", \"exists\", \"children\", \"others\", \"evidence\", \"book\", \"earth\", \"true\", \"cannot\", \"world\", \"video\", \"serial\", \"mouse\", \"dave\", \"function\", \"manager\", \"algorithm\", \"printer\", \"switch\", \"warranty\", \"cubs\", \"replaced\", \"double\", \"output\", \"assumption\", \"corporation\", \"green\", \"draw\", \"sets\", \"brown\", \"properly\", \"forever\", \"signal\", \"employer\", \"signals\", \"strange\", \"sight\", \"functions\", \"menu\", \"voltage\", \"driver\", \"input\", \"return\", \"edge\", \"expensive\", \"ideas\", \"line\", \"number\", \"everything\", \"process\", \"value\", \"request\", \"senses\", \"encryption\", \"chicago\", \"court\", \"legal\", \"period\", \"federal\", \"explain\", \"drug\", \"concept\", \"administration\", \"stupid\", \"gary\", \"prevent\", \"route\", \"solutions\", \"pittsburgh\", \"privacy\", \"industry\", \"speaking\", \"captain\", \"hole\", \"honest\", \"traded\", \"heat\", \"louis\", \"greeks\", \"atlanta\", \"cycle\", \"providing\", \"thomas\", \"plan\", \"public\", \"communications\", \"authority\", \"order\", \"systems\", \"chip\", \"clipper\", \"keys\", \"tape\", \"secure\", \"chips\", \"andrew\", \"secret\", \"popular\", \"crypto\", \"export\", \"criminals\", \"motorola\", \"russia\", \"passing\", \"concerns\", \"nist\", \"backup\", \"cellular\", \"warrant\", \"japanese\", \"phones\", \"canon\", \"algorithms\", \"cycles\", \"camera\", \"filter\", \"luxury\", \"carl\", \"antenna\", \"listen\", \"security\", \"enforcement\", \"private\", \"government\", \"public\", \"technology\", \"protect\", \"agency\", \"phone\", \"data\", \"system\", \"information\", \"message\", \"space\", \"nasa\", \"moon\", \"orbit\", \"launch\", \"shuttle\", \"vehicle\", \"surface\", \"mars\", \"lunar\", \"saturn\", \"solid\", \"satellite\", \"planet\", \"solar\", \"planetary\", \"astronomy\", \"environmental\", \"ozone\", \"satellites\", \"distant\", \"degrees\", \"hits\", \"plane\", \"missions\", \"crew\", \"venus\", \"apollo\", \"launched\", \"telescope\", \"mission\", \"fuel\", \"scientific\", \"earth\", \"energy\", \"research\", \"science\", \"station\", \"center\", \"project\", \"data\", \"books\", \"color\", \"sale\", \"player\", \"corp\", \"equipment\", \"door\", \"super\", \"sports\", \"prize\", \"frame\", \"prices\", \"brand\", \"band\", \"custom\", \"purchased\", \"depth\", \"specs\", \"shape\", \"broke\", \"located\", \"maintained\", \"doors\", \"propulsion\", \"adobe\", \"leather\", \"production\", \"magazines\", \"construction\", \"toyota\", \"offer\", \"model\", \"dual\", \"price\", \"sound\", \"levels\", \"reduced\", \"unit\", \"condition\", \"sell\", \"picture\", \"excellent\", \"sounds\", \"asking\", \"best\", \"book\", \"drives\", \"guns\", \"weapons\", \"weapon\", \"status\", \"supports\", \"blank\", \"prefer\", \"statistics\", \"rockets\", \"packet\", \"batf\", \"generated\", \"routines\", \"factors\", \"tanks\", \"ruled\", \"investment\", \"exposure\", \"assault\", \"lawyers\", \"entitled\", \"bands\", \"handguns\", \"investors\", \"excerpts\", \"widgets\", \"checks\", \"clause\", \"accidental\", \"crime\", \"safety\", \"president\", \"usage\", \"carry\", \"rate\", \"automatic\", \"arms\", \"control\", \"rates\", \"fire\", \"reported\", \"nuclear\", \"graphics\", \"entry\", \"image\", \"selling\", \"flight\", \"imaging\", \"convert\", \"utility\", \"afford\", \"jpeg\", \"fancy\", \"parking\", \"dynamics\", \"navy\", \"pays\", \"formats\", \"shareware\", \"graphic\", \"login\", \"dates\", \"utilities\", \"lifetime\", \"edit\", \"donald\", \"boots\", \"compilers\", \"script\", \"corn\", \"wives\", \"pole\", \"host\", \"images\", \"file\", \"files\", \"author\", \"include\", \"richard\", \"program\", \"forum\", \"aspects\", \"physical\", \"master\", \"window\", \"friend\", \"becomes\", \"direct\", \"became\", \"georgia\", \"militia\", \"beings\", \"button\", \"changing\", \"spacecraft\", \"characters\", \"fixed\", \"font\", \"trivial\", \"shell\", \"register\", \"positively\", \"icon\", \"leadership\", \"adding\", \"enhanced\", \"tiny\", \"observer\", \"annoying\", \"icons\", \"sons\", \"click\", \"normal\", \"talking\", \"israel\", \"arab\", \"brian\", \"errors\", \"jason\", \"arabs\", \"strip\", \"quick\", \"curious\", \"netters\", \"river\", \"warning\", \"dirty\", \"projects\", \"bars\", \"imagination\", \"territories\", \"trace\", \"verify\", \"succeeded\", \"bare\", \"isreal\", \"withdrawal\", \"caution\", \"cute\", \"occupied\", \"jews\", \"introduce\", \"sympathy\", \"guerilla\", \"jewish\", \"zone\", \"peace\", \"land\", \"terrorists\", \"attacks\", \"alan\", \"occupation\", \"health\", \"medical\", \"insurance\", \"father\", \"kids\", \"disease\", \"treatment\", \"patients\", \"offers\", \"medicine\", \"doctor\", \"prevention\", \"beautiful\", \"diet\", \"rutgers\", \"liked\", \"flow\", \"designs\", \"fuzzy\", \"preach\", \"yellow\", \"molecular\", \"nearby\", \"adequately\", \"licensing\", \"visits\", \"dinner\", \"wash\", \"churchill\", \"seldom\", \"studies\", \"birth\", \"severe\", \"impossible\", \"serious\", \"scientific\", \"study\", \"talking\", \"research\", \"copies\", \"waste\", \"feature\", \"mailing\", \"offense\", \"boards\", \"staff\", \"stats\", \"centre\", \"hitter\", \"capture\", \"twelve\", \"autos\", \"innings\", \"pitched\", \"lowest\", \"bullpen\", \"developers\", \"brewers\", \"revolvers\", \"hitting\", \"runs\", \"weight\", \"lloyd\", \"lists\", \"semi\", \"list\", \"auto\", \"percentage\", \"cooler\", \"training\", \"family\", \"wings\", \"intel\", \"brother\", \"radar\", \"june\", \"qualified\", \"headaches\", \"experiment\", \"soft\", \"japan\", \"portable\", \"documented\", \"engines\", \"absurd\", \"channels\", \"angle\", \"liquid\", \"iron\", \"behalf\", \"accessories\", \"jeffrey\", \"advisory\", \"test\", \"enters\", \"equalizer\", \"reston\", \"spray\", \"fasst\", \"modular\", \"accomplish\", \"values\", \"floppy\", \"islam\", \"upgrade\", \"registration\", \"pointer\", \"upgraded\", \"rushdie\", \"functionality\", \"khomeini\", \"floppies\", \"adapters\", \"fatwa\", \"islamic\", \"spss\", \"muslims\", \"muslim\", \"explicitly\", \"basic\", \"gregg\", \"temporary\", \"iivx\", \"jaeger\", \"mohammad\", \"petty\", \"sarcasm\", \"testify\", \"odds\", \"phenomenon\", \"implement\", \"prophet\", \"reject\", \"contradicts\", \"principle\"], \"Freq\": [12044.0, 8892.0, 10411.0, 2033.0, 1592.0, 3370.0, 3908.0, 13883.0, 2351.0, 3257.0, 1550.0, 2160.0, 3384.0, 3824.0, 1540.0, 1321.0, 3406.0, 3128.0, 6883.0, 9707.0, 2227.0, 1982.0, 1759.0, 4369.0, 1638.0, 3308.0, 1975.0, 3154.0, 2769.0, 1364.0, 12042.792748290516, 10410.38759409396, 3271.84743800568, 3086.2527258322116, 2631.4896799345315, 2298.3647843557555, 2254.970481649506, 1934.8496348136023, 1895.8764185189311, 1630.317808514652, 1547.4689849577126, 1468.6503767674863, 1391.0087341268309, 1368.7963052007967, 1116.7992157574765, 1098.832084038185, 1078.9060028787599, 1031.104033707106, 1019.0798828357564, 996.0950816022304, 976.3493838634483, 941.6983574400833, 939.8963367398926, 886.2383745695948, 876.2068439042293, 839.1486297484827, 837.5844201665258, 828.1592655375109, 823.1236423115033, 801.467899350852, 6845.144588005717, 2815.63818133204, 1701.1748825117245, 3324.525925455911, 1522.7154710885984, 12649.660607533377, 3175.0731836356804, 2462.256179254884, 1472.8573485423628, 2193.4817390859375, 5655.934727905817, 1223.622833604199, 8447.442637013124, 4834.1900757389885, 3820.2408438562006, 2766.7641881718864, 2783.4041960249588, 4670.340995985453, 4925.300145620298, 6469.315005693445, 4029.0332024455292, 2630.9340216226847, 3663.076589903064, 2462.595425822126, 2051.2535225230426, 2995.69106023779, 2424.946310883274, 2961.9782210424346, 4394.449148327729, 2833.0754065280885, 3558.268261090322, 2685.1653540157704, 3405.5894400606935, 2091.7090789550293, 1941.8565273725399, 1880.3453114932925, 1831.107454665745, 1680.5559391949905, 1316.3074852810241, 1228.1567488914911, 1136.6277867800093, 1087.3431528315148, 1054.3929099892973, 1048.7672879639424, 1013.7425945064252, 959.5931399794484, 880.2005966487492, 873.8326247061062, 819.4872847515394, 799.4625378593404, 795.9610858411658, 787.939557633748, 721.3611527785744, 699.6976607142672, 672.9230450860226, 664.7576448168437, 657.8784158977103, 650.3912838822621, 642.4998638929153, 640.5339780881718, 630.4693169967494, 612.9469964682154, 2708.009715728747, 1473.9741100356018, 1097.4669585556057, 2990.7438001477813, 1920.0490136394749, 1627.7231259763735, 2824.7803703119826, 2425.7200638277077, 1922.851052948395, 1749.1531408627168, 1448.9654055266028, 1107.367351164726, 1849.2781220486834, 1734.1094591853832, 2308.780652552271, 1635.8783031007824, 1406.46634651735, 1454.0381798304034, 1236.1364868778496, 1347.3213148968348, 1258.84682896659, 1125.1485416664323, 958.3591262931321, 716.9683404235992, 637.0062332217711, 607.7864552320092, 544.280916214344, 526.1872185128356, 523.6685602573773, 505.0764678987859, 473.0844914122015, 465.3205191936824, 408.38612102322065, 400.7909774765596, 389.56628169257675, 375.6440590915585, 375.4103674479617, 375.3008533877346, 373.24089259382464, 357.2639272994742, 343.03050114311213, 336.2898380790372, 323.7677177305123, 321.8751654924803, 316.2587719212434, 308.5036836840878, 294.27996715791477, 291.2232170498388, 289.2279871238556, 288.6140676830952, 284.0824445648799, 280.62324019325524, 816.5012310759276, 787.2054933942107, 901.3096326763822, 2742.023608271197, 874.3911030933225, 974.6559149165656, 625.8931321330559, 490.60082940294683, 3832.7831197179044, 1048.597787193581, 1062.54557188224, 1315.50349964266, 824.1518912496218, 1157.4226618329833, 1004.2090568761504, 1229.5117120934544, 800.4099959841146, 1321.7423663764905, 1095.6317642444105, 638.7381802502481, 1448.5205453910967, 990.0660888051207, 620.3884323349458, 880.2946243001487, 967.7202666258379, 650.6027538740682, 716.4722906091808, 761.1183591525736, 721.5438880593362, 764.9063038605976, 673.76966729743, 700.001851524748, 894.3401523920658, 886.3852882744749, 805.9732454192049, 702.4424951441578, 556.6003566817797, 530.6777179944328, 475.6836715580503, 464.2218998850494, 447.72050293658856, 422.4696966385039, 422.0762965849024, 411.3150175310199, 353.63155002708595, 336.1245286850859, 316.69439611578196, 307.74900569609275, 305.1001076445294, 290.26838967418826, 289.1447583365093, 280.0776681494491, 271.3524582299376, 269.7068806423754, 268.9795088453132, 262.8725759564127, 261.95469696442865, 259.1905697561118, 249.28934269680119, 247.9163640913885, 229.89757627327958, 229.82862178639647, 675.0286748281487, 530.6851363207467, 437.08144652770267, 479.94548368549835, 371.2148461427283, 421.1347900602091, 314.12611925812416, 434.51130691850346, 792.7824154777209, 430.44443010586957, 940.4175013184666, 418.54978111853035, 364.04622657486306, 382.20145277341607, 477.19501665515173, 370.0521297025317, 663.6857597754293, 510.6091191643536, 484.5203361114551, 514.9058333733141, 692.2022013814549, 630.2730260127557, 607.6800184974198, 580.2618140378632, 483.5064955598792, 472.0757430159638, 468.39357097913796, 441.1052617713973, 429.4977616527356, 423.21564108383893, 381.82961006257, 381.5085739180912, 367.7172283882006, 356.55846809067754, 355.9334545488805, 353.20298883150355, 315.91523296790234, 314.55684137760636, 302.9109590778336, 292.19886548981503, 279.87306180582226, 265.0384376540171, 255.82067254772974, 253.88234278573788, 249.13944837339062, 242.1858025223921, 239.809216960954, 239.34763865562428, 239.1256972472549, 231.28003588392897, 558.6801296093964, 419.4762511659123, 931.8813305873699, 1021.9541217922734, 962.3108777748417, 470.56352654241846, 530.9612054993753, 458.1128326904122, 566.1382375606698, 589.3858744982899, 523.5471067465055, 570.9966635227968, 542.17419247407, 544.1644388745555, 752.0155590164037, 459.1398521939394, 472.5480866938505, 447.411282355847, 639.1654902877742, 478.0584174172567, 539.0991163713466, 2158.8326387348466, 1758.6840876132387, 1173.7087338104088, 1061.8034453174084, 889.2981052597324, 831.6436830584848, 776.5631772169426, 754.170480690126, 641.9326621430968, 638.8977796573059, 572.8918626621904, 524.94359317144, 495.5365407334601, 459.2151345669267, 457.9835796410484, 413.4514388680515, 408.4290579057698, 398.7849955252878, 390.9847147515106, 351.48578689867963, 332.2857546931622, 331.03723338427125, 315.03765787791855, 295.8233949114051, 295.02989873129064, 268.59328968270825, 265.9074891457747, 262.06885880544326, 257.8806767629789, 257.7324281557107, 733.861222838204, 539.7100386968141, 608.2998750331504, 2019.856850596669, 814.0836424357014, 383.04262375359536, 378.63570247997814, 886.1941414098837, 485.767827939672, 729.2694674669135, 522.323751520909, 405.86638799213307, 386.5348248694493, 1637.2351010039458, 1422.0942108963925, 1250.9853005631958, 1172.0936125748526, 992.6557643740655, 869.8115931434504, 737.2151608945856, 652.5764483102323, 583.706878543933, 537.795332570018, 484.9071038950667, 414.7695165525367, 381.5733690513805, 378.60881885729515, 334.9551659524989, 321.40170162944764, 294.45436466597937, 268.2992633231617, 260.4356914498692, 255.54227283948967, 244.4305013988957, 228.85981257419093, 218.66150896567697, 218.26354741048104, 217.2736240281158, 215.54273071039927, 215.52493976963447, 193.38569434061668, 182.06674104946117, 178.10429387506352, 493.2158324032959, 374.7079096610475, 502.7008701389954, 624.6568831262093, 532.4147582532328, 598.7838268591228, 1061.0910723614818, 695.6866993176991, 544.6381162929159, 896.0698723648084, 438.780198942365, 508.58754045040274, 500.98561273557146, 641.0954250559996, 450.8475809549394, 423.2301025928389, 421.1965717242125, 394.741849867546, 387.9518642932165, 1013.8818946323746, 889.7192418542836, 675.8191956630424, 597.9800467833961, 563.868683035368, 530.2930091936794, 516.2761424373489, 401.4846356548854, 349.19259382979715, 346.33810898175, 331.35169891617136, 312.91349444321713, 306.66912653144846, 303.96023178658766, 297.5913484221815, 279.03544676588507, 275.5065366389405, 267.3462350552127, 263.90532435577626, 260.07396747052195, 253.13885783328027, 250.20585350433865, 240.71845054802768, 239.05659767598195, 235.55583569821337, 232.9115322049916, 216.6840330516824, 207.61724803435402, 205.78231321394227, 204.44596889341074, 862.669162186792, 594.7306856975558, 548.0295882332215, 293.2293697558927, 300.00857073267235, 330.8977188573752, 551.7108338099814, 713.3616073198954, 452.1390167024594, 358.50704245240803, 290.5859413346661, 268.95108063291036, 1363.0386122360112, 947.3207386335839, 573.9937003862158, 564.3729628756967, 562.2532375847321, 536.5719008718082, 521.111390374261, 472.8297497005288, 420.20353506138423, 385.2549201040603, 382.27881755310005, 376.7677121000984, 361.2640575492992, 346.81958950583436, 334.22674187913356, 323.330872215638, 311.39152820748495, 308.1960027289786, 296.6500745317845, 284.00387638550285, 275.5539847678984, 265.4713644096739, 263.9011462506872, 244.79446419900654, 244.29090226403653, 241.26681000309722, 241.193465112569, 220.18913695447978, 215.2440718210267, 213.32451561891818, 394.7874698818503, 366.6481456216451, 732.0683599724535, 278.2332948689511, 292.9813811379126, 292.3442014260803, 264.5420608208606, 1539.0345571195776, 767.7176673959689, 695.9469724357308, 471.7962713985292, 451.75695796459536, 423.717001287335, 415.9175886227767, 330.02001920130834, 261.90446427802243, 228.813742031608, 228.06750180551558, 225.84103789885413, 204.45467884011785, 196.53387738602382, 195.89898474684978, 190.38734017335338, 177.29562426615593, 155.92394081124496, 154.13837513529666, 148.13505718101007, 130.6881322491188, 129.4534403641286, 125.91668082119126, 101.3203078310023, 99.85624357569802, 94.951522623559, 93.44442754651207, 82.87984756908548, 81.61288764936856, 81.49093480442268, 242.34678302226143, 644.3717377080224, 291.3053697837091, 390.2304442640589, 836.3356686502215, 599.1265258934429, 396.46802306888117, 203.60314827079117, 169.53275832691327, 284.7283210904014, 309.5659268592591, 317.1070123091139, 261.66723578460795, 207.9085069930174, 2032.578735070452, 565.3487004453779, 434.45139993206453, 429.51535930641325, 407.2503333353142, 358.12230025130106, 333.75387743783847, 293.5455525692498, 268.3505131769664, 245.5827082195441, 236.54244621492185, 220.24267768939427, 214.70436180156585, 212.9679998852051, 197.89478878932076, 197.0339181491182, 175.2816397797667, 168.4461317015744, 164.95411622452704, 160.17100365340374, 139.53577984673956, 134.75736676574488, 134.73813208493573, 131.91320685816223, 131.6382914325993, 123.20697891552868, 122.584472111, 105.07521622300334, 98.51504130282986, 98.31527024972713, 287.8625493489775, 234.52711496939227, 329.13106020273773, 616.1077509155157, 225.21610536984636, 383.28976930149673, 312.5108718957152, 210.83498201415222, 274.89245027787314, 178.73482512625662, 216.1059301423818, 688.4749776924259, 616.753502189968, 591.877013583019, 567.0481438651508, 301.4312186632814, 271.37341397322314, 255.2565628693638, 215.16171223069588, 197.60262783324484, 176.59953902894728, 175.84747804073038, 174.8428147189026, 163.928216136385, 152.3004135791405, 138.62431625400924, 114.39382549633099, 113.32075764033856, 110.60971111070604, 109.2290172947698, 104.1458754879823, 101.59554270899766, 99.33739943341311, 98.95036897592699, 95.54510253534778, 92.33131164776267, 90.12193011459694, 85.44355680147817, 85.24807332531975, 79.35284692062892, 79.30219629560992, 468.1535524813005, 549.7904235437294, 232.83011372451355, 764.8321837928306, 396.7157268281342, 164.51219831910953, 129.67319526144388, 224.374475209316, 297.60427902340973, 308.95557456472477, 272.07795131013734, 189.73190800559036, 234.98239227318984, 203.38187843357926, 235.6170409538964, 141.25021227348367, 619.8937560713297, 507.37219543573616, 473.0317125755168, 325.61478967114306, 274.4659593256494, 232.99626079289163, 218.20099457611528, 192.8516279102805, 148.462648035823, 145.38049065876714, 134.75481926686885, 120.71034834460494, 120.30414166367326, 112.47539988548078, 108.99114105862994, 104.70591995676813, 96.25641047027571, 90.35292309444587, 89.57727861146125, 80.2147247998558, 74.10713747600123, 73.30934322501858, 70.46516385294034, 69.25505787472144, 65.54373752569056, 62.12744601434738, 61.68180403431314, 57.394220114530206, 55.46121065334823, 54.57105860186487, 383.7214455892427, 576.0429706788839, 547.2029167374408, 124.21240090641487, 282.8020337517777, 318.146595427574, 137.31637789537032, 196.78041330870562, 259.2750201078356, 134.2612939236565, 153.57768683155376, 145.35317965162295, 107.11038419376513, 1010.3387239806685, 898.0048876475038, 699.2604846149926, 331.4907804304891, 308.1757723589748, 299.4779667044615, 239.76595420511669, 137.56117979325992, 137.25033976015584, 108.27174579976868, 107.61454846161286, 102.56609498169108, 94.82739986241756, 93.61339604316862, 89.81067532021468, 83.56094629971574, 82.83853455744857, 77.82544104839921, 77.38301211164251, 75.40908679789229, 71.90214453008785, 64.09862170517962, 55.182554254554496, 52.49622220234372, 51.903515027932, 47.137489074398424, 46.28798134044025, 37.72914135458734, 35.46827593985285, 32.20369858083556, 177.5000145565416, 289.82793899096174, 1030.7779013608895, 692.6713523078099, 266.02354105751914, 242.54564772259022, 128.5389406710569, 169.06694661166307, 78.89038243622056, 74.86381572898367, 1009.1350805045955, 718.9386201298761, 687.1647374212814, 468.0345159951701, 292.3742247067108, 250.5433600739272, 213.23334089347517, 183.05497281637128, 177.13941616069752, 175.50873585392765, 162.60579161673695, 154.70360500103982, 146.74221046144854, 133.43176164489626, 132.94115734514455, 132.04992914293982, 124.83988245545538, 109.74133026496084, 100.37991857729757, 89.38004319324189, 77.9650353073917, 76.75899607633664, 74.55784646998323, 71.49541364817524, 68.05382142622385, 60.29003571478783, 56.996127292839375, 55.09077658256631, 51.36088299513102, 50.229964507088866, 103.08408478321957, 69.46883363548874, 1590.7151577469263, 320.48156739211316, 250.90779938753633, 250.1591613871497, 225.8053748007007, 197.25739973797633, 148.98585976672865, 148.60024427864352, 135.5378167726101, 126.70466517707445, 99.05643150911406, 96.73991211884407, 92.59156473427889, 86.73869244432036, 68.1401341891096, 60.74007825820953, 54.40608508605478, 52.726446146945065, 38.77982980518189, 38.658949429466254, 30.457282738057184, 29.35169163083538, 25.25179653940686, 19.357047925495586, 16.020630928582502, 310.8532160503236, 598.8904091758, 11.677414448310982, 10.61889867003273, 9.872254167509364, 321.77503865358875, 189.55987742521242, 193.05724012725614, 165.60495887602403, 53.953430043065666, 119.22169190195103, 44.254496710028235, 30.84083453469232, 546.4976940487678, 419.22386618630316, 399.74666629886224, 321.10593739941174, 319.7122757202032, 314.2700947445698, 299.8818104689132, 295.41582763427556, 225.22008792462964, 138.67174889791485, 134.69212862578, 120.46747953281198, 117.18500582900779, 106.454605483063, 83.03476066544322, 71.2881567177977, 66.18889660510322, 57.44741183050114, 55.99783547087498, 55.11243564944055, 52.39704143406228, 48.998028749254466, 38.84046117074964, 32.79095187175874, 31.670101737748016, 29.74519578055756, 27.1128162946111, 24.178549717352066, 22.868146141801862, 21.29188582327654, 199.4923362791151, 97.51252772430117, 61.65502332405159, 89.41124433413026, 102.57004586829555, 77.03454670641891, 67.49221163223409, 63.582814690991455, 51.93276234192127, 216.8250366907555, 152.8200135309354, 147.67223148751867, 146.44446461853306, 119.40264168294762, 114.77561340709242, 108.37834452206877, 106.31598684819264, 87.19511001428587, 62.77629654454295, 58.05016875131218, 53.35918595323299, 50.56442189063614, 50.24240987150256, 46.22800536313256, 42.9896042900534, 24.232942604617406, 13.404250878392421, 12.26507059158608, 9.313739346020748, 81.92323506048508, 389.6431008893991, 203.55876076732102, 1.614881499703478, 85.43989400480022, 64.77386563096555, 327.6692207978783, 39.9405988646109, 13.578863291113032, 0.0486286517355527, 4.016215458217699, 341.13139805897714, 330.96759176676886, 157.08363553534355, 127.28243130744788, 119.09971766873895, 110.21275232846835, 91.64197644149975, 89.0235199192811, 85.65677108028679, 81.98888917516484, 79.63903548718247, 61.531793711038794, 53.88596416468297, 52.12183330414496, 51.13903543055879, 41.09136150472058, 40.47828939397573, 37.466813257788154, 24.578815704852843, 23.58332833550613, 12.79757723906716, 11.25995209132087, 10.960008346396851, 383.94608343555603, 8.461391886639623, 5.531451247925106, 4.181952277359092, 2.566944845146547, 2.019512705149669, 1.7621262736863563, 8.27108900919853, 188.84853882217425, 170.8287130224283, 170.52039995272452, 123.72806996071205, 115.04208957791252, 57.62859950546983, 40.318991830294266, 36.47762318394865, 23.858198153868763, 22.42312936130936, 21.905574839832504, 10.362097793279958, 6.833306033617983, 119.80954110184707, 1.9991663456771407, 93.44649343087809, 82.90834729290069, 0.03740822740433409, 0.037406710418060055, 0.037404619342943785, 0.037405137762564954, 0.037403592941680386, 0.03740309539801712, 0.0374030710427329, 0.037402608292332794, 0.037402608292332794, 0.037401752378058914, 0.03740174194007996, 0.03740174541940628, 0.03740224296306955, 0.03740189503043789, 0.03740193678235369, 0.037401769774690494, 0.03740181848525893], \"Total\": [12044.0, 8892.0, 10411.0, 2033.0, 1592.0, 3370.0, 3908.0, 13883.0, 2351.0, 3257.0, 1550.0, 2160.0, 3384.0, 3824.0, 1540.0, 1321.0, 3406.0, 3128.0, 6883.0, 9707.0, 2227.0, 1982.0, 1759.0, 4369.0, 1638.0, 3308.0, 1975.0, 3154.0, 2769.0, 1364.0, 12044.061086011729, 10411.655931815172, 3273.115775726893, 3087.5210635534245, 2632.7580176557444, 2299.633122082814, 2256.238819370719, 1936.1179725348145, 1897.1447562401434, 1631.5861462358641, 1548.7373226835605, 1469.9187144886985, 1392.277071848043, 1370.064642922009, 1118.0675534786888, 1100.1004217593972, 1080.174340599972, 1032.3723714283183, 1020.3482205658703, 997.3634193292885, 977.6177215946233, 942.9666951752043, 941.1646744611048, 887.506712308057, 877.4751845413657, 840.4169674696949, 838.8527579002864, 829.4278368658436, 824.3919800327155, 802.7362370720642, 6883.180071574021, 2823.430963742718, 1717.0554686658747, 3449.8102437297616, 1546.3964181814877, 13883.666126181717, 3319.710594249094, 2558.7560086536264, 1500.9153305404288, 2274.3710625179397, 6257.93416088395, 1239.0082365136775, 9707.473035132345, 5362.695769763438, 4170.238137490767, 2952.898983024359, 2982.7419466309116, 5245.098855102161, 5624.871870617582, 7817.81988974291, 4601.257258002727, 2859.1086401696843, 4391.195421201015, 2722.7193414510184, 2181.2682768906507, 3661.159067276918, 2757.0967375211803, 3930.8901426984626, 8892.023867521515, 3824.531515700845, 6657.951729252525, 4369.734158997894, 3406.8528217488506, 2092.972460638289, 1943.1199090557984, 1881.608693176551, 1832.3708363535736, 1681.819320878249, 1317.5708669642827, 1229.4201305747497, 1137.8911684979134, 1088.6065345182526, 1055.6562916725559, 1050.0306696551795, 1015.0059761896838, 960.8565216732485, 881.4639783320077, 875.0960063893648, 820.750666434798, 800.725919542599, 797.2244675244243, 789.2029393170066, 722.6245344870141, 700.9610423975257, 674.18642680982, 666.0210265001023, 659.1417975956937, 651.6546655655206, 643.7632455840345, 641.7973597753056, 631.732698680008, 614.210378166916, 2829.8889031135736, 1543.9952788150113, 1133.2011919193924, 3308.2083584745646, 2227.7669017298776, 1871.5224942794675, 3908.038867780981, 3339.415787990465, 2722.106645439218, 2512.2183465825988, 1975.7667010356088, 1419.50005334662, 3629.6251086273614, 3497.9011601223724, 6657.951729252525, 3460.4620850578176, 2528.5596246891882, 3487.183834751129, 3072.3327161814736, 7817.81988974291, 9707.473035132345, 3154.396134360231, 959.6305938646931, 718.2398079844168, 638.2777007884346, 609.0579228413379, 545.5523837751615, 527.4586861227637, 524.9400278181948, 506.3479354654495, 474.3559590024847, 466.59198678416675, 409.65758858403836, 402.0624450373773, 390.8377492597951, 376.9155266709803, 376.68183502413706, 376.5723209485523, 374.51236015464235, 358.5353948602919, 344.30196872875496, 337.56130564957607, 325.03918529133, 323.1466330640212, 317.53023948880735, 309.7751512702558, 295.55143473740145, 292.4946846106565, 290.4994547119795, 289.8855352724182, 285.3539121330768, 281.8947078101715, 849.4364079635939, 827.3780589020446, 973.4695091632749, 3384.3251554578164, 985.6732168895685, 1128.4816343574287, 707.5720990340642, 559.8175786748205, 8892.023867521515, 1591.8315260888874, 1639.789185334444, 2242.3130737395154, 1184.1913449397407, 2096.914297193242, 1789.708527020844, 2626.9552428309603, 1335.0347456999966, 3128.5181990209303, 2279.4932045585206, 919.0679786398321, 4414.191951927852, 2429.0939303177993, 878.8121984456258, 2296.242580032827, 3930.8901426984626, 1066.738271737894, 1548.8789255301397, 2667.3836793552346, 2351.7809397129645, 3908.038867780981, 1393.9598737067577, 3257.976329806709, 895.602487308323, 887.647623195302, 807.2355803354621, 703.7048300649849, 557.8626915980369, 531.94005291069, 476.94600649976366, 465.4842348013068, 448.9828378578084, 423.73203155476125, 423.3386315366383, 412.5773524809991, 354.8938849433433, 337.386863605979, 317.9567311460827, 309.011340626259, 306.36244256078675, 291.53072461404275, 290.4070932791045, 281.34000306570647, 272.614793146195, 270.9692155799858, 270.24184376614045, 264.13491087267005, 263.217031905702, 260.4529046723692, 250.55167761762848, 249.17869909151935, 231.159911189537, 231.09095671656274, 711.2431112513455, 605.4298090676007, 537.5943745756475, 651.4515297947912, 464.55002526698087, 585.9326978892268, 363.7615472168377, 700.7702914896714, 2351.7809397129645, 724.2477000331452, 3824.531515700845, 720.5992960763581, 520.0814602702093, 628.5943617226212, 1186.1887284770633, 591.7038147023748, 8892.023867521515, 2773.3568724638894, 2195.8524241420378, 4369.734158997894, 693.4669225049408, 631.5377471362417, 608.9447396209058, 581.5265351970792, 484.77121669743127, 473.34046413944986, 469.65829210262405, 442.3699828948834, 430.76248279750973, 424.480362207325, 383.0943312125133, 382.7732950415773, 368.9819495116867, 357.82318922877045, 357.1981756723666, 354.46770995498963, 317.1799540960241, 315.82156250109244, 304.1756802284536, 293.4635866614625, 281.1377829954908, 266.3031587882264, 257.08539369610975, 255.14706392313283, 250.40416953242595, 243.45052366740788, 241.07393810961548, 240.61235979193341, 240.39041851028924, 232.54475703415466, 571.7744050172107, 428.21027604210235, 988.786130528504, 1210.8177716233756, 1294.567399379372, 563.8160816488078, 698.9540651260342, 571.6627720666736, 775.9413452559943, 858.9460003233362, 789.0278802371829, 940.1915695170167, 906.3121845751872, 921.6714410279889, 2217.8584291718435, 667.3349456590385, 788.4342603353916, 751.2114111903625, 3370.2716892994445, 1129.5810714795273, 2279.4932045585206, 2160.0986099376746, 1759.9500588160668, 1174.9747072299285, 1063.0694165202365, 890.5640764625603, 832.9096542613127, 777.8291484197704, 755.4364518929539, 643.1986334086561, 640.1637508601337, 574.157833896712, 526.2095643742679, 496.8025119931735, 460.4811057935166, 459.2495508438763, 414.71741019371007, 409.69502910859774, 400.0509667370174, 392.25068599365375, 352.75175810150756, 333.5517258959901, 332.3032046510443, 316.30362909179644, 297.0893661249562, 296.2958699577998, 269.8592608855362, 267.17346034860265, 263.33483001910184, 259.14664797044253, 258.9983993585386, 868.0682720394079, 643.4895798851574, 748.8777451132743, 3370.2716892994445, 1326.8484339840022, 492.19841243754496, 482.93166405684246, 2769.815696057359, 892.1546626270872, 4369.734158997894, 2028.903609150926, 1449.5922277319796, 2209.1281829970544, 1638.5179058128292, 1423.3770157052759, 1252.2681053720792, 1173.376417383736, 993.9385691829486, 871.094397960312, 738.4979657034687, 653.8592531191155, 584.9896833528162, 539.0781374205837, 486.18990872477104, 416.05232136141984, 382.85617386026365, 379.8916236661783, 336.23797076138203, 322.6845064383308, 295.737169482841, 269.58206813204487, 261.71849625875234, 256.8250776835643, 245.7133062077789, 230.14261738307414, 219.9443138181284, 219.5463523456013, 218.55642884993995, 216.82553551928248, 216.80774459761696, 194.66849918217827, 183.34954586298008, 179.38709868394673, 569.3649765647865, 424.6341587534782, 617.0227951949711, 928.4766423438919, 753.3278823156596, 1099.809370176921, 3257.976329806709, 1582.2365310570117, 1186.4609787522286, 3128.5181990209303, 828.8875658630358, 1186.1887284770633, 1387.4058025055604, 3384.3251554578164, 1120.6454294751911, 1040.5533998408937, 1853.55414506279, 1548.8789255301397, 2195.8524241420378, 1015.1523363714125, 890.9896835921966, 677.0896373959928, 599.2504885230927, 565.139124801478, 531.5634509315273, 517.5465841752618, 402.7550773878358, 350.46303556274756, 347.6085507408152, 332.622140655868, 314.1839361822551, 307.939568276724, 305.23067352443564, 298.861790189296, 280.3058885375907, 276.7769783866156, 268.61667679857885, 265.17576609457257, 261.3444092160645, 254.40929956623077, 251.47629527383435, 241.98889228097818, 240.32703944478354, 236.82627743503912, 234.18197396552677, 217.95447495473482, 208.88768976730452, 207.0527549529803, 205.7164106313237, 942.9468133837685, 657.7745195999863, 702.8743049829886, 350.3819868028209, 375.54676637448665, 478.3801776168001, 1505.1098002474814, 3154.396134360231, 1129.5810714795273, 660.531428697892, 593.6372834954715, 458.4973608067104, 1364.3090469537724, 948.5911731317786, 575.2641348861941, 565.6433973689288, 563.5236720779643, 537.8423353730188, 522.3818248674932, 474.10018421564826, 421.47396955461636, 386.52535465294864, 383.5492520463322, 378.0381465933305, 362.5344920758775, 348.0900240396054, 335.49717643155645, 324.6013067488375, 312.6619627074633, 309.46643722717323, 297.9205090357399, 285.2743108926438, 276.8244192722883, 266.7417989093067, 265.17158079149476, 246.06489869223873, 245.56133676799195, 242.53724450307564, 242.46389963779959, 221.45957146168863, 216.51450635106147, 214.59495014117132, 398.69813146187755, 389.9050580989915, 1982.8036990523944, 401.66106739712546, 550.9729496942971, 1747.8691988337062, 1419.50005334662, 1540.3160226718687, 768.9991329482599, 697.2284379880218, 473.077736960783, 453.0384235168864, 424.998466839626, 417.1990541750677, 331.30148475359937, 263.18592983615935, 230.09520758389905, 229.34896735780663, 227.12250345912366, 205.7361443924089, 197.8153429649057, 197.1804503949461, 191.66880578283573, 178.57708981844698, 157.205406379244, 155.4198406875877, 149.41652273330112, 131.96959780140986, 130.73490591641965, 127.1981463793282, 102.6017734140482, 101.13770921337446, 96.23298819903032, 94.72589312693917, 84.16131315048285, 82.8943532062953, 82.77240036633417, 255.7411593480471, 872.5263592619827, 440.98657770007117, 685.7143622965896, 2351.7809397129645, 1982.8036990523944, 1047.4594503685626, 372.2074183784552, 275.6514928345928, 1298.9432155028437, 1975.7667010356088, 3908.038867780981, 2512.2183465825988, 1026.1456359187625, 2033.8596268459482, 566.629592220874, 435.73229170756065, 430.79625108190936, 408.53122511081034, 359.40319202679717, 335.034769220565, 294.82644434474594, 269.6314049524625, 246.86359999504023, 237.82333799429324, 221.52356947097795, 215.985253577062, 214.24889170761733, 199.1756805648169, 198.31480992461434, 176.56253155526284, 169.72702349227947, 166.23500800002319, 161.4518954288999, 140.8166717067333, 136.03825854124102, 136.01902390261574, 133.19409864163686, 132.91918320809543, 124.48787076177489, 123.86536388649616, 106.3561079984995, 99.79593310350727, 99.5961620252233, 309.128595171289, 268.7788051592204, 407.3900227740186, 1040.5533998408937, 276.8353234459665, 1379.062255584199, 1099.809370176921, 426.8508625007813, 1172.1595442958471, 342.2540857324602, 1975.7667010356088, 689.7589530248715, 618.0374774748803, 593.1609888679313, 568.3321191623884, 302.71519404321793, 272.65738925813554, 256.54053819553326, 216.44568755605346, 198.88660312490347, 177.8835143846304, 177.13145332564278, 176.126790003815, 165.2121914212974, 153.58438887079913, 139.90829153892165, 115.67780079190082, 114.60473292525097, 111.89368640666846, 110.51299257968222, 105.42985080429382, 102.87951800645844, 100.6213748313749, 100.23434430165302, 96.82907784343871, 93.61528693267509, 91.40590540590995, 86.72753208639058, 86.53204867692097, 80.63682220554134, 80.58617158052233, 575.8939231809053, 706.32404302718, 272.9658759887473, 1134.4461138196943, 525.9159838102183, 204.88876585323305, 149.3763941928551, 358.5615072595702, 575.7153391696743, 643.7365577792795, 597.8532750248772, 325.11010731452194, 532.3857584688674, 623.06053580291, 1971.8411464978951, 1120.6454294751911, 621.1782078627127, 508.65664721225903, 474.31616435203966, 326.89924144766593, 275.7504111194408, 234.28071259130184, 219.48544669455498, 194.13607969418254, 149.74709982467095, 146.66494246904173, 136.0392710433917, 121.99480012112781, 121.58859349389614, 113.75985167305366, 110.2755928397885, 105.990371733291, 97.54086224679858, 91.63737490980847, 90.86173040448597, 81.49917657637867, 75.39158928138865, 74.5937950267227, 71.74961564334964, 70.53950965124432, 66.82818933407293, 63.41189779087024, 62.966255810836, 58.67867190496194, 56.74566243793408, 55.85551040763043, 495.7588314401833, 890.7345602757241, 903.5082481489675, 152.34406179944546, 513.4809553198925, 806.6933155622119, 217.20278712994644, 567.8687833536907, 1046.2329308186022, 372.1742564142754, 566.1931630863977, 598.3981949770514, 306.2070439945998, 1011.6108480613248, 899.27701172816, 700.5326086956488, 332.76290455806617, 309.4478964544814, 300.75009081495114, 241.03807829968179, 138.8333038800037, 138.52246384887508, 109.54386988042494, 108.8866725502476, 103.83821917489357, 96.09952395234522, 94.88552012878736, 91.08279948240285, 84.83307038037199, 84.11065863810482, 79.09756514285469, 78.65513619229877, 76.6812108925252, 73.17426861074411, 65.37074582238108, 56.45467833978065, 53.7683463102017, 53.17563910858826, 48.409613161142204, 47.5601054210965, 39.001265442474036, 36.74040005673427, 33.47582276831974, 189.81811950615963, 358.0056608972637, 1550.9614531682184, 1138.211285809531, 438.0451711987133, 733.9536025953042, 454.3069648118446, 2227.7669017298776, 220.11893807911588, 173.04384044319013, 1010.4291363481871, 720.2326759671048, 688.4587932357243, 469.32857180961315, 293.6682805641666, 251.8374159129888, 214.52739672051027, 184.3490286380447, 178.4334719751405, 176.80279169598597, 163.89984743117992, 155.99766082044528, 148.03626628979862, 134.72581748712966, 134.23521316346276, 133.3439849573828, 126.13393834900467, 111.03538608580442, 101.67397439670303, 90.67409926513186, 79.25909112183469, 78.05305200336704, 75.85190234349025, 72.78946948792944, 69.34787726650607, 61.584091564277216, 58.29018310728236, 56.38483240340989, 52.65493882005559, 51.52402034457029, 482.93166405684246, 868.0682720394079, 1592.0076462119066, 321.77405585709334, 252.20028786484158, 251.451649864618, 227.09786327242708, 198.54988820295648, 150.27834825079296, 149.89273274362367, 136.83030523759027, 127.99715365612063, 100.34892000340395, 98.03240059486055, 93.88405321894625, 88.03118093043808, 69.43262270918848, 62.03256675964884, 55.698573551034954, 54.01893464179106, 40.07231834213683, 39.951437934902536, 31.749771240496802, 30.644180095815557, 26.544285012365517, 20.649536395460512, 17.31311939356268, 339.6522579074556, 660.9868272455245, 12.96990291329116, 11.911387139975387, 11.164742632489542, 480.2238500023243, 354.00314059239724, 448.9869470709357, 415.5075119623682, 115.7017000981334, 446.1463313192083, 296.34955944309837, 121.26192573846943, 547.7893683760651, 420.51554051360057, 401.03834062615965, 322.39761173255505, 321.0039500938854, 315.5617690718672, 301.1734848041891, 296.707501961573, 226.5117622618898, 139.96342322521227, 135.9838029530774, 121.75915391865082, 118.47668019156991, 107.74627981036042, 84.32643499274063, 72.57983105764349, 67.48057094985943, 58.7390862294643, 57.28950982798351, 56.40411006245397, 53.6887157837815, 50.28970307655189, 40.13213554547301, 34.08262624454922, 32.961776170388745, 31.036870174869282, 28.404490621908515, 25.47022404464948, 24.159820469099277, 22.583560156974553, 277.57984193198524, 202.0165425411644, 106.79241159205552, 246.61334851340388, 643.4895798851574, 407.3900227740186, 516.6428277691164, 868.0682720394079, 1379.062255584199, 218.12458406995003, 154.11956089331002, 148.9717788716757, 147.7440119763378, 120.70218904075236, 116.07516078336572, 109.67789189508244, 107.61553421274361, 88.4946573800691, 64.0758439023477, 59.349716129068625, 54.65873339685679, 51.86396924844089, 51.54195722930731, 47.52755272093731, 44.289151797868904, 25.53248996242215, 14.70379823619717, 13.564618329725478, 10.613286711803976, 103.63802448915652, 577.8555420836436, 335.7097963217364, 2.9144288734651833, 178.6588740047869, 155.74027930225915, 1321.847621722022, 277.86193059459174, 135.03384964290288, 1.3482081209656263, 224.37236001717932, 342.43493045396, 332.27112416126755, 158.3871679291835, 128.5859636952003, 120.40325005649137, 111.51628476101057, 92.94550900657426, 90.3270523576539, 86.96030347267492, 83.29242156755298, 80.94256789191225, 62.835326126581634, 55.18949659138894, 53.425365696533085, 52.442567852147626, 42.39489389247301, 41.781821781728155, 38.770345686437395, 25.88234812237926, 24.886860751777032, 14.101109630694822, 12.563484500251695, 12.263540743420684, 434.2417921289588, 9.764924283990235, 6.834983645640292, 5.485484744917399, 3.8704772407595827, 3.3230451360842843, 3.0656586675263076, 43.45393009451885, 190.15929158216224, 172.13946574231346, 171.83115267260968, 125.03882268059722, 116.3528423130066, 58.939352225354995, 41.62974455626696, 37.788375903833824, 25.168950873753932, 23.73388208119453, 23.216327559717673, 11.672850513165127, 8.144058753503153, 152.35338788195742, 3.30991906556231, 193.99057338480503, 277.6877613816247, 1.3481885370781195, 1.3482230699388225, 1.3481664177485575, 1.3481854802000242, 1.348162534654998, 1.3481617963718682, 1.348162390447729, 1.3481600567071421, 1.348161557947017, 1.3481607398868507, 1.3481605273959651, 1.3481610104319934, 1.3481796219202355, 1.3481704487358286, 1.3481858622394058, 1.3481662340706615, 1.3481844512394683], \"Category\": [\"Default\", \"Default\", \"Default\", \"Default\", \"Default\", \"Default\", \"Default\", \"Default\", \"Default\", \"Default\", \"Default\", \"Default\", \"Default\", \"Default\", \"Default\", \"Default\", \"Default\", \"Default\", \"Default\", \"Default\", \"Default\", \"Default\", \"Default\", \"Default\", \"Default\", \"Default\", \"Default\", \"Default\", \"Default\", \"Default\", \"Topic1\", \"Topic1\", \"Topic1\", \"Topic1\", \"Topic1\", \"Topic1\", \"Topic1\", \"Topic1\", \"Topic1\", \"Topic1\", \"Topic1\", \"Topic1\", \"Topic1\", \"Topic1\", \"Topic1\", \"Topic1\", \"Topic1\", \"Topic1\", \"Topic1\", \"Topic1\", \"Topic1\", \"Topic1\", \"Topic1\", \"Topic1\", \"Topic1\", \"Topic1\", \"Topic1\", \"Topic1\", \"Topic1\", \"Topic1\", \"Topic1\", \"Topic1\", \"Topic1\", \"Topic1\", \"Topic1\", \"Topic1\", \"Topic1\", \"Topic1\", \"Topic1\", \"Topic1\", \"Topic1\", \"Topic1\", \"Topic1\", \"Topic1\", \"Topic1\", \"Topic1\", \"Topic1\", \"Topic1\", \"Topic1\", \"Topic1\", \"Topic1\", \"Topic1\", \"Topic1\", \"Topic1\", \"Topic1\", \"Topic1\", \"Topic1\", \"Topic1\", \"Topic1\", \"Topic1\", \"Topic1\", \"Topic1\", \"Topic2\", \"Topic2\", \"Topic2\", \"Topic2\", \"Topic2\", \"Topic2\", \"Topic2\", \"Topic2\", \"Topic2\", \"Topic2\", \"Topic2\", \"Topic2\", \"Topic2\", \"Topic2\", \"Topic2\", \"Topic2\", \"Topic2\", \"Topic2\", \"Topic2\", \"Topic2\", \"Topic2\", \"Topic2\", \"Topic2\", \"Topic2\", \"Topic2\", \"Topic2\", \"Topic2\", \"Topic2\", \"Topic2\", \"Topic2\", \"Topic2\", \"Topic2\", \"Topic2\", \"Topic2\", \"Topic2\", \"Topic2\", \"Topic2\", \"Topic2\", \"Topic2\", \"Topic2\", \"Topic2\", \"Topic2\", \"Topic2\", \"Topic2\", \"Topic2\", \"Topic2\", \"Topic2\", \"Topic2\", \"Topic2\", \"Topic2\", \"Topic2\", \"Topic2\", \"Topic3\", \"Topic3\", \"Topic3\", \"Topic3\", \"Topic3\", \"Topic3\", \"Topic3\", \"Topic3\", \"Topic3\", \"Topic3\", \"Topic3\", \"Topic3\", \"Topic3\", \"Topic3\", \"Topic3\", \"Topic3\", \"Topic3\", \"Topic3\", \"Topic3\", \"Topic3\", \"Topic3\", \"Topic3\", \"Topic3\", \"Topic3\", \"Topic3\", \"Topic3\", \"Topic3\", \"Topic3\", \"Topic3\", \"Topic3\", \"Topic3\", \"Topic3\", \"Topic3\", \"Topic3\", \"Topic3\", \"Topic3\", \"Topic3\", \"Topic3\", \"Topic3\", \"Topic3\", \"Topic3\", \"Topic3\", \"Topic3\", \"Topic3\", \"Topic3\", \"Topic3\", \"Topic3\", \"Topic3\", \"Topic3\", \"Topic3\", \"Topic3\", \"Topic3\", \"Topic3\", \"Topic3\", \"Topic3\", \"Topic3\", \"Topic3\", \"Topic3\", \"Topic3\", \"Topic3\", \"Topic3\", \"Topic3\", \"Topic4\", \"Topic4\", \"Topic4\", \"Topic4\", \"Topic4\", \"Topic4\", \"Topic4\", \"Topic4\", \"Topic4\", \"Topic4\", \"Topic4\", \"Topic4\", \"Topic4\", \"Topic4\", \"Topic4\", \"Topic4\", \"Topic4\", \"Topic4\", \"Topic4\", \"Topic4\", \"Topic4\", \"Topic4\", \"Topic4\", \"Topic4\", \"Topic4\", \"Topic4\", \"Topic4\", \"Topic4\", \"Topic4\", \"Topic4\", \"Topic4\", \"Topic4\", \"Topic4\", \"Topic4\", \"Topic4\", \"Topic4\", \"Topic4\", \"Topic4\", \"Topic4\", \"Topic4\", \"Topic4\", \"Topic4\", \"Topic4\", \"Topic4\", \"Topic4\", \"Topic4\", \"Topic4\", \"Topic4\", \"Topic4\", \"Topic4\", \"Topic5\", \"Topic5\", \"Topic5\", \"Topic5\", \"Topic5\", \"Topic5\", \"Topic5\", \"Topic5\", \"Topic5\", \"Topic5\", \"Topic5\", \"Topic5\", \"Topic5\", \"Topic5\", \"Topic5\", \"Topic5\", \"Topic5\", \"Topic5\", \"Topic5\", \"Topic5\", \"Topic5\", \"Topic5\", \"Topic5\", \"Topic5\", \"Topic5\", \"Topic5\", \"Topic5\", \"Topic5\", \"Topic5\", \"Topic5\", \"Topic5\", \"Topic5\", \"Topic5\", \"Topic5\", \"Topic5\", \"Topic5\", \"Topic5\", \"Topic5\", \"Topic5\", \"Topic5\", \"Topic5\", \"Topic5\", \"Topic5\", \"Topic5\", \"Topic5\", \"Topic5\", \"Topic5\", \"Topic5\", \"Topic5\", \"Topic5\", \"Topic5\", \"Topic6\", \"Topic6\", \"Topic6\", \"Topic6\", \"Topic6\", \"Topic6\", \"Topic6\", \"Topic6\", \"Topic6\", \"Topic6\", \"Topic6\", \"Topic6\", \"Topic6\", \"Topic6\", \"Topic6\", \"Topic6\", \"Topic6\", \"Topic6\", \"Topic6\", \"Topic6\", \"Topic6\", \"Topic6\", \"Topic6\", \"Topic6\", \"Topic6\", \"Topic6\", \"Topic6\", \"Topic6\", \"Topic6\", \"Topic6\", \"Topic6\", \"Topic6\", \"Topic6\", \"Topic6\", \"Topic6\", \"Topic6\", \"Topic6\", \"Topic6\", \"Topic6\", \"Topic6\", \"Topic6\", \"Topic6\", \"Topic6\", \"Topic7\", \"Topic7\", \"Topic7\", \"Topic7\", \"Topic7\", \"Topic7\", \"Topic7\", \"Topic7\", \"Topic7\", \"Topic7\", \"Topic7\", \"Topic7\", \"Topic7\", \"Topic7\", \"Topic7\", \"Topic7\", \"Topic7\", \"Topic7\", \"Topic7\", \"Topic7\", \"Topic7\", \"Topic7\", \"Topic7\", \"Topic7\", \"Topic7\", \"Topic7\", \"Topic7\", \"Topic7\", \"Topic7\", \"Topic7\", \"Topic7\", \"Topic7\", \"Topic7\", \"Topic7\", \"Topic7\", \"Topic7\", \"Topic7\", \"Topic7\", \"Topic7\", \"Topic7\", \"Topic7\", \"Topic7\", \"Topic7\", \"Topic7\", \"Topic7\", \"Topic7\", \"Topic7\", \"Topic7\", \"Topic7\", \"Topic8\", \"Topic8\", \"Topic8\", \"Topic8\", \"Topic8\", \"Topic8\", \"Topic8\", \"Topic8\", \"Topic8\", \"Topic8\", \"Topic8\", \"Topic8\", \"Topic8\", \"Topic8\", \"Topic8\", \"Topic8\", \"Topic8\", \"Topic8\", \"Topic8\", \"Topic8\", \"Topic8\", \"Topic8\", \"Topic8\", \"Topic8\", \"Topic8\", \"Topic8\", \"Topic8\", \"Topic8\", \"Topic8\", \"Topic8\", \"Topic8\", \"Topic8\", \"Topic8\", \"Topic8\", \"Topic8\", \"Topic8\", \"Topic8\", \"Topic8\", \"Topic8\", \"Topic8\", \"Topic8\", \"Topic8\", \"Topic9\", \"Topic9\", \"Topic9\", \"Topic9\", \"Topic9\", \"Topic9\", \"Topic9\", \"Topic9\", \"Topic9\", \"Topic9\", \"Topic9\", \"Topic9\", \"Topic9\", \"Topic9\", \"Topic9\", \"Topic9\", \"Topic9\", \"Topic9\", \"Topic9\", \"Topic9\", \"Topic9\", \"Topic9\", \"Topic9\", \"Topic9\", \"Topic9\", \"Topic9\", \"Topic9\", \"Topic9\", \"Topic9\", \"Topic9\", \"Topic9\", \"Topic9\", \"Topic9\", \"Topic9\", \"Topic9\", \"Topic9\", \"Topic9\", \"Topic10\", \"Topic10\", \"Topic10\", \"Topic10\", \"Topic10\", \"Topic10\", \"Topic10\", \"Topic10\", \"Topic10\", \"Topic10\", \"Topic10\", \"Topic10\", \"Topic10\", \"Topic10\", \"Topic10\", \"Topic10\", \"Topic10\", \"Topic10\", \"Topic10\", \"Topic10\", \"Topic10\", \"Topic10\", \"Topic10\", \"Topic10\", \"Topic10\", \"Topic10\", \"Topic10\", \"Topic10\", \"Topic10\", \"Topic10\", \"Topic10\", \"Topic10\", \"Topic10\", \"Topic10\", \"Topic10\", \"Topic10\", \"Topic10\", \"Topic10\", \"Topic10\", \"Topic10\", \"Topic10\", \"Topic10\", \"Topic10\", \"Topic10\", \"Topic11\", \"Topic11\", \"Topic11\", \"Topic11\", \"Topic11\", \"Topic11\", \"Topic11\", \"Topic11\", \"Topic11\", \"Topic11\", \"Topic11\", \"Topic11\", \"Topic11\", \"Topic11\", \"Topic11\", \"Topic11\", \"Topic11\", \"Topic11\", \"Topic11\", \"Topic11\", \"Topic11\", \"Topic11\", \"Topic11\", \"Topic11\", \"Topic11\", \"Topic11\", \"Topic11\", \"Topic11\", \"Topic11\", \"Topic11\", \"Topic11\", \"Topic11\", \"Topic11\", \"Topic11\", \"Topic11\", \"Topic11\", \"Topic11\", \"Topic11\", \"Topic11\", \"Topic11\", \"Topic11\", \"Topic12\", \"Topic12\", \"Topic12\", \"Topic12\", \"Topic12\", \"Topic12\", \"Topic12\", \"Topic12\", \"Topic12\", \"Topic12\", \"Topic12\", \"Topic12\", \"Topic12\", \"Topic12\", \"Topic12\", \"Topic12\", \"Topic12\", \"Topic12\", \"Topic12\", \"Topic12\", \"Topic12\", \"Topic12\", \"Topic12\", \"Topic12\", \"Topic12\", \"Topic12\", \"Topic12\", \"Topic12\", \"Topic12\", \"Topic12\", \"Topic12\", \"Topic12\", \"Topic12\", \"Topic12\", \"Topic12\", \"Topic12\", \"Topic12\", \"Topic12\", \"Topic12\", \"Topic12\", \"Topic12\", \"Topic12\", \"Topic12\", \"Topic12\", \"Topic12\", \"Topic12\", \"Topic13\", \"Topic13\", \"Topic13\", \"Topic13\", \"Topic13\", \"Topic13\", \"Topic13\", \"Topic13\", \"Topic13\", \"Topic13\", \"Topic13\", \"Topic13\", \"Topic13\", \"Topic13\", \"Topic13\", \"Topic13\", \"Topic13\", \"Topic13\", \"Topic13\", \"Topic13\", \"Topic13\", \"Topic13\", \"Topic13\", \"Topic13\", \"Topic13\", \"Topic13\", \"Topic13\", \"Topic13\", \"Topic13\", \"Topic13\", \"Topic13\", \"Topic13\", \"Topic13\", \"Topic13\", \"Topic13\", \"Topic13\", \"Topic13\", \"Topic13\", \"Topic13\", \"Topic13\", \"Topic13\", \"Topic13\", \"Topic13\", \"Topic14\", \"Topic14\", \"Topic14\", \"Topic14\", \"Topic14\", \"Topic14\", \"Topic14\", \"Topic14\", \"Topic14\", \"Topic14\", \"Topic14\", \"Topic14\", \"Topic14\", \"Topic14\", \"Topic14\", \"Topic14\", \"Topic14\", \"Topic14\", \"Topic14\", \"Topic14\", \"Topic14\", \"Topic14\", \"Topic14\", \"Topic14\", \"Topic14\", \"Topic14\", \"Topic14\", \"Topic14\", \"Topic14\", \"Topic14\", \"Topic14\", \"Topic14\", \"Topic14\", \"Topic14\", \"Topic14\", \"Topic14\", \"Topic14\", \"Topic14\", \"Topic14\", \"Topic14\", \"Topic15\", \"Topic15\", \"Topic15\", \"Topic15\", \"Topic15\", \"Topic15\", \"Topic15\", \"Topic15\", \"Topic15\", \"Topic15\", \"Topic15\", \"Topic15\", \"Topic15\", \"Topic15\", \"Topic15\", \"Topic15\", \"Topic15\", \"Topic15\", \"Topic15\", \"Topic15\", \"Topic15\", \"Topic15\", \"Topic15\", \"Topic15\", \"Topic15\", \"Topic15\", \"Topic15\", \"Topic15\", \"Topic15\", \"Topic15\", \"Topic15\", \"Topic15\", \"Topic16\", \"Topic16\", \"Topic16\", \"Topic16\", \"Topic16\", \"Topic16\", \"Topic16\", \"Topic16\", \"Topic16\", \"Topic16\", \"Topic16\", \"Topic16\", \"Topic16\", \"Topic16\", \"Topic16\", \"Topic16\", \"Topic16\", \"Topic16\", \"Topic16\", \"Topic16\", \"Topic16\", \"Topic16\", \"Topic16\", \"Topic16\", \"Topic16\", \"Topic16\", \"Topic16\", \"Topic16\", \"Topic16\", \"Topic16\", \"Topic16\", \"Topic16\", \"Topic16\", \"Topic16\", \"Topic16\", \"Topic16\", \"Topic16\", \"Topic16\", \"Topic17\", \"Topic17\", \"Topic17\", \"Topic17\", \"Topic17\", \"Topic17\", \"Topic17\", \"Topic17\", \"Topic17\", \"Topic17\", \"Topic17\", \"Topic17\", \"Topic17\", \"Topic17\", \"Topic17\", \"Topic17\", \"Topic17\", \"Topic17\", \"Topic17\", \"Topic17\", \"Topic17\", \"Topic17\", \"Topic17\", \"Topic17\", \"Topic17\", \"Topic17\", \"Topic17\", \"Topic17\", \"Topic17\", \"Topic17\", \"Topic17\", \"Topic17\", \"Topic17\", \"Topic17\", \"Topic17\", \"Topic17\", \"Topic17\", \"Topic17\", \"Topic17\", \"Topic18\", \"Topic18\", \"Topic18\", \"Topic18\", \"Topic18\", \"Topic18\", \"Topic18\", \"Topic18\", \"Topic18\", \"Topic18\", \"Topic18\", \"Topic18\", \"Topic18\", \"Topic18\", \"Topic18\", \"Topic18\", \"Topic18\", \"Topic18\", \"Topic18\", \"Topic18\", \"Topic18\", \"Topic18\", \"Topic18\", \"Topic18\", \"Topic18\", \"Topic18\", \"Topic18\", \"Topic18\", \"Topic18\", \"Topic18\", \"Topic18\", \"Topic19\", \"Topic19\", \"Topic19\", \"Topic19\", \"Topic19\", \"Topic19\", \"Topic19\", \"Topic19\", \"Topic19\", \"Topic19\", \"Topic19\", \"Topic19\", \"Topic19\", \"Topic19\", \"Topic19\", \"Topic19\", \"Topic19\", \"Topic19\", \"Topic19\", \"Topic19\", \"Topic19\", \"Topic19\", \"Topic19\", \"Topic19\", \"Topic19\", \"Topic19\", \"Topic19\", \"Topic19\", \"Topic19\", \"Topic19\", \"Topic19\", \"Topic20\", \"Topic20\", \"Topic20\", \"Topic20\", \"Topic20\", \"Topic20\", \"Topic20\", \"Topic20\", \"Topic20\", \"Topic20\", \"Topic20\", \"Topic20\", \"Topic20\", \"Topic20\", \"Topic20\", \"Topic20\", \"Topic20\", \"Topic20\", \"Topic20\", \"Topic20\", \"Topic20\", \"Topic20\", \"Topic20\", \"Topic20\", \"Topic20\", \"Topic20\", \"Topic20\", \"Topic20\", \"Topic20\", \"Topic20\", \"Topic20\", \"Topic20\", \"Topic20\", \"Topic20\"], \"logprob\": [30.0, 29.0, 28.0, 27.0, 26.0, 25.0, 24.0, 23.0, 22.0, 21.0, 20.0, 19.0, 18.0, 17.0, 16.0, 15.0, 14.0, 13.0, 12.0, 11.0, 10.0, 9.0, 8.0, 7.0, 6.0, 5.0, 4.0, 3.0, 2.0, 1.0, -3.7639, -3.9096, -5.0671, -5.1255, -5.2849, -5.4202, -5.4393, -5.5924, -5.6127, -5.7636, -5.8158, -5.8681, -5.9224, -5.9385, -6.1419, -6.1582, -6.1765, -6.2218, -6.2335, -6.2563, -6.2763, -6.3125, -6.3144, -6.3732, -6.3846, -6.4278, -6.4296, -6.441, -6.4471, -6.4737, -4.3289, -5.2172, -5.7211, -5.0511, -5.8319, -3.7148, -5.0971, -5.3513, -5.8652, -5.4669, -4.5197, -6.0506, -4.1185, -4.6767, -4.9121, -5.2347, -5.2287, -4.7112, -4.658, -4.3853, -4.8589, -5.2851, -4.9541, -5.3512, -5.534, -5.1552, -5.3666, -5.1666, -4.7721, -5.211, -4.9831, -5.2647, -4.1414, -4.6289, -4.7032, -4.7354, -4.7619, -4.8477, -5.092, -5.1613, -5.2388, -5.2831, -5.3139, -5.3192, -5.3532, -5.4081, -5.4944, -5.5017, -5.5659, -5.5907, -5.595, -5.6052, -5.6935, -5.724, -5.763, -5.7752, -5.7856, -5.797, -5.8092, -5.8123, -5.8281, -5.8563, -4.3706, -4.9789, -5.2738, -4.2713, -4.7145, -4.8797, -4.3284, -4.4807, -4.713, -4.8077, -4.996, -5.2649, -4.752, -4.8163, -4.5301, -4.8747, -5.0258, -4.9925, -5.1549, -5.0687, -5.1366, -5.2489, -4.9973, -5.2875, -5.4057, -5.4527, -5.563, -5.5968, -5.6016, -5.6378, -5.7032, -5.7198, -5.8503, -5.8691, -5.8975, -5.9339, -5.9345, -5.9348, -5.9403, -5.984, -6.0247, -6.0445, -6.0825, -6.0883, -6.1059, -6.1308, -6.178, -6.1884, -6.1953, -6.1974, -6.2132, -6.2255, -5.1575, -5.194, -5.0586, -3.946, -5.089, -4.9804, -5.4233, -5.6669, -3.6111, -4.9073, -4.8941, -4.6805, -5.1481, -4.8085, -4.9505, -4.7481, -5.1774, -4.6758, -4.8634, -5.403, -4.5842, -4.9647, -5.4321, -5.0822, -4.9875, -5.3846, -5.2882, -5.2277, -5.2811, -5.2227, -5.3496, -5.3114, -4.3627, -4.3717, -4.4668, -4.6042, -4.837, -4.8847, -4.9941, -5.0184, -5.0546, -5.1127, -5.1136, -5.1395, -5.2906, -5.3413, -5.4009, -5.4295, -5.4382, -5.488, -5.4919, -5.5237, -5.5554, -5.5615, -5.5642, -5.5871, -5.5906, -5.6012, -5.6402, -5.6457, -5.7212, -5.7215, -4.6441, -4.8846, -5.0787, -4.9851, -5.242, -5.1159, -5.409, -5.0846, -4.4833, -5.094, -4.3125, -5.122, -5.2615, -5.2129, -4.9909, -5.2452, -4.661, -4.9232, -4.9757, -4.9148, -4.5205, -4.6142, -4.6507, -4.6969, -4.8793, -4.9032, -4.9111, -4.9711, -4.9977, -5.0125, -5.1154, -5.1162, -5.153, -5.1839, -5.1856, -5.1933, -5.3049, -5.3092, -5.3469, -5.3829, -5.426, -5.4805, -5.5159, -5.5235, -5.5423, -5.5707, -5.5805, -5.5824, -5.5834, -5.6167, -4.7348, -5.0214, -4.2232, -4.1309, -4.191, -4.9064, -4.7857, -4.9332, -4.7215, -4.6813, -4.7997, -4.713, -4.7648, -4.7611, -4.4376, -4.931, -4.9022, -4.9569, -4.6002, -4.8906, -4.7705, -3.3137, -3.5187, -3.9231, -4.0233, -4.2006, -4.2676, -4.3362, -4.3654, -4.5266, -4.5313, -4.6403, -4.7278, -4.7854, -4.8615, -4.8642, -4.9665, -4.9787, -5.0026, -5.0224, -5.1289, -5.1851, -5.1888, -5.2384, -5.3013, -5.304, -5.3978, -5.4079, -5.4224, -5.4385, -5.4391, -4.3927, -4.7, -4.5804, -3.3803, -4.289, -5.0429, -5.0545, -4.2041, -4.8053, -4.399, -4.7328, -4.985, -5.0338, -3.447, -3.5879, -3.7161, -3.7813, -3.9474, -4.0795, -4.2449, -4.3669, -4.4784, -4.5603, -4.6638, -4.8201, -4.9035, -4.9113, -5.0338, -5.0751, -5.1627, -5.2557, -5.2854, -5.3044, -5.3489, -5.4147, -5.4603, -5.4621, -5.4666, -5.4746, -5.4747, -5.5831, -5.6434, -5.6654, -4.6469, -4.9217, -4.6278, -4.4106, -4.5704, -4.4529, -3.8807, -4.3029, -4.5477, -4.0498, -4.7638, -4.6162, -4.6312, -4.3846, -4.7367, -4.7999, -4.8047, -4.8696, -4.8869, -3.6536, -3.7843, -4.0592, -4.1816, -4.2403, -4.3017, -4.3285, -4.58, -4.7195, -4.7277, -4.772, -4.8292, -4.8494, -4.8583, -4.8794, -4.9438, -4.9565, -4.9866, -4.9996, -5.0142, -5.0412, -5.0529, -5.0915, -5.0985, -5.1132, -5.1245, -5.1967, -5.2395, -5.2483, -5.2549, -3.8151, -4.187, -4.2688, -4.8942, -4.8713, -4.7733, -4.2621, -4.0052, -4.4612, -4.6932, -4.9033, -4.9806, -3.2333, -3.5971, -4.0982, -4.1151, -4.1188, -4.1656, -4.1948, -4.292, -4.41, -4.4969, -4.5046, -4.5192, -4.5612, -4.602, -4.639, -4.6721, -4.7097, -4.72, -4.7582, -4.8018, -4.832, -4.8693, -4.8752, -4.9504, -4.9524, -4.9649, -4.9652, -5.0563, -5.079, -5.088, -4.4724, -4.5464, -3.8549, -4.8223, -4.7707, -4.7728, -4.8728, -2.6519, -3.3474, -3.4455, -3.8343, -3.8777, -3.9418, -3.9603, -4.1917, -4.4228, -4.5579, -4.5612, -4.571, -4.6705, -4.71, -4.7132, -4.7418, -4.813, -4.9415, -4.953, -4.9927, -5.118, -5.1275, -5.1552, -5.3725, -5.3871, -5.4375, -5.4535, -5.5734, -5.5888, -5.5903, -4.5005, -3.5225, -4.3164, -4.0241, -3.2618, -3.5953, -4.0082, -4.6746, -4.8578, -4.3393, -4.2557, -4.2316, -4.4237, -4.6537, -2.3056, -3.5853, -3.8486, -3.86, -3.9133, -4.0418, -4.1123, -4.2407, -4.3304, -4.4191, -4.4566, -4.528, -4.5534, -4.5616, -4.635, -4.6393, -4.7563, -4.7961, -4.817, -4.8465, -4.9844, -5.0192, -5.0194, -5.0406, -5.0426, -5.1088, -5.1139, -5.268, -5.3325, -5.3345, -4.2602, -4.4651, -4.1262, -3.4993, -4.5056, -3.9739, -4.1781, -4.5716, -4.3063, -4.7368, -4.5469, -3.209, -3.3191, -3.3602, -3.4031, -4.035, -4.14, -4.2013, -4.3721, -4.4573, -4.5696, -4.5739, -4.5796, -4.6441, -4.7177, -4.8118, -5.0039, -5.0133, -5.0375, -5.0501, -5.0977, -5.1225, -5.145, -5.1489, -5.1839, -5.2181, -5.2424, -5.2957, -5.298, -5.3696, -5.3703, -3.5947, -3.434, -4.2932, -3.1039, -3.7603, -4.6405, -4.8785, -4.3302, -4.0478, -4.0103, -4.1374, -4.4979, -4.284, -4.4284, -4.2813, -4.793, -3.1296, -3.3299, -3.4, -3.7734, -3.9443, -4.1081, -4.1737, -4.2972, -4.5588, -4.5798, -4.6557, -4.7657, -4.7691, -4.8364, -4.8679, -4.908, -4.9921, -5.0554, -5.064, -5.1744, -5.2536, -5.2644, -5.304, -5.3213, -5.3764, -5.4299, -5.4371, -5.5092, -5.5434, -5.5596, -3.6092, -3.2029, -3.2543, -4.7371, -3.9144, -3.7966, -4.6368, -4.277, -4.0012, -4.6593, -4.5249, -4.58, -4.8853, -2.6341, -2.752, -3.0021, -3.7486, -3.8215, -3.8501, -4.0725, -4.6281, -4.6304, -4.8675, -4.8736, -4.9217, -5.0001, -5.013, -5.0545, -5.1266, -5.1353, -5.1977, -5.2034, -5.2292, -5.2769, -5.3917, -5.5415, -5.5914, -5.6028, -5.6991, -5.7173, -5.9217, -5.9835, -6.0801, -4.3732, -3.8829, -2.6141, -3.0116, -3.9686, -4.061, -4.6959, -4.4219, -5.1841, -5.2365, -2.3677, -2.7067, -2.7519, -3.136, -3.6065, -3.7609, -3.9221, -4.0747, -4.1076, -4.1168, -4.1932, -4.243, -4.2958, -4.3909, -4.3946, -4.4013, -4.4575, -4.5864, -4.6755, -4.7916, -4.9282, -4.9438, -4.9729, -5.0149, -5.0642, -5.1853, -5.2415, -5.2755, -5.3456, -5.3679, -4.649, -5.0436, -1.8433, -3.4454, -3.6902, -3.6932, -3.7956, -3.9307, -4.2114, -4.214, -4.306, -4.3734, -4.6196, -4.6432, -4.6871, -4.7524, -4.9937, -5.1087, -5.2188, -5.2501, -5.5574, -5.5605, -5.7989, -5.8359, -5.9864, -6.2522, -6.4414, -3.4759, -2.8202, -6.7576, -6.8526, -6.9255, -3.4414, -3.9706, -3.9523, -4.1057, -5.2271, -4.4343, -5.4253, -5.7864, -2.8467, -3.1119, -3.1594, -3.3785, -3.3828, -3.4, -3.4469, -3.4619, -3.7332, -4.2182, -4.2473, -4.3589, -4.3865, -4.4826, -4.731, -4.8835, -4.9578, -5.0994, -5.125, -5.1409, -5.1914, -5.2585, -5.4908, -5.6601, -5.6949, -5.7576, -5.8503, -5.9648, -6.0205, -6.0919, -3.8545, -4.5703, -5.0287, -4.657, -4.5197, -4.806, -4.9383, -4.9979, -5.2003, -3.3425, -3.6923, -3.7266, -3.735, -3.9391, -3.9786, -4.036, -4.0552, -4.2535, -4.582, -4.6603, -4.7446, -4.7984, -4.8048, -4.888, -4.9607, -5.5339, -6.126, -6.2149, -6.4901, -4.3158, -2.7564, -3.4057, -8.2423, -4.2738, -4.5507, -2.9296, -5.0342, -6.1131, -11.7452, -7.3313, -2.7767, -2.807, -3.5522, -3.7626, -3.829, -3.9066, -4.0911, -4.1201, -4.1587, -4.2024, -4.2315, -4.4895, -4.6221, -4.6554, -4.6745, -4.8932, -4.9082, -4.9855, -5.4071, -5.4485, -6.0597, -6.1878, -6.2148, -2.6585, -6.4735, -6.8986, -7.1782, -7.6663, -7.9061, -8.0425, -6.4962, -3.0085, -3.1088, -3.1106, -3.4314, -3.5042, -4.1954, -4.5526, -4.6528, -5.0773, -5.1394, -5.1627, -5.9113, -6.3277, -3.4636, -7.5567, -3.7121, -3.8317, -11.5353, -11.5354, -11.5354, -11.5354, -11.5354, -11.5355, -11.5355, -11.5355, -11.5355, -11.5355, -11.5355, -11.5355, -11.5355, -11.5355, -11.5355, -11.5355, -11.5355], \"loglift\": [30.0, 29.0, 28.0, 27.0, 26.0, 25.0, 24.0, 23.0, 22.0, 21.0, 20.0, 19.0, 18.0, 17.0, 16.0, 15.0, 14.0, 13.0, 12.0, 11.0, 10.0, 9.0, 8.0, 7.0, 6.0, 5.0, 4.0, 3.0, 2.0, 1.0, 0.938, 0.9379, 0.9377, 0.9377, 0.9376, 0.9375, 0.9375, 0.9374, 0.9374, 0.9373, 0.9372, 0.9372, 0.9372, 0.9371, 0.9369, 0.9369, 0.9369, 0.9368, 0.9368, 0.9368, 0.9368, 0.9367, 0.9367, 0.9366, 0.9366, 0.9366, 0.9366, 0.9365, 0.9365, 0.9365, 0.9325, 0.9353, 0.9288, 0.9011, 0.9226, 0.845, 0.8935, 0.8996, 0.9192, 0.9019, 0.8369, 0.9256, 0.799, 0.8343, 0.8504, 0.873, 0.8689, 0.822, 0.8053, 0.7487, 0.8053, 0.8549, 0.7568, 0.8377, 0.8766, 0.7375, 0.8097, 0.6551, 0.2333, 0.638, 0.3115, 0.4511, 1.8233, 1.823, 1.823, 1.823, 1.8229, 1.8229, 1.8227, 1.8226, 1.8225, 1.8225, 1.8224, 1.8224, 1.8224, 1.8223, 1.8222, 1.8222, 1.8221, 1.8221, 1.822, 1.822, 1.8219, 1.8218, 1.8218, 1.8217, 1.8217, 1.8217, 1.8217, 1.8217, 1.8216, 1.8216, 1.7796, 1.7772, 1.7916, 1.7228, 1.675, 1.6841, 1.499, 1.504, 1.476, 1.4616, 1.5135, 1.5753, 1.1493, 1.122, 0.7645, 1.0744, 1.2371, 0.9489, 0.9132, 0.0653, -0.2191, 0.7928, 2.2344, 2.234, 2.2337, 2.2337, 2.2334, 2.2333, 2.2333, 2.2332, 2.2331, 2.233, 2.2326, 2.2326, 2.2325, 2.2324, 2.2324, 2.2324, 2.2323, 2.2322, 2.232, 2.232, 2.2318, 2.2318, 2.2317, 2.2316, 2.2314, 2.2314, 2.2314, 2.2313, 2.2313, 2.2312, 2.1962, 2.186, 2.1587, 2.0253, 2.1159, 2.0892, 2.1131, 2.1038, 1.3942, 1.8183, 1.8018, 1.7025, 1.8733, 1.6415, 1.6579, 1.4765, 1.7242, 1.3741, 1.5031, 1.8719, 1.1215, 1.3382, 1.8875, 1.277, 0.8341, 1.7413, 1.4648, 0.9817, 1.0542, 0.6047, 1.5087, 0.698, 2.938, 2.938, 2.9379, 2.9376, 2.9372, 2.937, 2.9368, 2.9367, 2.9366, 2.9364, 2.9364, 2.9364, 2.9359, 2.9357, 2.9354, 2.9353, 2.9353, 2.9351, 2.9351, 2.9349, 2.9348, 2.9348, 2.9347, 2.9346, 2.9346, 2.9346, 2.9344, 2.9343, 2.9339, 2.9339, 2.8872, 2.8077, 2.7324, 2.6339, 2.7151, 2.6092, 2.7927, 2.4615, 1.852, 2.4191, 1.5366, 2.3961, 2.5827, 2.4419, 2.0288, 2.4701, 0.3443, 1.2472, 1.4283, 0.8009, 3.036, 3.0359, 3.0358, 3.0357, 3.0353, 3.0352, 3.0352, 3.035, 3.0349, 3.0349, 3.0346, 3.0346, 3.0344, 3.0343, 3.0343, 3.0343, 3.0339, 3.0339, 3.0337, 3.0336, 3.0334, 3.0331, 3.0329, 3.0329, 3.0328, 3.0327, 3.0326, 3.0326, 3.0326, 3.0324, 3.0147, 3.0173, 2.9786, 2.8683, 2.7413, 2.8571, 2.763, 2.8164, 2.7226, 2.6612, 2.6277, 2.5392, 2.5241, 2.5109, 1.9563, 2.6639, 2.526, 2.5197, 1.3753, 2.178, 1.5961, 3.1066, 3.1065, 3.1061, 3.106, 3.1058, 3.1057, 3.1056, 3.1055, 3.1052, 3.1052, 3.105, 3.1048, 3.1046, 3.1044, 3.1044, 3.1041, 3.1041, 3.104, 3.104, 3.1036, 3.1034, 3.1034, 3.1032, 3.1029, 3.1029, 3.1025, 3.1024, 3.1024, 3.1023, 3.1023, 2.9392, 2.9313, 2.8993, 2.5952, 2.6187, 2.8565, 2.8639, 1.9676, 2.4993, 1.3168, 1.7502, 1.8342, 1.3641, 3.2497, 3.2495, 3.2494, 3.2493, 3.2491, 3.249, 3.2487, 3.2485, 3.2482, 3.2481, 3.2478, 3.2473, 3.2471, 3.2471, 3.2466, 3.2464, 3.2461, 3.2457, 3.2455, 3.2454, 3.2452, 3.2448, 3.2446, 3.2446, 3.2445, 3.2445, 3.2445, 3.2438, 3.2434, 3.2433, 3.1069, 3.1254, 3.0455, 2.8541, 2.9034, 2.6424, 2.1286, 2.4287, 2.4718, 2.0001, 2.6143, 2.4036, 2.2318, 1.5867, 2.3399, 2.3508, 1.7687, 1.8834, 1.517, 3.5218, 3.5216, 3.5212, 3.521, 3.5208, 3.5207, 3.5206, 3.5199, 3.5194, 3.5194, 3.5192, 3.519, 3.5189, 3.5189, 3.5188, 3.5185, 3.5185, 3.5183, 3.5183, 3.5182, 3.5181, 3.518, 3.5178, 3.5178, 3.5177, 3.5176, 3.5172, 3.517, 3.5169, 3.5169, 3.4341, 3.4223, 3.2742, 3.345, 3.2985, 3.1545, 2.5195, 2.0365, 2.6075, 2.912, 2.8087, 2.9897, 3.6465, 3.6461, 3.6452, 3.6452, 3.6452, 3.6451, 3.645, 3.6448, 3.6444, 3.6442, 3.6441, 3.6441, 3.6439, 3.6438, 3.6437, 3.6435, 3.6434, 3.6433, 3.6432, 3.643, 3.6429, 3.6427, 3.6427, 3.6423, 3.6423, 3.6422, 3.6422, 3.6417, 3.6416, 3.6415, 3.6376, 3.586, 2.6511, 3.2803, 3.0159, 1.8592, 1.9674, 4.1066, 4.1057, 4.1056, 4.1047, 4.1046, 4.1044, 4.1043, 4.1035, 4.1025, 4.1018, 4.1018, 4.1018, 4.1012, 4.1009, 4.1009, 4.1007, 4.1002, 4.0992, 4.0991, 4.0988, 4.0977, 4.0976, 4.0973, 4.0948, 4.0947, 4.094, 4.0938, 4.0921, 4.0918, 4.0918, 4.0536, 3.8043, 3.6928, 3.5437, 3.0735, 2.9106, 3.1359, 3.5041, 3.6213, 2.5896, 2.2539, 1.5959, 1.8456, 2.5109, 4.1749, 4.1733, 4.1726, 4.1726, 4.1724, 4.172, 4.1717, 4.1712, 4.1708, 4.1703, 4.1701, 4.1697, 4.1696, 4.1695, 4.1691, 4.1691, 4.1682, 4.168, 4.1678, 4.1676, 4.1664, 4.1661, 4.1661, 4.1659, 4.1658, 4.1652, 4.1651, 4.1634, 4.1626, 4.1626, 4.1043, 4.0392, 3.9622, 3.6514, 3.9692, 2.8952, 2.9173, 3.4702, 2.7253, 3.5259, 1.9626, 4.3528, 4.3526, 4.3525, 4.3525, 4.3505, 4.35, 4.3497, 4.3488, 4.3482, 4.3475, 4.3474, 4.3474, 4.3469, 4.3463, 4.3455, 4.3436, 4.3434, 4.3432, 4.343, 4.3425, 4.3422, 4.3419, 4.3418, 4.3414, 4.3409, 4.3406, 4.3398, 4.3398, 4.3387, 4.3387, 4.1476, 4.1042, 4.1957, 3.9605, 4.0728, 4.1352, 4.2133, 3.8859, 3.6949, 3.6206, 3.5675, 3.8162, 3.5369, 3.2352, 2.2302, 2.2836, 4.537, 4.5366, 4.5364, 4.5352, 4.5344, 4.5336, 4.5332, 4.5325, 4.5305, 4.5303, 4.5296, 4.5285, 4.5285, 4.5277, 4.5274, 4.5269, 4.5258, 4.525, 4.5249, 4.5232, 4.5219, 4.5217, 4.521, 4.5207, 4.5197, 4.5186, 4.5185, 4.517, 4.5162, 4.5158, 4.2829, 4.1032, 4.0376, 4.335, 3.9426, 3.6087, 4.0806, 3.4793, 3.144, 3.5195, 3.2344, 3.124, 3.4887, 4.5448, 4.5447, 4.5443, 4.5422, 4.542, 4.5418, 4.5408, 4.5369, 4.5368, 4.5344, 4.5343, 4.5337, 4.5327, 4.5326, 4.532, 4.531, 4.5308, 4.5299, 4.5298, 4.5293, 4.5285, 4.5264, 4.5233, 4.5221, 4.5219, 4.5194, 4.519, 4.5129, 4.5108, 4.5073, 4.479, 4.3348, 4.1375, 4.0494, 4.0473, 3.4388, 3.2835, 1.9676, 3.52, 3.7082, 4.8125, 4.8119, 4.8119, 4.811, 4.8093, 4.8086, 4.8077, 4.8067, 4.8065, 4.8064, 4.8058, 4.8054, 4.805, 4.8041, 4.804, 4.804, 4.8034, 4.802, 4.8009, 4.7994, 4.7973, 4.797, 4.7965, 4.7958, 4.7949, 4.7925, 4.7913, 4.7905, 4.7889, 4.7883, 3.2694, 2.2883, 4.8822, 4.879, 4.8778, 4.8778, 4.8773, 4.8764, 4.8743, 4.8743, 4.8735, 4.8728, 4.87, 4.8697, 4.8691, 4.8682, 4.8642, 4.8619, 4.8595, 4.8588, 4.8502, 4.8501, 4.8414, 4.8399, 4.8331, 4.8183, 4.8054, 4.7944, 4.7843, 4.778, 4.7681, 4.7599, 4.4826, 4.2584, 4.039, 3.9631, 4.1201, 3.5633, 2.9814, 3.5139, 4.9456, 4.9449, 4.9447, 4.944, 4.9439, 4.9439, 4.9437, 4.9436, 4.9422, 4.9387, 4.9384, 4.9373, 4.937, 4.9359, 4.9325, 4.93, 4.9286, 4.9257, 4.9252, 4.9248, 4.9236, 4.9219, 4.9152, 4.9093, 4.908, 4.9055, 4.9014, 4.8959, 4.893, 4.8891, 4.6176, 4.2196, 4.3986, 3.9334, 3.1116, 3.2824, 2.9126, 2.334, 1.6688, 5.3706, 5.3682, 5.3679, 5.3678, 5.3658, 5.3654, 5.3647, 5.3645, 5.3618, 5.3561, 5.3545, 5.3526, 5.3512, 5.3511, 5.3489, 5.3468, 5.3244, 5.2841, 5.2759, 5.246, 5.1415, 4.9825, 4.8763, 4.7862, 4.639, 4.4993, 3.9818, 3.4369, 3.0796, 2.0543, 1.3537, 5.4854, 5.4853, 5.481, 5.479, 5.4783, 5.4775, 5.4751, 5.4747, 5.4741, 5.4735, 5.473, 5.4683, 5.4653, 5.4645, 5.4641, 5.458, 5.4575, 5.455, 5.4376, 5.4354, 5.3922, 5.3797, 5.3769, 5.3661, 5.3459, 5.2776, 5.2179, 5.0786, 4.9912, 4.9355, 3.8303, 5.8419, 5.8411, 5.8411, 5.8382, 5.8374, 5.8263, 5.8168, 5.8135, 5.7953, 5.792, 5.7907, 5.7297, 5.6733, 5.6085, 5.3446, 5.1184, 4.64, 2.2641, 2.2641, 2.2641, 2.2641, 2.264, 2.264, 2.264, 2.264, 2.264, 2.264, 2.264, 2.264, 2.264, 2.264, 2.264, 2.264, 2.264]}, \"token.table\": {\"Topic\": [7, 19, 19, 13, 7, 19, 3, 3, 7, 1, 3, 20, 15, 17, 9, 12, 2, 19, 14, 4, 5, 10, 2, 16, 8, 10, 1, 2, 3, 4, 7, 1, 10, 19, 7, 15, 10, 1, 2, 1, 2, 1, 11, 2, 2, 2, 4, 5, 6, 16, 16, 1, 3, 7, 4, 4, 4, 3, 13, 4, 1, 1, 3, 12, 7, 14, 13, 8, 11, 3, 3, 9, 3, 4, 16, 5, 4, 7, 14, 1, 9, 1, 6, 18, 6, 13, 18, 1, 2, 10, 5, 5, 1, 6, 10, 3, 12, 13, 16, 16, 2, 3, 7, 13, 17, 15, 15, 19, 15, 7, 7, 1, 3, 7, 7, 6, 7, 1, 2, 6, 7, 12, 7, 7, 1, 5, 1, 7, 17, 13, 6, 2, 18, 1, 2, 7, 12, 12, 14, 6, 12, 6, 18, 16, 12, 19, 8, 18, 15, 5, 5, 10, 5, 4, 1, 2, 3, 7, 10, 9, 18, 2, 2, 10, 1, 3, 4, 6, 13, 6, 1, 2, 3, 1, 3, 8, 16, 10, 1, 2, 4, 5, 6, 11, 18, 15, 19, 15, 3, 13, 9, 1, 7, 1, 3, 4, 7, 10, 10, 7, 7, 7, 7, 1, 17, 4, 5, 6, 4, 1, 7, 13, 15, 5, 10, 10, 1, 4, 2, 8, 5, 12, 1, 7, 2, 9, 14, 2, 9, 3, 10, 1, 12, 5, 3, 12, 3, 1, 2, 3, 5, 13, 2, 14, 18, 2, 14, 12, 8, 1, 2, 4, 10, 1, 3, 9, 6, 6, 11, 4, 13, 4, 10, 10, 8, 16, 12, 16, 9, 10, 2, 10, 11, 14, 8, 1, 3, 4, 3, 11, 1, 7, 12, 17, 5, 12, 6, 18, 1, 3, 17, 17, 15, 16, 3, 17, 2, 11, 6, 17, 19, 14, 12, 12, 8, 6, 5, 5, 8, 2, 6, 8, 2, 13, 9, 10, 12, 14, 7, 11, 1, 8, 14, 5, 2, 8, 9, 3, 11, 9, 10, 6, 19, 15, 1, 19, 13, 14, 11, 19, 12, 16, 3, 1, 3, 1, 6, 5, 8, 9, 3, 7, 1, 1, 2, 3, 7, 8, 3, 6, 12, 13, 2, 3, 2, 4, 7, 8, 10, 19, 9, 7, 10, 13, 1, 1, 3, 4, 7, 13, 4, 4, 8, 7, 3, 19, 14, 6, 19, 17, 20, 18, 9, 3, 11, 2, 14, 2, 14, 10, 1, 3, 4, 13, 4, 1, 2, 3, 4, 6, 15, 14, 20, 20, 17, 15, 1, 3, 4, 5, 11, 8, 14, 2, 14, 12, 3, 15, 1, 11, 8, 20, 8, 17, 6, 6, 9, 13, 15, 2, 4, 1, 6, 9, 1, 1, 2, 6, 3, 4, 10, 14, 14, 4, 7, 9, 8, 1, 5, 1, 2, 3, 4, 2, 3, 16, 1, 13, 13, 2, 19, 17, 1, 1, 2, 9, 7, 1, 6, 1, 2, 4, 11, 18, 3, 18, 9, 7, 9, 1, 14, 15, 6, 1, 4, 5, 10, 4, 1, 2, 3, 7, 3, 7, 15, 15, 8, 9, 17, 5, 5, 14, 11, 14, 16, 14, 5, 10, 17, 1, 3, 5, 14, 15, 3, 9, 2, 1, 2, 4, 5, 7, 10, 5, 4, 18, 2, 8, 2, 17, 19, 5, 7, 16, 13, 13, 4, 19, 20, 4, 20, 16, 16, 1, 3, 19, 10, 16, 19, 7, 7, 16, 4, 16, 1, 2, 5, 6, 7, 6, 14, 19, 10, 20, 17, 4, 13, 3, 1, 2, 7, 3, 16, 6, 1, 2, 4, 5, 6, 11, 11, 3, 13, 15, 4, 12, 9, 5, 7, 8, 4, 12, 5, 17, 1, 3, 7, 14, 1, 2, 17, 1, 2, 6, 8, 19, 1, 2, 5, 18, 10, 15, 2, 18, 1, 18, 12, 7, 14, 1, 6, 6, 9, 18, 11, 10, 2, 2, 12, 1, 2, 18, 12, 1, 2, 3, 8, 6, 1, 2, 3, 4, 7, 11, 15, 1, 17, 17, 5, 2, 8, 1, 2, 7, 10, 1, 2, 3, 4, 4, 15, 1, 4, 7, 11, 11, 5, 8, 12, 19, 17, 1, 2, 11, 7, 7, 10, 8, 1, 2, 4, 20, 4, 20, 1, 2, 3, 7, 11, 4, 5, 10, 14, 17, 1, 2, 10, 3, 5, 10, 16, 2, 1, 3, 1, 2, 6, 10, 6, 15, 4, 6, 5, 6, 9, 13, 1, 2, 3, 4, 5, 8, 7, 15, 4, 16, 4, 16, 18, 2, 12, 17, 1, 2, 5, 11, 1, 2, 5, 7, 9, 4, 5, 6, 7, 8, 9, 8, 11, 2, 13, 5, 14, 1, 2, 3, 4, 5, 10, 17, 14, 3, 16, 4, 4, 1, 3, 4, 4, 5, 18, 9, 1, 3, 7, 2, 10, 10, 15, 1, 12, 18, 9, 9, 11, 11, 11, 11, 6, 6, 12, 3, 1, 2, 3, 1, 2, 3, 7, 20, 1, 6, 8, 14, 1, 4, 9, 10, 3, 4, 19, 15, 3, 3, 2, 3, 1, 2, 6, 9, 17, 13, 1, 13, 4, 5, 15, 1, 9, 17, 1, 2, 12, 12, 7, 8, 9, 3, 10, 17, 12, 1, 2, 1, 2, 8, 5, 8, 12, 2, 11, 14, 2, 1, 2, 11, 16, 8, 5, 12, 3, 4, 10, 13, 9, 1, 2, 4, 9, 10, 12, 19, 16, 3, 19, 5, 1, 2, 13, 2, 5, 13, 3, 1, 1, 3, 7, 12, 13, 7, 15, 20, 7, 3, 7, 1, 5, 8, 2, 4, 1, 3, 13, 8, 9, 12, 2, 3, 11, 17, 19, 4, 8, 7, 18, 5, 14, 1, 3, 3, 4, 16, 13, 5, 9, 13, 13, 2, 18, 20, 10, 4, 17, 1, 13, 1, 3, 4, 12, 7, 11, 11, 11, 2, 7, 11, 17, 11, 17, 2, 14, 7, 2, 6, 10, 2, 5, 10, 4, 10, 17, 3, 1, 2, 12, 14, 13, 18, 2, 6, 9, 8, 6, 8, 6, 17, 2, 4, 5, 5, 8, 6, 17, 4, 7, 12, 14, 15, 3, 11, 8, 8, 8, 5, 3, 5, 19, 2, 11, 4, 11, 9, 1, 2, 15, 1, 1, 3, 12, 6, 7, 12, 5, 4, 11, 15, 9, 12, 12, 19, 20, 18, 1, 2, 3, 4, 5, 3, 4, 5, 1, 11, 13, 18, 13, 3, 1, 2, 4, 6, 1, 8, 16, 4, 17, 3, 17, 9, 16, 5, 12, 13, 1, 2, 11, 8, 16, 2, 3, 10, 2, 9, 10, 11, 1, 6, 15, 17, 13, 10, 6, 6, 5, 8, 2, 9, 10, 11, 11, 16, 4, 3, 9, 16, 14, 19, 5, 6, 1, 2, 1, 1, 7, 1, 7, 4, 9, 1, 2, 1, 3, 6, 1, 2, 15, 1, 6, 12, 16, 9, 1, 4, 11, 18, 17, 3, 15, 4, 1, 3, 7, 8, 3, 7, 4, 4, 4, 1, 18, 10, 12, 1, 2, 3, 4, 5, 20, 20, 5, 13, 1, 2, 3, 8, 10, 2, 1, 2, 8, 10, 14, 14, 6, 1, 8, 20, 11, 11, 16, 2, 8, 4, 4, 17, 8, 1, 2, 16, 10, 8, 17, 5, 18, 13, 13, 2, 3, 5, 5, 18, 1, 2, 3, 13, 15, 2, 19, 4, 16, 14, 1, 4, 1, 2, 4, 1, 2, 3, 4, 7, 1, 2, 3, 1, 1, 1, 4, 5, 6, 1, 4, 6, 17, 9, 16], \"Freq\": [0.9926394916517076, 0.9724924253096323, 0.9219132635989182, 0.9846835092654787, 0.7824378583489426, 0.18410302549386887, 0.9971544734816863, 0.9959617884066153, 0.9929566019700155, 0.9906494175879189, 0.008735885516648315, 0.856688774410465, 0.9887688730648775, 0.9682352458175855, 0.9959607480967136, 0.9827454790173665, 0.9992168244885055, 0.8969677053424749, 0.9890092638654187, 0.9969910020692623, 0.3809157676610379, 0.6167207666892995, 0.8469727455363204, 0.1484733099744944, 0.9970117005453212, 0.9843884431940152, 0.5343985875366882, 0.34680335543063884, 0.07164365549606527, 0.01276668913451897, 0.03424476614906265, 0.999222925044078, 0.9971259422497047, 0.9573541385764234, 0.9950351769000165, 0.9778662025317746, 0.9785870609226037, 0.5040165285683265, 0.49572584261910274, 0.9621863091571057, 0.03712741647844234, 0.9987625178752362, 0.9872493641971307, 0.9987576144352093, 0.9980293752597793, 0.9972610340895823, 0.05056705232432327, 0.9425698553253857, 0.006068046278918792, 0.9944866410924029, 0.9921939608378314, 0.9983115070665046, 0.9511975710890527, 0.047136855492341874, 0.9955528407810091, 0.9968114176800417, 0.9982327841162811, 0.6515589707447428, 0.34691112766679544, 0.9944216223113471, 0.9998409540397785, 0.16049804834956288, 0.5119887742351056, 0.32581103814961265, 0.5605515905770992, 0.4334161782812623, 0.9816050095306952, 0.9971164256603356, 0.9911502653394286, 0.9979982055038797, 0.9973379264117855, 0.9934093096448481, 0.6365624461378884, 0.09189809961849796, 0.26672863060003066, 0.995778081047293, 0.07076895726339891, 0.319601742479866, 0.6072433107117454, 0.4664475817598566, 0.5317865426289415, 0.16195093694089474, 0.690990664281151, 0.14395638839190644, 0.36371540643599787, 0.6307469706548318, 0.9833416288617968, 0.08923216285695496, 0.8698800067731897, 0.04007432463635702, 0.9971434419062019, 0.9950127145990658, 0.9564086717378968, 0.043076044112919445, 0.9923322841942467, 0.9974976970648639, 0.9896839198147152, 0.9756149823568873, 0.9448886977092619, 0.9793667205228748, 0.484232016094602, 0.4835146353300174, 0.031564753641722204, 0.9918455530879998, 0.9875361109951578, 0.9928801787377293, 0.9943191666428473, 0.9643642980678587, 0.9954593946832786, 0.9986858744981942, 0.9976529525511155, 0.4591807455178029, 0.2148573007102019, 0.32566228007646314, 0.9928785949782855, 0.9963332039138082, 0.9957065777162611, 0.6045111707487499, 0.12830648171093434, 0.1303350426866013, 0.016735628049252306, 0.11968509756434982, 0.9989873531341738, 0.9930272143815846, 0.4005242411809214, 0.5980279303582903, 0.18810340738435732, 0.32175582842061123, 0.48510878746492153, 0.9932321403677293, 0.9973729178919638, 0.9984757541348648, 0.990737374162485, 0.16329875193949672, 0.3069659599299829, 0.40244665095471593, 0.12582034985502205, 0.9974499018575145, 0.9778913967317342, 0.9972791462907689, 0.9926628210008651, 0.9968115135592803, 0.884654452363265, 0.9952407355479117, 0.9864378940747245, 0.9876661211719838, 0.9948557950020924, 0.9399788283603512, 0.9945097726124622, 0.9979797570739796, 0.9975650748617724, 0.9871874684335871, 0.9978846539649764, 0.9949822130335308, 0.13429067732250743, 0.1478488707060298, 0.4622698315524775, 0.2550231612614925, 0.9905804729594478, 0.9970218694056849, 0.9772582546792072, 0.9991450437158456, 0.9977518968572423, 0.9892109272622036, 0.29212378462323263, 0.0662147245145994, 0.01557993517990574, 0.07205720020706405, 0.5511402069891655, 0.9989340224373761, 0.4189452840763223, 0.1972788084060021, 0.3832347712964279, 0.2560273974325372, 0.7054977173696582, 0.03641278541262752, 0.9201175094747823, 0.990864482415461, 0.03497817357672925, 0.07848760900144125, 0.22095968186275308, 0.3395442215497132, 0.0904313755886171, 0.23460970081952545, 0.9831101964308443, 0.9936046424337504, 0.9670975967999612, 0.9871901501930428, 0.9968260922061226, 0.9713921285116887, 0.9978025139939513, 0.1831374803005349, 0.8152048901873368, 0.0008430361678481727, 0.1669211612339382, 0.4021282520635784, 0.42910540943471986, 0.9991456151513727, 0.9976506577846014, 0.9979716048343589, 0.9990557070506679, 0.9983082037496047, 0.9988269600757743, 0.9989748363540828, 0.9519938291518887, 0.5814604625364508, 0.0735498914425582, 0.3441579825991403, 0.9974812613536972, 0.540262184327481, 0.45934928308654777, 0.9692370771097543, 0.9704211679450031, 0.7597065765748869, 0.23892843368739383, 0.9987007359235512, 0.37180764181934395, 0.6253128521507147, 0.9680540470857822, 0.03088595410027564, 0.9973986497483381, 0.9983213356589326, 0.9046103145862231, 0.09512548578068689, 0.3037386739785204, 0.6921258308690874, 0.9708815446128439, 0.9994236541705023, 0.9960536750446339, 0.9959537217661029, 0.9912932843922108, 0.48114055880377166, 0.5176169188574872, 0.9958593973053963, 0.9948898742804639, 0.9797013056718789, 0.9957175919524203, 0.0774206179274278, 0.29725694043740797, 0.20358755084619903, 0.1730016277143757, 0.24755481534819507, 0.9978669935872211, 0.9956933016268444, 0.9948443038883257, 0.999108585252919, 0.9743273601224329, 0.9943339677790568, 0.9953412019119406, 0.9014123134218446, 0.09827147066059413, 0.863202838239593, 0.13195457399840912, 0.9642226091164499, 0.035174559384093015, 0.9970946405870323, 0.9955752930650551, 0.9958785515817837, 0.9880480664287195, 0.2238991883967939, 0.7745701652645843, 0.9967271731056556, 0.9950577180066805, 0.9952401981970889, 0.9951231729413158, 0.9939318615408441, 0.9935079506087102, 0.9241546619235514, 0.9930050582910791, 0.9887508900268426, 0.7333861833183537, 0.1569011158238024, 0.10932464844497199, 0.9780753215428282, 0.9979132457177053, 0.11231293031175456, 0.6958334930592914, 0.19084753571771826, 0.9947507115342549, 0.9923678930296931, 0.11539344866611874, 0.8831131275468271, 0.9859976731825061, 0.9703930322873843, 0.9776583126052553, 0.020987298302796175, 0.9953478702836214, 0.8841252981829666, 0.999422570034123, 0.995535131063516, 0.9837926672416535, 0.9505539233002396, 0.9966747756287408, 0.9905835635697944, 0.9962185266219588, 0.995050829267244, 0.9990088962890049, 0.9942004615161327, 0.9989078596260006, 0.9927652931326176, 0.9784470476294482, 0.9671117593983696, 0.9939949521959798, 0.9876854155104932, 0.9969488549913155, 0.9958627052120068, 0.9951064839254771, 0.9976994525409472, 0.9939814727147744, 0.9997496746136474, 0.08377991089074067, 0.9152159885912557, 0.9978445564200235, 0.9981032691620548, 0.9965028218559406, 0.14287500171489467, 0.8535865487069348, 0.9885584870025946, 0.40651445669648384, 0.591992683983532, 0.1598255678352388, 0.8362302031379459, 0.9742328114771028, 0.9943923875746641, 0.9995128365645002, 0.9944781933491573, 0.9983225933607147, 0.1806127895010448, 0.8127575527547016, 0.3356111217077892, 0.6598840298443692, 0.9981821044091139, 0.9733204316348633, 0.9754158190667102, 0.9993965899352815, 0.8192587845372381, 0.9786336782281725, 0.9985799573307163, 0.9898246993510846, 0.8778367749024699, 0.9939213484635605, 0.9942269224902698, 0.9969452243569654, 0.8756302406244663, 0.12409651710016635, 0.9848703618901283, 0.014226623743652543, 0.42316573114483474, 0.40014834827921614, 0.17528622336124955, 0.8102058384012084, 0.1894026048195385, 0.9978371014140373, 0.19624957391099657, 0.16104449767505444, 0.599235340186249, 0.03595412041117495, 0.006741397577095302, 0.11380759677276048, 0.29836045640426395, 0.5844173888330944, 0.9777344971518338, 0.03767203724727972, 0.9618142009696103, 0.22439714101192632, 0.24490655712591958, 0.5296255102378261, 0.7988352633047221, 0.1970460316151648, 0.9889569903240198, 0.9976794267281959, 0.9975525844872181, 0.9941182758599383, 0.9905160247262534, 0.9983023088308385, 0.385762367499127, 0.5868939602645677, 0.012487105537543996, 0.014716945812105423, 0.9884326820927481, 0.9952696635153134, 0.6998903591196716, 0.29803023533942063, 0.9990325713496269, 0.9973575123703022, 0.9958096259278872, 0.9918569230790074, 0.9950340202103161, 0.6018576089389815, 0.9956649439025174, 0.8595222863524852, 0.993476758624781, 0.9973547608249126, 0.8770714223770483, 0.12146813996260547, 0.3346311405353211, 0.664748951622189, 0.39008574729094647, 0.6088500515149232, 0.9817801334992287, 0.494530874363938, 0.017661816941569215, 0.2137079849929875, 0.2719919809001659, 0.9940766488584168, 0.6144538551552866, 0.051948240268249554, 0.04874438404025178, 0.11785613981563224, 0.16682937072931245, 0.9907981435395897, 0.9953210331332972, 0.9476089594019984, 0.9933805665226172, 0.9780593001953177, 0.9899209180090701, 0.16429687847842478, 0.6952695718391618, 0.09466111541472157, 0.03372982273398125, 0.01088058797870363, 0.9941294853567538, 0.9901798864919459, 0.6360197864923405, 0.35889687952067784, 0.9936123522705892, 0.9951808070586572, 0.9971692074818916, 0.12277753813382462, 0.8743248927711754, 0.9979843462406214, 0.9535558363311476, 0.9957503969319906, 0.9774913447181628, 0.9994601785367103, 0.9989940294550689, 0.9957673211531102, 0.9869346831948024, 0.9926822037088494, 0.184153712691183, 0.8128805297580501, 0.20723350060163548, 0.7781414777492783, 0.012190205917743264, 0.9995073511978979, 0.8755754999018778, 0.07093494912910644, 0.05315676638998202, 0.30700138257269843, 0.33719126922458426, 0.35547528508417714, 0.9861239073431347, 0.9984076405819374, 0.8770628602145851, 0.12222721592444312, 0.9939624016606744, 0.9971927636787397, 0.1631737777520602, 0.8353787969697866, 0.0804600290080212, 0.3481013754999806, 0.56098520225037, 0.01005750362600265, 0.111598852555942, 0.8867036103081211, 0.8956767145621318, 0.9986786662252201, 0.9967430933590695, 0.9781752147292229, 0.9984310313066654, 0.9853083619689108, 0.9967334737047385, 0.9983452411316925, 0.9878868952833536, 0.011299359913371693, 0.9936417646664503, 0.996318170852094, 0.9986329764027185, 0.9956078708301658, 0.44333540291255497, 0.5560477934835435, 0.9952791025141636, 0.9925082251483783, 0.9832098363934575, 0.19297936349696213, 0.7912153903375447, 0.9934700938644456, 0.9974706994592016, 0.9955818010814063, 0.9989128230917614, 0.9377397714353811, 0.05795021059432131, 0.9956264325993326, 0.1453542941681346, 0.0959038641934084, 0.6878105260121009, 0.0704294002670343, 0.9953763177979379, 0.3536297996873331, 0.17702073791100492, 0.4075593733299881, 0.06175142020151334, 0.8639927937818651, 0.13558040763961576, 0.9841142371933177, 0.9754396289856465, 0.6919183015671335, 0.24457535130922847, 0.06062124092280022, 0.9942159986287901, 0.9955451919936399, 0.9978122236186799, 0.1871478787013563, 0.810043057065572, 0.9833544408431524, 0.9941809134281261, 0.9962798591752526, 0.632569165215001, 0.36088881861625055, 0.23570972250597524, 0.03133713073778862, 0.3937578601400396, 0.33108359866446235, 0.006812419725606221, 0.9978565293107391, 0.9969102193107845, 0.9988077552383182, 0.024679383495602347, 0.696197447319492, 0.028659929220699498, 0.11662998974534657, 0.029456038365718928, 0.1042902979975454, 0.9933571624926905, 0.9938069557849997, 0.9700834560385974, 0.09425722364208358, 0.9045652914038667, 0.9984640868735168, 0.9974108694332356, 0.9912419172126133, 0.9973749517783194, 0.996274373873885, 0.9252189534667039, 0.9821320186068183, 0.9876071857950119, 0.9978109678701802, 0.9659092707428529, 0.9951629686486869, 0.20347430687933657, 0.7876424782425931, 0.9993670594395044, 0.9463460895127663, 0.34048829358951577, 0.6589893357479742, 0.9883551026800765, 0.9926528699218367, 0.9951656820693637, 0.8755532750312723, 0.9990736104821044, 0.3269308677593587, 0.6705206332389395, 0.09228625667806457, 0.9062207827895193, 0.45185120854628735, 0.08968039253590436, 0.0020695475200593312, 0.28007876438136287, 0.17591153920504318, 0.996145152398581, 0.9859063781285965, 0.9864030193952381, 0.9982381126169112, 0.9269448598732035, 0.9968724681001845, 0.9490425837832297, 0.04920961545542673, 0.9953747493464288, 0.8274685387018725, 0.17229867392663817, 0.9941314044253494, 0.5992671439898095, 0.39951142932653966, 0.9958588423068424, 0.5841543905983025, 0.0025272439642695416, 0.06318109910673854, 0.030326927571234497, 0.31987687890611627, 0.9962518774167262, 0.9920243933920461, 0.9982738244655417, 0.9815418497653003, 0.9865085095798481, 0.9951547558180606, 0.9846190965488861, 0.9972961702347909, 0.6857241314102174, 0.0349265262178379, 0.27708377466151396, 0.19034718588688593, 0.8053150172137482, 0.9984091120287931, 0.9708214701350725, 0.4670603828786027, 0.09227444641444654, 0.4398836623592794, 0.9790312041703557, 0.8701543614315936, 0.12969389618117397, 0.978233194613132, 0.32887966041986333, 0.26243932498150707, 0.04119300797178086, 0.36675065161972636, 0.9543376347284751, 0.07186910082437477, 0.5817614582520442, 0.0975906737509931, 0.24813752705678868, 0.9462692693539163, 0.04692244310845866, 0.5149478329161248, 0.47576701954207185, 0.9994509360622276, 0.6862407994270417, 0.9914509902116452, 0.9980000349749992, 0.9789570488028622, 0.45395716344452536, 0.5447485961334304, 0.9981364490743647, 0.9936618208629143, 0.9708923800628999, 0.9965017118965389, 0.9862013423150089, 0.999018438522831, 0.9982402095879711, 0.9822950143866225, 0.04275786228458306, 0.9569280253442226, 0.9881957180327748, 0.9838863776797717, 0.8341692064795764, 0.13094384213097363, 0.03461472000679651, 0.9970587689413418, 0.9967835688047085, 0.5140238631917758, 0.09922540858439745, 0.328259399631945, 0.016764110126131077, 0.04168373328659619, 0.9939494994926495, 0.9982885031348382, 0.9990278501447666, 0.9963959940416244, 0.9931166071605576, 0.997338760031524, 0.9988448777277742, 0.9949155230838663, 0.04677698595582201, 0.6197950639146417, 0.12961123191925683, 0.2027002724752287, 0.8795483912473241, 0.03046683087207226, 0.03409383454731896, 0.05585585659879914, 0.9982107158800562, 0.9919663504875352, 0.26095571539075274, 0.73681613757389, 0.06469799401416729, 0.931651113804009, 0.9930846459787797, 0.07786794254416107, 0.14299385812655033, 0.7786794254416106, 0.6523883500748008, 0.9743545299007099, 0.9988782328299869, 0.9984669755766306, 0.9960244128320807, 0.9977637193319073, 0.9934337989736373, 0.9915613058777971, 0.998390704367913, 0.9160148351380467, 0.08368826635161736, 0.6986263961895927, 0.2988968602254443, 0.510334075891517, 0.47940473795869787, 0.23715668612938332, 0.2409633745102723, 0.46822267084934427, 0.053293637332445694, 0.9971240608622524, 0.10571367797846822, 0.8440576476093321, 0.049553286552406976, 0.9906674893325614, 0.9717898006152648, 0.4804903944086775, 0.5094190018702092, 0.009642869153843873, 0.3634130098841374, 0.5950388843157854, 0.03993549559166345, 0.9922095638251488, 0.9982677511881988, 0.9973681085749418, 0.0024792531108041877, 0.5781447648421739, 0.16412805344624373, 0.25728181351032803, 0.9911685769991528, 0.7847901229259439, 0.2132806930379214, 0.7986222792406117, 0.1980411042860816, 0.9955043028695074, 0.9960782663759958, 0.6466213102644754, 0.3494367686782771, 0.12078381527603341, 0.35664512384655533, 0.14931542518375784, 0.06086743446981211, 0.08591184761103689, 0.2260337540467502, 0.9941259683864602, 0.9742775849405223, 0.7339484298802078, 0.25564495872231957, 0.08243725559931095, 0.9156423746923467, 0.9858976125099301, 0.18579810568063268, 0.8126496584909916, 0.9933258995171212, 0.10310057646639108, 0.1662496795520556, 0.7294365784997169, 0.9981516759258938, 0.5309321776590736, 0.279769218615611, 0.01258675421174528, 0.009154003063087477, 0.16706055590134644, 0.13334238595939457, 0.22271782303488066, 0.14487470042074763, 0.36110559657111724, 0.06270695988360718, 0.07496004399879479, 0.9959680542252674, 0.9925707104966541, 0.997460824493469, 0.9923605071137127, 0.9964691518695433, 0.9919276430051082, 0.2808889236858117, 0.16643503288004802, 0.551763131926119, 0.018682410132571006, 0.9784912306934064, 0.9940133497383656, 0.9942451675462047, 0.9881119213665359, 0.5679452413116866, 0.4298565944045314, 0.9964231524311302, 0.9968379178347619, 0.49415072040565106, 0.43106047139619036, 0.07467366371173242, 0.994749354065273, 0.8886660664517829, 0.10367770775270801, 0.9984338619003752, 0.31772376879881614, 0.6482540618678341, 0.03415073138720481, 0.7798647299665443, 0.21940912935880072, 0.9867295891310864, 0.9985856144713402, 0.543611641144688, 0.45496112735801575, 0.9678596385993934, 0.9946844742703215, 0.941254780815959, 0.05642399231049346, 0.9910348982889278, 0.9941708370220105, 0.9933700870594883, 0.9991704440751525, 0.9968158925407394, 0.9976560903079846, 0.9982630176840939, 0.21081531761686997, 0.7264743757649524, 0.062286343841347944, 0.6538241999072152, 0.043863206071756984, 0.28529828906501764, 0.016495564676558182, 0.9840623931229618, 0.2660439511844471, 0.6134837854508214, 0.119832827870615, 0.9559137716036542, 0.2140501699653043, 0.6207454928993824, 0.1641051303067333, 0.9954939466676748, 0.2798956272466039, 0.7185125553098796, 0.9867061066111303, 0.9815371833996743, 0.9972345016564498, 0.9971414736618126, 0.38903638408313224, 0.6102715326219738, 0.45583593009701906, 0.28472770608840614, 0.1751822293421513, 0.08419611022646033, 0.9751062456104839, 0.9941480239223324, 0.3929128491381174, 0.6054178267001414, 0.34461062032968576, 0.6073230376797857, 0.0467989731311919, 0.99867066238278, 0.9968685570848724, 0.9855521834536881, 0.12428972895438041, 0.2009791361815513, 0.6743378911354682, 0.9936023928909931, 0.9914290232411109, 0.9956423208883702, 0.9952614013968282, 0.37333329163852813, 0.5687499364805702, 0.056874993648057016, 0.9950331856907212, 0.9402786542715666, 0.05913990560752418, 0.5445373774749664, 0.4023001784572974, 0.05272866416673315, 0.45569368378634517, 0.5435017690342123, 0.9800809264966774, 0.8618495940976166, 0.0619454395757662, 0.0758607194804673, 0.9983391512665349, 0.06135792347097263, 0.41197462901938764, 0.5230032524430525, 0.9882861854227206, 0.9944605029429598, 0.9932989319695477, 0.9914377182773626, 0.17194713710656276, 0.08866024257057142, 0.5480814995271688, 0.19075385522759306, 0.9925676250064501, 0.08876319934450017, 0.10591063558150587, 0.13314479901675025, 0.36917421545553475, 0.3020974795872477, 0.9854959138191164, 0.9898272760386155, 0.9940441892860103, 0.9968028922715931, 0.9883454138004332, 0.9961348644718389, 0.21569535366576517, 0.3892433393738521, 0.39420185325122603, 0.20151850566610882, 0.4325930588299136, 0.3600463967901144, 0.997571003033315, 0.9996591089948094, 0.2908725288172479, 0.422564267138903, 0.2863975668354441, 0.870284764218911, 0.12050096735338768, 0.9967873943969721, 0.9835358614961617, 0.9883729328298895, 0.9987436517065492, 0.2920375113738529, 0.7061998002313171, 0.999082745903193, 0.9959529345953865, 0.9962317100083428, 0.3897585071055899, 0.6077051008748381, 0.511365178853414, 0.2439846931784263, 0.24231356514295763, 0.5866991241273531, 0.3707763981473979, 0.041439715087062116, 0.37489242991498467, 0.30890556120654444, 0.277724952915743, 0.03770678211910871, 0.7291971787372517, 0.21910034113955437, 0.779655759379713, 0.9947797108174676, 0.8479936747577264, 0.7153753412840628, 0.2839489816173664, 0.7535188958414029, 0.24625465603459756, 0.9255554401230661, 0.07293500138594639, 0.9865577028297047, 0.9886479860762011, 0.997168076171373, 0.995537439547239, 0.9845301163180884, 0.9842029052101274, 0.3236102907756348, 0.674909162580201, 0.9526739146348868, 0.9958782622587048, 0.995703290909481, 0.9842702351539607, 0.35139536957352574, 0.6466572935282774, 0.7407443208062708, 0.013073496660894296, 0.24578173722481278, 0.9980427086579865, 0.99619262778572, 0.9954383294195107, 0.9910072568362056, 0.996538026918481, 0.16639247215229824, 0.5446398405422221, 0.28459477477414946, 0.003636993926826191, 0.8075799150891284, 0.1890080652336258, 0.9986289646080206, 0.9671971832845333, 0.9922675672101114, 0.9987475586891467, 0.9982437238331318, 0.9960715999973035, 0.40795448710076915, 0.5902320238904745, 0.9977078687745176, 0.260164059905314, 0.738086584048556, 0.929879959316977, 0.998300810879605, 0.30291894664596697, 0.21437340839560742, 0.48001002314668617, 0.9947022203078573, 0.5778851842517176, 0.4173615219595739, 0.9546661315773378, 0.04468925582010605, 0.9990405055535656, 0.998889231143276, 0.8118815173336934, 0.1856110705746437, 0.8391744278071651, 0.16006475197062595, 0.2737545851169037, 0.06083435224820083, 0.6641083453761923, 0.9965125307573075, 0.9955660876863339, 0.41201429337581547, 0.5805655952113764, 0.13172569983581692, 0.8658769335874366, 0.9863093692029802, 0.9867952688031661, 0.9906751701209531, 0.996451663280075, 0.9960957719410223, 0.9956207600007614, 0.9959134806905519, 0.9965110398897109, 0.9959084579834725, 0.8847154952189019, 0.11306268309506734, 0.984483323413706, 0.999251878317218, 0.9940972684944118, 0.9981438319077891, 0.9931223143676476, 0.9950668505777874, 0.9638211278557678, 0.03594400597116247, 0.9685701121843248, 0.9983188304725259, 0.9983139708923762, 0.24338488264351743, 0.7548734250740345, 0.4395309158400107, 0.11645690932513103, 0.4414092530871902, 0.9966456276824169, 0.9958893965486497, 0.9995773420964743, 0.9929999160626626, 0.995533033140431, 0.9920130756670181, 0.9955421676926792, 0.7750982148680066, 0.6042443819272745, 0.9847016398100767, 0.1342403650899518, 0.03772768430632632, 0.4808086279038797, 0.11055088889760738, 0.23645606791988244, 0.9982092662620874, 0.25568386795363807, 0.7431053805782472, 0.5036888030174859, 0.49431784854274197, 0.9883329972552622, 0.984987908812961, 0.99365219035455, 0.9948383561908363, 0.9330341175318483, 0.04593089259858542, 0.011063645662432984, 0.009387335713579501, 0.9989834236196339, 0.994952754281161, 0.9914934635250343, 0.27739766498918583, 0.7169108484785452, 0.8671367837128046, 0.12968340292133462, 0.9972538575731426, 0.9761851391568728, 0.9940418133197794, 0.9933207837385115, 0.9945334271134132, 0.937045261591048, 0.06265029757656085, 0.9971968445823008, 0.99582542118772, 0.923486061760455, 0.7228689620490033, 0.19575035609468586, 0.08111485344054303, 0.7798520312768792, 0.18668544560828634, 0.020429728009963413, 0.011976047454116482, 0.9993322524728993, 0.8455556131265657, 0.07948683556639378, 0.07372691994564061, 0.9906560217018285, 0.9977218607501871, 0.999491407506759, 0.998098513926149, 0.8011716389091417, 0.1959197020913185, 0.49452988353652716, 0.04964392653262435, 0.3780575943638316, 0.07637527158865284, 0.9839736592980455, 0.9695041821945655, 0.9980165333457632, 0.9965880537401874, 0.5272178364558371, 0.4667174289936918, 0.11284035965255099, 0.884299961358767, 0.996903083509604, 0.9979834222780626, 0.09551998113737599, 0.904114758170543, 0.9992898336403613, 0.9202168686545096, 0.07939537407243394, 0.9944531348625185, 0.005375422350608209, 0.007524489741148566, 0.9907244825845613, 0.9814011290494464, 0.017989022732067247, 0.9993749895966063, 0.9952553230374308, 0.9949310540538636, 0.903812640815811, 0.09603808294383, 0.9805635396549178, 0.9990451798056681, 0.9977013637604513, 0.9803170748850202, 0.9811374539585462, 0.9956722852471103, 0.7264709431568118, 0.22284384759411408, 0.02674126171129369, 0.017827507807529126, 0.9961036251084584, 0.9958246507746725, 0.9910100456399995, 0.9952370688451527, 0.43322176594566003, 0.31021483862858595, 0.22713121228284294, 0.028593715560547923, 0.3263410043736717, 0.6731456360843062, 0.9959124365736381, 0.9984693683410873, 0.9984535771776283, 0.9982785279172219, 0.9696529119177837, 0.37092659782835674, 0.6247184805530218, 0.13616739284516366, 0.4702734792632639, 0.014879218423478148, 0.0387761449823976, 0.339065825892593, 0.9916919988662176, 0.9608514399106104, 0.17723040649621358, 0.8139470520566846, 0.4297113979144075, 0.4727692313301753, 0.05866268579463666, 0.0008669362432704925, 0.03756723720838801, 0.9972572281225455, 0.1858854431172941, 0.7064381563528785, 0.08375865816352382, 0.02351120229151546, 0.9839524380217489, 0.993997809915091, 0.9983846458626914, 0.5087281550473973, 0.49019832158540605, 0.9939035764567868, 0.9969114572109267, 0.9930136734003452, 0.9732404216551337, 0.9985242284817227, 0.9988648635971903, 0.9954046947399637, 0.9975773506274961, 0.9665923087918562, 0.9916564233934658, 0.8183200852369282, 0.18136332997240331, 0.9894687818660367, 0.9905196379397109, 0.9953725225188302, 0.942276752569111, 0.9984485626372371, 0.9927357638003845, 0.9972491785429551, 0.9972251328313095, 0.1585420703900238, 0.24098394699283615, 0.5999231943558501, 0.39021798420935166, 0.6076677006008224, 0.8903550016902475, 0.028788780568571173, 0.08045606225123865, 0.9846543867283638, 0.9978810740017307, 0.9995353686412136, 0.996174436871467, 0.9961768321224764, 0.9418223164931314, 0.9526298011440605, 0.404557722429206, 0.593719524384159, 0.5454257905894832, 0.41695536252213905, 0.037279365287398954, 0.5305456720094421, 0.03369989676283152, 0.03779853285560832, 0.220870944999639, 0.1766967559997112, 0.9111426250840706, 0.06835370365255201, 0.020455692136274788, 0.9989997079015411, 0.9999118996487854, 0.17001596690832532, 0.04064954182624881, 0.18959895786111672, 0.59935820794907, 0.7586474070070819, 0.1842532438120812, 0.056970670298060334, 0.9685461691692833, 0.4604478924317788, 0.5367184022210919], \"Term\": [\"absolute\", \"absurd\", \"accessories\", \"accidental\", \"accomplish\", \"accomplish\", \"action\", \"actions\", \"activity\", \"actually\", \"actually\", \"adapters\", \"adding\", \"adequately\", \"administration\", \"adobe\", \"advance\", \"advisory\", \"afford\", \"aged\", \"agency\", \"agency\", \"alan\", \"alan\", \"algorithm\", \"algorithms\", \"also\", \"also\", \"also\", \"also\", \"also\", \"always\", \"andrew\", \"angle\", \"animals\", \"annoying\", \"antenna\", \"anyone\", \"anyone\", \"anything\", \"anything\", \"anyway\", \"apollo\", \"apple\", \"appreciate\", \"appreciated\", \"april\", \"april\", \"april\", \"arab\", \"arabs\", \"aren\", \"argument\", \"argument\", \"armenia\", \"armenian\", \"armenians\", \"arms\", \"arms\", \"army\", \"article\", \"asking\", \"asking\", \"asking\", \"aspects\", \"aspects\", \"assault\", \"assumption\", \"astronomy\", \"atheism\", \"atheists\", \"atlanta\", \"attacks\", \"attacks\", \"attacks\", \"australia\", \"author\", \"author\", \"author\", \"authority\", \"authority\", \"auto\", \"auto\", \"auto\", \"automatic\", \"automatic\", \"autos\", \"available\", \"available\", \"available\", \"aware\", \"baby\", \"back\", \"back\", \"backup\", \"baker\", \"band\", \"bands\", \"bare\", \"bars\", \"based\", \"based\", \"based\", \"batf\", \"beautiful\", \"became\", \"becomes\", \"behalf\", \"beings\", \"belief\", \"beliefs\", \"believe\", \"believe\", \"believe\", \"believed\", \"bell\", \"besides\", \"best\", \"best\", \"best\", \"best\", \"best\", \"bible\", \"biblical\", \"bill\", \"bill\", \"birth\", \"birth\", \"birth\", \"blank\", \"blue\", \"board\", \"boards\", \"book\", \"book\", \"book\", \"book\", \"books\", \"boots\", \"boston\", \"brand\", \"break\", \"brewers\", \"brian\", \"broke\", \"brother\", \"brown\", \"bullpen\", \"button\", \"cable\", \"california\", \"camera\", \"canada\", \"canadian\", \"cannot\", \"cannot\", \"cannot\", \"cannot\", \"canon\", \"captain\", \"capture\", \"card\", \"cards\", \"carl\", \"carry\", \"carry\", \"carry\", \"carry\", \"carry\", \"cars\", \"case\", \"case\", \"case\", \"cases\", \"cases\", \"cases\", \"caution\", \"cellular\", \"center\", \"center\", \"center\", \"center\", \"center\", \"center\", \"centre\", \"changing\", \"channels\", \"characters\", \"checked\", \"checks\", \"chicago\", \"child\", \"child\", \"children\", \"children\", \"children\", \"children\", \"chip\", \"chips\", \"christ\", \"christian\", \"christianity\", \"christians\", \"church\", \"churchill\", \"city\", \"city\", \"city\", \"civil\", \"claim\", \"claim\", \"clause\", \"click\", \"clinton\", \"clinton\", \"clipper\", \"closed\", \"closed\", \"code\", \"code\", \"college\", \"color\", \"come\", \"come\", \"communications\", \"communications\", \"compilers\", \"computer\", \"concept\", \"concerned\", \"concerns\", \"condition\", \"condition\", \"conference\", \"constitution\", \"construction\", \"context\", \"control\", \"control\", \"control\", \"control\", \"control\", \"controller\", \"convert\", \"copies\", \"copy\", \"corn\", \"corp\", \"corporation\", \"could\", \"could\", \"countries\", \"countries\", \"course\", \"course\", \"court\", \"coverage\", \"craig\", \"crew\", \"crime\", \"crime\", \"criminal\", \"criminals\", \"crypto\", \"cubs\", \"curious\", \"custom\", \"cute\", \"cycle\", \"cycles\", \"data\", \"data\", \"data\", \"dates\", \"dave\", \"death\", \"death\", \"death\", \"debate\", \"degrees\", \"deny\", \"deny\", \"depth\", \"designs\", \"details\", \"details\", \"detroit\", \"developers\", \"didn\", \"died\", \"diet\", \"dinner\", \"direct\", \"dirty\", \"disagree\", \"disease\", \"disk\", \"distant\", \"division\", \"doctor\", \"documented\", \"donald\", \"door\", \"doors\", \"double\", \"doug\", \"douglas\", \"draft\", \"draw\", \"drive\", \"driver\", \"driver\", \"drivers\", \"drives\", \"drug\", \"dual\", \"dual\", \"dynamics\", \"earth\", \"earth\", \"edge\", \"edge\", \"edit\", \"einstein\", \"email\", \"employer\", \"encryption\", \"energy\", \"energy\", \"enforcement\", \"enforcement\", \"engine\", \"engines\", \"enhanced\", \"enough\", \"enters\", \"entitled\", \"entry\", \"environmental\", \"equalizer\", \"equipment\", \"errors\", \"ethnic\", \"even\", \"even\", \"ever\", \"ever\", \"everything\", \"everything\", \"everything\", \"evidence\", \"evidence\", \"exactly\", \"example\", \"example\", \"example\", \"example\", \"example\", \"excellent\", \"excellent\", \"excellent\", \"excerpts\", \"exist\", \"exist\", \"exists\", \"exists\", \"exists\", \"expensive\", \"expensive\", \"experiment\", \"explain\", \"explaining\", \"export\", \"exposure\", \"face\", \"fact\", \"fact\", \"fact\", \"fact\", \"factors\", \"factory\", \"failed\", \"failed\", \"faith\", \"false\", \"family\", \"fancy\", \"fans\", \"fasst\", \"father\", \"fatwa\", \"feature\", \"federal\", \"field\", \"field\", \"file\", \"file\", \"files\", \"files\", \"filter\", \"fire\", \"fire\", \"fire\", \"fire\", \"firearms\", \"first\", \"first\", \"first\", \"first\", \"first\", \"fixed\", \"flight\", \"floppies\", \"floppy\", \"flow\", \"font\", \"force\", \"force\", \"force\", \"force\", \"force\", \"forever\", \"formats\", \"forum\", \"forum\", \"frame\", \"fred\", \"friend\", \"fuel\", \"fuel\", \"function\", \"functionality\", \"functions\", \"fuzzy\", \"game\", \"games\", \"gary\", \"generated\", \"georgia\", \"germany\", \"germany\", \"goal\", \"goal\", \"goal\", \"going\", \"good\", \"good\", \"good\", \"government\", \"government\", \"government\", \"graphic\", \"graphics\", \"greek\", \"greek\", \"greeks\", \"green\", \"ground\", \"ground\", \"group\", \"group\", \"group\", \"group\", \"groups\", \"groups\", \"guerilla\", \"guess\", \"guns\", \"handguns\", \"hardware\", \"headaches\", \"health\", \"hear\", \"heard\", \"heard\", \"heat\", \"heaven\", \"hell\", \"helmet\", \"help\", \"help\", \"hitler\", \"hits\", \"hitter\", \"hitting\", \"hitting\", \"hole\", \"holy\", \"honest\", \"hope\", \"host\", \"host\", \"hour\", \"house\", \"house\", \"house\", \"house\", \"houses\", \"however\", \"however\", \"however\", \"however\", \"human\", \"human\", \"icon\", \"icons\", \"ideas\", \"ideas\", \"ideas\", \"ignored\", \"illinois\", \"image\", \"images\", \"images\", \"imagination\", \"imaging\", \"impact\", \"impossible\", \"impossible\", \"include\", \"include\", \"include\", \"include\", \"include\", \"individual\", \"industry\", \"info\", \"information\", \"information\", \"information\", \"information\", \"information\", \"information\", \"informed\", \"inhabitants\", \"innings\", \"input\", \"input\", \"installed\", \"insurance\", \"intel\", \"internal\", \"interpretation\", \"introduce\", \"investment\", \"investors\", \"iran\", \"iron\", \"islam\", \"islamic\", \"islamic\", \"israel\", \"isreal\", \"issue\", \"issue\", \"japan\", \"japanese\", \"jason\", \"jeffrey\", \"jesus\", \"jewish\", \"jewish\", \"jews\", \"jews\", \"john\", \"john\", \"john\", \"john\", \"john\", \"jose\", \"jpeg\", \"june\", \"keys\", \"khomeini\", \"kids\", \"killed\", \"killed\", \"knew\", \"know\", \"know\", \"koresh\", \"land\", \"land\", \"larger\", \"last\", \"last\", \"last\", \"last\", \"last\", \"launch\", \"launched\", \"laws\", \"lawyers\", \"leadership\", \"leafs\", \"leather\", \"legal\", \"level\", \"level\", \"level\", \"levels\", \"levels\", \"license\", \"licensing\", \"life\", \"life\", \"life\", \"lifetime\", \"like\", \"like\", \"liked\", \"line\", \"line\", \"line\", \"line\", \"liquid\", \"list\", \"list\", \"list\", \"list\", \"listen\", \"listen\", \"lists\", \"lists\", \"little\", \"lloyd\", \"located\", \"logic\", \"login\", \"lost\", \"lost\", \"lots\", \"louis\", \"lowest\", \"lunar\", \"luxury\", \"machine\", \"machines\", \"magazines\", \"mail\", \"mail\", \"mailing\", \"maintained\", \"make\", \"make\", \"make\", \"manager\", \"manual\", \"many\", \"many\", \"many\", \"many\", \"many\", \"mars\", \"master\", \"maybe\", \"medical\", \"medicine\", \"meeting\", \"memory\", \"menu\", \"message\", \"message\", \"message\", \"message\", \"might\", \"might\", \"might\", \"might\", \"military\", \"militia\", \"million\", \"million\", \"mission\", \"mission\", \"missions\", \"model\", \"model\", \"model\", \"modular\", \"molecular\", \"money\", \"monitor\", \"moon\", \"moral\", \"morality\", \"motorola\", \"mouse\", \"much\", \"much\", \"muslim\", \"muslim\", \"muslims\", \"muslims\", \"must\", \"must\", \"must\", \"must\", \"nasa\", \"national\", \"national\", \"national\", \"navy\", \"nearby\", \"need\", \"need\", \"need\", \"needs\", \"needs\", \"needs\", \"netters\", \"network\", \"never\", \"never\", \"next\", \"next\", \"next\", \"nist\", \"normal\", \"normal\", \"northern\", \"northern\", \"noted\", \"notice\", \"nuclear\", \"nuclear\", \"number\", \"number\", \"number\", \"number\", \"number\", \"number\", \"objective\", \"observer\", \"occupation\", \"occupation\", \"occupied\", \"occupied\", \"offense\", \"offer\", \"offer\", \"offers\", \"office\", \"office\", \"office\", \"orbit\", \"order\", \"order\", \"order\", \"order\", \"order\", \"others\", \"others\", \"others\", \"others\", \"others\", \"others\", \"output\", \"ozone\", \"package\", \"packet\", \"paper\", \"parking\", \"part\", \"part\", \"part\", \"particularly\", \"particularly\", \"passing\", \"patients\", \"pays\", \"peace\", \"peace\", \"penguins\", \"pens\", \"people\", \"people\", \"people\", \"percent\", \"percentage\", \"percentage\", \"period\", \"person\", \"person\", \"person\", \"phone\", \"phone\", \"phones\", \"physical\", \"picture\", \"picture\", \"pitched\", \"pittsburgh\", \"plan\", \"plan\", \"plane\", \"planet\", \"planetary\", \"play\", \"played\", \"player\", \"playing\", \"please\", \"please\", \"please\", \"point\", \"point\", \"point\", \"point\", \"pointer\", \"points\", \"points\", \"points\", \"pole\", \"police\", \"police\", \"police\", \"popular\", \"population\", \"population\", \"portable\", \"positively\", \"possibility\", \"possibly\", \"posting\", \"posting\", \"power\", \"power\", \"power\", \"power\", \"preach\", \"prefer\", \"president\", \"president\", \"press\", \"press\", \"press\", \"pretty\", \"prevent\", \"prevention\", \"price\", \"price\", \"price\", \"prices\", \"primary\", \"printer\", \"privacy\", \"private\", \"private\", \"private\", \"prize\", \"probably\", \"probably\", \"problem\", \"problem\", \"problem\", \"process\", \"process\", \"production\", \"program\", \"program\", \"program\", \"programs\", \"project\", \"project\", \"project\", \"projects\", \"properly\", \"proposal\", \"propulsion\", \"protect\", \"protect\", \"protect\", \"protect\", \"providing\", \"public\", \"public\", \"public\", \"public\", \"public\", \"purchased\", \"qualified\", \"quick\", \"quote\", \"radar\", \"raised\", \"rate\", \"rate\", \"rate\", \"rates\", \"rates\", \"rates\", \"rational\", \"really\", \"reason\", \"reason\", \"reason\", \"reduced\", \"reduced\", \"regards\", \"register\", \"registration\", \"religion\", \"religious\", \"religious\", \"remember\", \"remove\", \"replaced\", \"report\", \"report\", \"reported\", \"reported\", \"reported\", \"request\", \"request\", \"request\", \"research\", \"research\", \"research\", \"research\", \"reston\", \"return\", \"return\", \"revelation\", \"revolvers\", \"richard\", \"richard\", \"right\", \"right\", \"rights\", \"rights\", \"river\", \"rockets\", \"room\", \"route\", \"routines\", \"ruled\", \"runs\", \"runs\", \"rushdie\", \"russia\", \"russian\", \"rutgers\", \"safety\", \"safety\", \"said\", \"said\", \"said\", \"sale\", \"satan\", \"satellite\", \"satellites\", \"saturn\", \"science\", \"science\", \"science\", \"science\", \"scientific\", \"scientific\", \"screen\", \"script\", \"scripture\", \"scsi\", \"season\", \"secret\", \"section\", \"section\", \"secure\", \"security\", \"security\", \"seldom\", \"self\", \"sell\", \"sell\", \"sell\", \"selling\", \"semi\", \"semi\", \"send\", \"send\", \"senses\", \"serial\", \"series\", \"series\", \"serious\", \"serious\", \"service\", \"service\", \"service\", \"services\", \"sets\", \"severe\", \"severe\", \"shall\", \"shall\", \"shape\", \"shareware\", \"shell\", \"shows\", \"shuttle\", \"sight\", \"signal\", \"signals\", \"significant\", \"society\", \"society\", \"soft\", \"software\", \"solar\", \"soldiers\", \"solid\", \"solutions\", \"something\", \"something\", \"sons\", \"sorry\", \"sort\", \"sound\", \"sound\", \"sounds\", \"sounds\", \"sounds\", \"south\", \"soviet\", \"space\", \"spacecraft\", \"speaking\", \"specs\", \"sports\", \"spray\", \"spss\", \"staff\", \"state\", \"state\", \"state\", \"state\", \"state\", \"statement\", \"states\", \"states\", \"station\", \"station\", \"statistics\", \"stats\", \"status\", \"step\", \"still\", \"still\", \"still\", \"still\", \"stop\", \"strange\", \"strip\", \"studies\", \"studies\", \"study\", \"study\", \"stupid\", \"succeeded\", \"suggested\", \"super\", \"supports\", \"sure\", \"sure\", \"surface\", \"switch\", \"sympathy\", \"system\", \"system\", \"system\", \"systems\", \"systems\", \"systems\", \"systems\", \"take\", \"talking\", \"talking\", \"talking\", \"tanks\", \"tape\", \"team\", \"teams\", \"technical\", \"technical\", \"technology\", \"technology\", \"technology\", \"technology\", \"telescope\", \"territories\", \"terrorism\", \"terrorist\", \"terrorists\", \"terrorists\", \"test\", \"test\", \"texas\", \"thank\", \"thanks\", \"thanks\", \"thing\", \"things\", \"things\", \"think\", \"think\", \"thomas\", \"thomas\", \"though\", \"though\", \"thought\", \"thread\", \"throw\", \"time\", \"time\", \"tiny\", \"told\", \"toronto\", \"toyota\", \"trace\", \"traded\", \"training\", \"training\", \"training\", \"training\", \"treatment\", \"trial\", \"trivial\", \"troops\", \"true\", \"true\", \"true\", \"true\", \"truth\", \"truth\", \"turkey\", \"turkish\", \"turks\", \"turn\", \"twelve\", \"unit\", \"unit\", \"university\", \"university\", \"university\", \"university\", \"university\", \"upgrade\", \"upgraded\", \"usage\", \"usage\", \"used\", \"used\", \"used\", \"used\", \"used\", \"users\", \"using\", \"using\", \"using\", \"using\", \"utilities\", \"utility\", \"uunet\", \"value\", \"value\", \"values\", \"vehicle\", \"venus\", \"verify\", \"version\", \"video\", \"village\", \"villages\", \"visits\", \"voltage\", \"want\", \"want\", \"warning\", \"warrant\", \"warranty\", \"wash\", \"washington\", \"waste\", \"weapon\", \"weapons\", \"week\", \"week\", \"week\", \"weight\", \"weight\", \"well\", \"well\", \"well\", \"widgets\", \"window\", \"windows\", \"wings\", \"withdraw\", \"withdrawal\", \"wives\", \"women\", \"women\", \"work\", \"work\", \"work\", \"world\", \"world\", \"world\", \"world\", \"world\", \"would\", \"would\", \"would\", \"wouldn\", \"writes\", \"year\", \"year\", \"year\", \"year\", \"years\", \"years\", \"years\", \"yellow\", \"zone\", \"zone\"]}, \"R\": 30, \"lambda.step\": 0.01, \"plot.opts\": {\"xlab\": \"PC1\", \"ylab\": \"PC2\"}, \"topic.order\": [3, 4, 20, 19, 17, 11, 16, 5, 18, 10, 13, 7, 12, 14, 2, 15, 1, 8, 9, 6]};\n",
       "\n",
       "function LDAvis_load_lib(url, callback){\n",
       "  var s = document.createElement('script');\n",
       "  s.src = url;\n",
       "  s.async = true;\n",
       "  s.onreadystatechange = s.onload = callback;\n",
       "  s.onerror = function(){console.warn(\"failed to load library \" + url);};\n",
       "  document.getElementsByTagName(\"head\")[0].appendChild(s);\n",
       "}\n",
       "\n",
       "if(typeof(LDAvis) !== \"undefined\"){\n",
       "   // already loaded: just create the visualization\n",
       "   !function(LDAvis){\n",
       "       new LDAvis(\"#\" + \"ldavis_el647219180049345766551483667\", ldavis_el647219180049345766551483667_data);\n",
       "   }(LDAvis);\n",
       "}else if(typeof define === \"function\" && define.amd){\n",
       "   // require.js is available: use it to load d3/LDAvis\n",
       "   require.config({paths: {d3: \"https://d3js.org/d3.v5\"}});\n",
       "   require([\"d3\"], function(d3){\n",
       "      window.d3 = d3;\n",
       "      LDAvis_load_lib(\"https://cdn.jsdelivr.net/gh/bmabey/pyLDAvis@3.3.1/pyLDAvis/js/ldavis.v3.0.0.js\", function(){\n",
       "        new LDAvis(\"#\" + \"ldavis_el647219180049345766551483667\", ldavis_el647219180049345766551483667_data);\n",
       "      });\n",
       "    });\n",
       "}else{\n",
       "    // require.js not available: dynamically load d3 & LDAvis\n",
       "    LDAvis_load_lib(\"https://d3js.org/d3.v5.js\", function(){\n",
       "         LDAvis_load_lib(\"https://cdn.jsdelivr.net/gh/bmabey/pyLDAvis@3.3.1/pyLDAvis/js/ldavis.v3.0.0.js\", function(){\n",
       "                 new LDAvis(\"#\" + \"ldavis_el647219180049345766551483667\", ldavis_el647219180049345766551483667_data);\n",
       "            })\n",
       "         });\n",
       "}\n",
       "</script>"
      ],
      "text/plain": [
       "PreparedData(topic_coordinates=              x         y  topics  cluster       Freq\n",
       "topic                                                \n",
       "2      0.379847  0.057348       1        1  39.138348\n",
       "3      0.312098  0.042012       2        1  16.143784\n",
       "19     0.295581  0.139555       3        1  10.691289\n",
       "18     0.147513 -0.138851       4        1   5.289624\n",
       "16     0.106673 -0.240290       5        1   4.793683\n",
       "10     0.074291 -0.231451       6        1   4.472657\n",
       "15     0.156615  0.210886       7        1   3.875741\n",
       "4      0.020870 -0.087255       8        1   2.950851\n",
       "17    -0.029192 -0.069701       9        1   2.605739\n",
       "9     -0.043990 -0.004854      10        1   1.645029\n",
       "12    -0.073648  0.036319      11        1   1.536704\n",
       "6     -0.092087  0.034001      12        1   1.284614\n",
       "11    -0.120362  0.014515      13        1   1.068297\n",
       "13    -0.142806  0.041519      14        1   1.060877\n",
       "1     -0.143534  0.016423      15        1   0.811749\n",
       "14    -0.149767  0.042439      16        1   0.757445\n",
       "0     -0.155386  0.030878      17        1   0.709784\n",
       "7     -0.173996  0.031135      18        1   0.462340\n",
       "8     -0.180844  0.039892      19        1   0.413103\n",
       "5     -0.187875  0.035478      20        1   0.288343, topic_info=              Term          Freq         Total Category  logprob  loglift\n",
       "215         writes  12044.000000  12044.000000  Default  30.0000   30.000\n",
       "140         people   8892.000000   8892.000000  Default  29.0000   29.000\n",
       "184        article  10411.000000  10411.000000  Default  28.0000   28.000\n",
       "901          space   2033.000000   2033.000000  Default  27.0000   27.000\n",
       "1902        israel   1592.000000   1592.000000  Default  26.0000   26.000\n",
       "...            ...           ...           ...      ...      ...      ...\n",
       "7888     implement      0.037402      1.348180  Topic20 -11.5355    2.264\n",
       "10911      prophet      0.037402      1.348170  Topic20 -11.5355    2.264\n",
       "5146        reject      0.037402      1.348186  Topic20 -11.5355    2.264\n",
       "7322   contradicts      0.037402      1.348166  Topic20 -11.5355    2.264\n",
       "8388     principle      0.037402      1.348184  Topic20 -11.5355    2.264\n",
       "\n",
       "[897 rows x 6 columns], token_table=      Topic      Freq         Term\n",
       "term                              \n",
       "577       7  0.992639     absolute\n",
       "397      19  0.972492       absurd\n",
       "933      19  0.921913  accessories\n",
       "259      13  0.984684   accidental\n",
       "2862      7  0.782438   accomplish\n",
       "...     ...       ...          ...\n",
       "39        4  0.184253        years\n",
       "39        6  0.056971        years\n",
       "1368     17  0.968546       yellow\n",
       "2757      9  0.460448         zone\n",
       "2757     16  0.536718         zone\n",
       "\n",
       "[1225 rows x 3 columns], R=30, lambda_step=0.01, plot_opts={'xlab': 'PC1', 'ylab': 'PC2'}, topic_order=[3, 4, 20, 19, 17, 11, 16, 5, 18, 10, 13, 7, 12, 14, 2, 15, 1, 8, 9, 6])"
      ]
     },
     "execution_count": 22,
     "metadata": {},
     "output_type": "execute_result"
    }
   ],
   "source": [
    "vis"
   ]
  },
  {
   "cell_type": "markdown",
   "id": "juvenile-london",
   "metadata": {},
   "source": [
    "pyLDAvis allows us to easily interpret the model's results. We can see that through unsupervised learning the model has found for us the desired 20 clusters (or topics) of data. It now falls on us, as the rersearcher, to interpret these clusters. If I were to assign a label to Cluster 7, for example, I might assign the word \"religious\". This is because the words that are associated with cluster 7 are clearly religious in nature. Cluster 9, likewise, deals with sports. Cluster 8 deals with encryption.\n",
    "\n",
    "One of the notable problems with this result is the different conjugation forms of stop words, specifically the verb \"to be\". This can be seen in the high priority of Cluster 4 with the word \"would\". One of the ways to improve results is through something known as lemmatization, or the reduction of a word to a specific root, or lemma. This takes all the forms of a specific verb or noun and reduces them to a single standard form. The verbs \"would\", \"was, and \"am\", therefore, all become \"is\" in lemmatization. Likewise, the words \"teams\" and \"team\" become \"team\". Lemmatization reduces a text further and typically improves the results.\n",
    "\n",
    "Lemmatization can, however, be computationally expensive."
   ]
  },
  {
   "cell_type": "code",
   "execution_count": null,
   "id": "inner-suite",
   "metadata": {},
   "outputs": [],
   "source": []
  },
  {
   "cell_type": "code",
   "execution_count": null,
   "id": "tired-outreach",
   "metadata": {},
   "outputs": [],
   "source": []
  },
  {
   "cell_type": "code",
   "execution_count": null,
   "id": "controlling-steps",
   "metadata": {},
   "outputs": [],
   "source": []
  },
  {
   "cell_type": "code",
   "execution_count": null,
   "id": "impaired-david",
   "metadata": {},
   "outputs": [],
   "source": []
  },
  {
   "cell_type": "code",
   "execution_count": null,
   "id": "stone-transcription",
   "metadata": {},
   "outputs": [],
   "source": []
  },
  {
   "cell_type": "code",
   "execution_count": null,
   "id": "occasional-rental",
   "metadata": {},
   "outputs": [],
   "source": []
  },
  {
   "cell_type": "code",
   "execution_count": null,
   "id": "expanded-thanks",
   "metadata": {},
   "outputs": [],
   "source": []
  },
  {
   "cell_type": "code",
   "execution_count": null,
   "id": "individual-kuwait",
   "metadata": {},
   "outputs": [],
   "source": []
  },
  {
   "cell_type": "code",
   "execution_count": null,
   "id": "reported-copying",
   "metadata": {},
   "outputs": [],
   "source": []
  },
  {
   "cell_type": "code",
   "execution_count": null,
   "id": "hidden-northern",
   "metadata": {},
   "outputs": [],
   "source": []
  },
  {
   "cell_type": "code",
   "execution_count": null,
   "id": "fifty-crown",
   "metadata": {},
   "outputs": [],
   "source": []
  },
  {
   "cell_type": "code",
   "execution_count": null,
   "id": "informative-insurance",
   "metadata": {},
   "outputs": [],
   "source": []
  },
  {
   "cell_type": "code",
   "execution_count": null,
   "id": "centered-apparel",
   "metadata": {},
   "outputs": [],
   "source": []
  },
  {
   "cell_type": "code",
   "execution_count": null,
   "id": "british-growth",
   "metadata": {},
   "outputs": [],
   "source": []
  },
  {
   "cell_type": "code",
   "execution_count": null,
   "id": "accessory-grace",
   "metadata": {},
   "outputs": [],
   "source": []
  },
  {
   "cell_type": "code",
   "execution_count": null,
   "id": "intimate-dylan",
   "metadata": {},
   "outputs": [],
   "source": []
  },
  {
   "cell_type": "code",
   "execution_count": null,
   "id": "radical-virgin",
   "metadata": {},
   "outputs": [],
   "source": []
  }
 ],
 "metadata": {
  "kernelspec": {
   "display_name": "Python 3",
   "language": "python",
   "name": "python3"
  },
  "language_info": {
   "codemirror_mode": {
    "name": "ipython",
    "version": 3
   },
   "file_extension": ".py",
   "mimetype": "text/x-python",
   "name": "python",
   "nbconvert_exporter": "python",
   "pygments_lexer": "ipython3",
   "version": "3.8.8"
  }
 },
 "nbformat": 4,
 "nbformat_minor": 5
}
