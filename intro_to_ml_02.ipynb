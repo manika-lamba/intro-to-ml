{
 "cells": [
  {
   "cell_type": "markdown",
   "id": "fallen-oasis",
   "metadata": {},
   "source": [
    "# Introduction to Machine Learning<br><br>Day 02:<br>Topic Modeling"
   ]
  },
  {
   "cell_type": "markdown",
   "id": "assigned-separate",
   "metadata": {},
   "source": [
    "<center>Dr. William Mattingly<br>\n",
    "TAP Institute with JSTOR</center>"
   ]
  },
  {
   "cell_type": "markdown",
   "id": "together-measurement",
   "metadata": {},
   "source": [
    "## Preface"
   ]
  },
  {
   "cell_type": "markdown",
   "id": "ranging-limit",
   "metadata": {},
   "source": [
    "In the last notebook, we learned about some of the fundamental concepts and terms for engaging in machine learning. In this notebook, we begin to apply those concepts to an unsuperivsed learning problem: topic modeling. This is an unsupervsed learning problem because we will not know the number of topics found within our corpus. Instead, we want to create a model that will cluster the data and find topics (based on a number we assign) across an entire corpus."
   ]
  },
  {
   "cell_type": "markdown",
   "id": "frequent-sending",
   "metadata": {},
   "source": [
    "## Covered in this Notebook"
   ]
  },
  {
   "cell_type": "markdown",
   "id": "younger-oxide",
   "metadata": {},
   "source": [
    "1) What is topic modeling?<br>\n",
    "2) When should I use topic modeling?<br>\n",
    "3) Clusters<br>\n",
    "4) Topics<br>\n",
    "5) The Gensim Library in Python"
   ]
  },
  {
   "cell_type": "markdown",
   "id": "induced-texas",
   "metadata": {},
   "source": [
    "## Part One - What is Topic Modeling?"
   ]
  },
  {
   "cell_type": "markdown",
   "id": "substantial-diving",
   "metadata": {},
   "source": []
  },
  {
   "cell_type": "markdown",
   "id": "ready-function",
   "metadata": {},
   "source": [
    "## Part Two - When to Use Topic Modeling"
   ]
  },
  {
   "cell_type": "markdown",
   "id": "alternate-miracle",
   "metadata": {},
   "source": []
  },
  {
   "cell_type": "markdown",
   "id": "desirable-timing",
   "metadata": {},
   "source": [
    "## Part Three - What are Clusters and Topics?"
   ]
  },
  {
   "cell_type": "markdown",
   "id": "german-polymer",
   "metadata": {},
   "source": []
  },
  {
   "cell_type": "markdown",
   "id": "automotive-couple",
   "metadata": {},
   "source": [
    "## Part Four - Introduction to Gensim"
   ]
  },
  {
   "cell_type": "markdown",
   "id": "described-columbia",
   "metadata": {},
   "source": []
  },
  {
   "cell_type": "markdown",
   "id": "close-affiliate",
   "metadata": {},
   "source": []
  },
  {
   "cell_type": "code",
   "execution_count": null,
   "id": "spoken-audit",
   "metadata": {},
   "outputs": [],
   "source": []
  }
 ],
 "metadata": {
  "kernelspec": {
   "display_name": "Python 3",
   "language": "python",
   "name": "python3"
  },
  "language_info": {
   "codemirror_mode": {
    "name": "ipython",
    "version": 3
   },
   "file_extension": ".py",
   "mimetype": "text/x-python",
   "name": "python",
   "nbconvert_exporter": "python",
   "pygments_lexer": "ipython3",
   "version": "3.8.8"
  }
 },
 "nbformat": 4,
 "nbformat_minor": 5
}
