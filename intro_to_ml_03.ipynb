{
 "cells": [
  {
   "cell_type": "markdown",
   "id": "nutritional-basin",
   "metadata": {},
   "source": [
    "# Introduction to Machine Learning<br><br>Day 03:<br>Text Classification"
   ]
  },
  {
   "cell_type": "markdown",
   "id": "lined-domestic",
   "metadata": {},
   "source": [
    "<center>Dr. William Mattingly<br>\n",
    "TAP Institute with JSTOR</center>"
   ]
  },
  {
   "cell_type": "markdown",
   "id": "colonial-skating",
   "metadata": {},
   "source": [
    "1) What is text classification?<br>\n",
    "2) When should I use text classification?<br>\n",
    "3) spaCy's Text Classification Pipeline<br>\n",
    "4) Resources for future exploration of ML"
   ]
  },
  {
   "cell_type": "markdown",
   "id": "orange-bhutan",
   "metadata": {},
   "source": [
    "## Part One - Introduction to Text Classification"
   ]
  },
  {
   "cell_type": "markdown",
   "id": "existing-suite",
   "metadata": {},
   "source": []
  },
  {
   "cell_type": "markdown",
   "id": "constant-terminology",
   "metadata": {},
   "source": [
    "## Part Two - When to Use Text Classification"
   ]
  },
  {
   "cell_type": "markdown",
   "id": "medieval-development",
   "metadata": {},
   "source": []
  },
  {
   "cell_type": "markdown",
   "id": "split-snake",
   "metadata": {},
   "source": [
    "## Part Three - How to Collate Training Data"
   ]
  },
  {
   "cell_type": "markdown",
   "id": "wrong-stamp",
   "metadata": {},
   "source": []
  },
  {
   "cell_type": "markdown",
   "id": "expired-reconstruction",
   "metadata": {},
   "source": [
    "## Part Four - Introduction to spaCy's Text Classification Pipeline"
   ]
  },
  {
   "cell_type": "markdown",
   "id": "spiritual-affairs",
   "metadata": {},
   "source": []
  },
  {
   "cell_type": "markdown",
   "id": "vertical-capital",
   "metadata": {},
   "source": []
  },
  {
   "cell_type": "markdown",
   "id": "parallel-projector",
   "metadata": {},
   "source": []
  },
  {
   "cell_type": "markdown",
   "id": "institutional-gravity",
   "metadata": {},
   "source": [
    "## Conclusion"
   ]
  },
  {
   "cell_type": "markdown",
   "id": "distinct-disposition",
   "metadata": {},
   "source": []
  },
  {
   "cell_type": "markdown",
   "id": "tracked-april",
   "metadata": {},
   "source": [
    "## Resources for Further work with Machine Learning"
   ]
  },
  {
   "cell_type": "markdown",
   "id": "speaking-demand",
   "metadata": {},
   "source": []
  }
 ],
 "metadata": {
  "kernelspec": {
   "display_name": "Python 3",
   "language": "python",
   "name": "python3"
  },
  "language_info": {
   "codemirror_mode": {
    "name": "ipython",
    "version": 3
   },
   "file_extension": ".py",
   "mimetype": "text/x-python",
   "name": "python",
   "nbconvert_exporter": "python",
   "pygments_lexer": "ipython3",
   "version": "3.8.8"
  }
 },
 "nbformat": 4,
 "nbformat_minor": 5
}
